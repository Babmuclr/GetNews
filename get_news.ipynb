{
 "cells": [
  {
   "cell_type": "code",
   "execution_count": 1,
   "metadata": {},
   "outputs": [],
   "source": [
    "import urllib\n",
    "from urllib import request  # urllib.requestモジュールをインポート\n",
    "from bs4 import BeautifulSoup  # BeautifulSoupクラスをインポート\n",
    "import lxml\n",
    "from newspaper import Article"
   ]
  },
  {
   "cell_type": "code",
   "execution_count": 2,
   "metadata": {},
   "outputs": [
    {
     "name": "stdout",
     "output_type": "stream",
     "text": [
      "2022-1-13\n"
     ]
    }
   ],
   "source": [
    "import datetime as dt \n",
    "now = dt.datetime.utcnow()\n",
    "now -= dt.timedelta(days=1)\n",
    "year, month, day = now.year, now.month, now.day\n",
    "limit_date = str(year) + \"-\" + str(month) + \"-\" + str(day)\n",
    "date = str(year) + \"-\" + str(month)\n",
    "print(limit_date) "
   ]
  },
  {
   "cell_type": "code",
   "execution_count": 3,
   "metadata": {},
   "outputs": [],
   "source": [
    "website_names = [\" - Reuters\", \" - Bloomberg\", \" - CNBC\", \" - TheStreet\", \" - Fox Business\"]\n",
    "website_names_2 = [\"Reuters\", \"Bloomberg\", \"CNBC\", \"TheStreet\", \"Fox Business\"]"
   ]
  },
  {
   "cell_type": "code",
   "execution_count": 5,
   "metadata": {},
   "outputs": [
    {
     "data": {
      "text/plain": [
       "[<item><title>US Supreme Court blocks Biden's workplace vaccine mandate - BBC News</title><link>https://news.google.com/__i/rss/rd/articles/CBMiMWh0dHBzOi8vd3d3LmJiYy5jb20vbmV3cy93b3JsZC11cy1jYW5hZGEtNTk5ODk0NzbSAQA?oc=5</link><guid isPermaLink=\"false\">1211881030</guid><pubDate>Fri, 14 Jan 2022 03:31:15 GMT</pubDate><description>&lt;ol&gt;&lt;li&gt;&lt;a href=\"https://news.google.com/__i/rss/rd/articles/CBMiMWh0dHBzOi8vd3d3LmJiYy5jb20vbmV3cy93b3JsZC11cy1jYW5hZGEtNTk5ODk0NzbSAQA?oc=5\" target=\"_blank\"&gt;US Supreme Court blocks Biden's workplace vaccine mandate&lt;/a&gt;&amp;nbsp;&amp;nbsp;&lt;font color=\"#6f6f6f\"&gt;BBC News&lt;/font&gt;&lt;/li&gt;&lt;li&gt;&lt;a href=\"https://news.google.com/__i/rss/rd/articles/CBMiYmh0dHBzOi8vd3d3LmZveGJ1c2luZXNzLmNvbS9wb2xpdGljcy9zdXByZW1lLWNvdXJ0LWJpZGVuLXZhY2NpbmUtbWFuZGF0ZXMtb3NoYS1oZWFsdGgtY2FyZS13b3JrZXJz0gEA?oc=5\" target=\"_blank\"&gt;Supreme Court blocks Biden OSHA vaccine mandate, allows rule for health care workers&lt;/a&gt;&amp;nbsp;&amp;nbsp;&lt;font color=\"#6f6f6f\"&gt;Fox Business&lt;/font&gt;&lt;/li&gt;&lt;li&gt;&lt;a href=\"https://news.google.com/__i/rss/rd/articles/CBMiWWh0dHBzOi8vd3d3LmNubi5jb20vMjAyMi8wMS8xMy9wb2xpdGljcy9zdXByZW1lLWNvdXJ0LXZhY2NpbmUtbWFuZGF0ZS1jb3ZpZC0xOS9pbmRleC5odG1s0gEA?oc=5\" target=\"_blank\"&gt;Supreme Court blocks nationwide vaccine and testing mandate for large businesses, allows health care worker vaccine mandate to take effect&lt;/a&gt;&amp;nbsp;&amp;nbsp;&lt;font color=\"#6f6f6f\"&gt;CNN&lt;/font&gt;&lt;/li&gt;&lt;li&gt;&lt;a href=\"https://news.google.com/__i/rss/rd/articles/CBMiVWh0dHBzOi8vd3d3LmZveG5ld3MuY29tL29waW5pb24vc3VwcmVtZS1jb3VydC1jb3ZpZC12YWNjaW5lLW1hbmRhdGVzLWJpZGVuLWplcmVteS1keXPSAQA?oc=5\" target=\"_blank\"&gt;Supreme Court puts an end to pandemic of the autocrat&lt;/a&gt;&amp;nbsp;&amp;nbsp;&lt;font color=\"#6f6f6f\"&gt;Fox News&lt;/font&gt;&lt;/li&gt;&lt;li&gt;&lt;a href=\"https://news.google.com/__i/rss/rd/articles/CBMihwFodHRwczovL2dvdmVybm9yLm5lYnJhc2thLmdvdi9wcmVzcy9nb3Ytcmlja2V0dHMtc3VwcmVtZS1jb3VydC1yaWdodC1zdHJpa2UtZG93bi1wcmVzLWJpZGVuJUUyJTgwJTk5cy1vdmVycmVhY2hpbmctb3NoYS12YWNjaW5lLW1hbmRhdGXSAQA?oc=5\" target=\"_blank\"&gt;Gov. Ricketts: Supreme Court Right to Strike Down Pres. Biden's Overreaching OSHA Vaccine Mandate&lt;/a&gt;&amp;nbsp;&amp;nbsp;&lt;font color=\"#6f6f6f\"&gt;Governor Pete Ricketts&lt;/font&gt;&lt;/li&gt;&lt;li&gt;&lt;strong&gt;&lt;a href=\"https://news.google.com/stories/CAAqNggKIjBDQklTSGpvSmMzUnZjbmt0TXpZd1NoRUtEd2pHck9fQkJCR3lWUlptN05wTlRDZ0FQAQ?oc=5\" target=\"_blank\"&gt;View Full Coverage on Google News&lt;/a&gt;&lt;/strong&gt;&lt;/li&gt;&lt;/ol&gt;</description><source url=\"https://www.bbc.com\">BBC News</source></item>,\n",
       " <item><title>Biden says he's \"not sure\" about voting bills' future after Sinema reiterates opposition to rule change - CBS News</title><link>https://news.google.com/__i/rss/rd/articles/CBMiTmh0dHBzOi8vd3d3LmNic25ld3MuY29tL25ld3Mva3lyc3Rlbi1zaW5lbWEtdm90aW5nLXJpZ2h0cy1zZW5hdGUtcnVsZXMtc3BlZWNoL9IBAA?oc=5</link><guid isPermaLink=\"false\">1222244172</guid><pubDate>Thu, 13 Jan 2022 23:58:00 GMT</pubDate><description>&lt;ol&gt;&lt;li&gt;&lt;a href=\"https://news.google.com/__i/rss/rd/articles/CBMiTmh0dHBzOi8vd3d3LmNic25ld3MuY29tL25ld3Mva3lyc3Rlbi1zaW5lbWEtdm90aW5nLXJpZ2h0cy1zZW5hdGUtcnVsZXMtc3BlZWNoL9IBAA?oc=5\" target=\"_blank\"&gt;Biden says he's \"not sure\" about voting bills' future after Sinema reiterates opposition to rule change&lt;/a&gt;&amp;nbsp;&amp;nbsp;&lt;font color=\"#6f6f6f\"&gt;CBS News&lt;/font&gt;&lt;/li&gt;&lt;li&gt;&lt;a href=\"https://news.google.com/__i/rss/rd/articles/CBMiR2h0dHBzOi8vd3d3LmZveG5ld3MuY29tL3BvbGl0aWNzL2JpZGVuLXdoaXRlLWhvdXNlLXBvbGljeS1mbG9wcy1kZWZlYXRz0gEA?oc=5\" target=\"_blank\"&gt;Biden White House reeling after week of defeats, setbacks, and policy flops&lt;/a&gt;&amp;nbsp;&amp;nbsp;&lt;font color=\"#6f6f6f\"&gt;Fox News&lt;/font&gt;&lt;/li&gt;&lt;li&gt;&lt;a href=\"https://news.google.com/__i/rss/rd/articles/CBMiK2h0dHBzOi8vd3d3LnlvdXR1YmUuY29tL3dhdGNoP3Y9cnByX2ktZHV5RDDSAQA?oc=5\" target=\"_blank\"&gt;Biden pushes for voting rights bills; Kevin McCarthy squares off with January 6 committee&lt;/a&gt;&amp;nbsp;&amp;nbsp;&lt;font color=\"#6f6f6f\"&gt;CBS News&lt;/font&gt;&lt;/li&gt;&lt;li&gt;&lt;a href=\"https://news.google.com/__i/rss/rd/articles/CBMiZmh0dHBzOi8vd3d3LnBvbGl0aWNvLmNvbS9uZXdzL21hZ2F6aW5lLzIwMjIvMDEvMTMvam9lLWJpZGVuLWlnbm9yaW5nLWJpcGFydGlzYW4tZWxlY3Rpb24tcmVmb3JtLTUyNzA3M9IBAA?oc=5\" target=\"_blank\"&gt;Opinion | Why Is Joe Biden the ‘Unifier’ Ignoring Bipartisan Election Reform?&lt;/a&gt;&amp;nbsp;&amp;nbsp;&lt;font color=\"#6f6f6f\"&gt;POLITICO&lt;/font&gt;&lt;/li&gt;&lt;li&gt;&lt;a href=\"https://news.google.com/__i/rss/rd/articles/CBMiWGh0dHBzOi8vd3d3LmZveG5ld3MuY29tL29waW5pb24vZGVtcy1lbGVjdGlvbi1iaWxscy1pbXBlcmlsLWVsZWN0aW9ucy1oYW5zLXZvbi1zcGFrb3Zza3nSAQA?oc=5\" target=\"_blank\"&gt;The 10 worst provisions in Biden, Schumer's voting rights bills&lt;/a&gt;&amp;nbsp;&amp;nbsp;&lt;font color=\"#6f6f6f\"&gt;Fox News&lt;/font&gt;&lt;/li&gt;&lt;li&gt;&lt;strong&gt;&lt;a href=\"https://news.google.com/stories/CAAqNggKIjBDQklTSGpvSmMzUnZjbmt0TXpZd1NoRUtEd2pNN3VmR0JCR0dRZnpMNlFBTXdpZ0FQAQ?oc=5\" target=\"_blank\"&gt;View Full Coverage on Google News&lt;/a&gt;&lt;/strong&gt;&lt;/li&gt;&lt;/ol&gt;</description><source url=\"https://www.cbsnews.com\">CBS News</source></item>,\n",
       " <item><title>Robert F. Kennedy's assassin Sirhan denied parole by California governor - Reuters</title><link>https://news.google.com/__i/rss/rd/articles/CBMiaWh0dHBzOi8vd3d3LnJldXRlcnMuY29tL3dvcmxkL3VzL2NhbGlmb3JuaWEtZ292ZXJub3ItZGVuaWVzLXBhcm9sZS1yZmstYXNzYXNzaW4tc2lyaGFuLXNpcmhhbi0yMDIyLTAxLTEzL9IBAA?oc=5</link><guid isPermaLink=\"false\">1253999627</guid><pubDate>Fri, 14 Jan 2022 03:14:00 GMT</pubDate><description>&lt;ol&gt;&lt;li&gt;&lt;a href=\"https://news.google.com/__i/rss/rd/articles/CBMiaWh0dHBzOi8vd3d3LnJldXRlcnMuY29tL3dvcmxkL3VzL2NhbGlmb3JuaWEtZ292ZXJub3ItZGVuaWVzLXBhcm9sZS1yZmstYXNzYXNzaW4tc2lyaGFuLXNpcmhhbi0yMDIyLTAxLTEzL9IBAA?oc=5\" target=\"_blank\"&gt;Robert F. Kennedy's assassin Sirhan denied parole by California governor&lt;/a&gt;&amp;nbsp;&amp;nbsp;&lt;font color=\"#6f6f6f\"&gt;Reuters&lt;/font&gt;&lt;/li&gt;&lt;li&gt;&lt;a href=\"https://news.google.com/__i/rss/rd/articles/CBMiT2h0dHBzOi8vd3d3LmNubi5jb20vMjAyMi8wMS8xMy91cy9zaXJoYW4tc2lyaGFuLW5ld3NvbS1kZW5pZXMtcGFyb2xlL2luZGV4Lmh0bWzSAQA?oc=5\" target=\"_blank\"&gt;California Gov. Gavin Newsom denies parole for RFK assassin Sirhan Sirhan&lt;/a&gt;&amp;nbsp;&amp;nbsp;&lt;font color=\"#6f6f6f\"&gt;CNN&lt;/font&gt;&lt;/li&gt;&lt;li&gt;&lt;a href=\"https://news.google.com/__i/rss/rd/articles/CBMiK2h0dHBzOi8vd3d3LnlvdXR1YmUuY29tL3dhdGNoP3Y9TC1HMzJZYVJpOFXSAQA?oc=5\" target=\"_blank\"&gt;Newsom rejects release of Robert F. Kennedy killer Sirhan Sirhan&lt;/a&gt;&amp;nbsp;&amp;nbsp;&lt;font color=\"#6f6f6f\"&gt;KTVU FOX 2 San Francisco&lt;/font&gt;&lt;/li&gt;&lt;li&gt;&lt;a href=\"https://news.google.com/__i/rss/rd/articles/CBMiNGh0dHBzOi8vd3d3LnNhY2JlZS5jb20vb3Bpbmlvbi9hcnRpY2xlMjU3MzEwMTQ3Lmh0bWzSAQA?oc=5\" target=\"_blank\"&gt;Gov. Gavin Newsom was wrong to deny parole to Sirhan Sirhan&lt;/a&gt;&amp;nbsp;&amp;nbsp;&lt;font color=\"#6f6f6f\"&gt;Sacramento Bee&lt;/font&gt;&lt;/li&gt;&lt;li&gt;&lt;a href=\"https://news.google.com/__i/rss/rd/articles/CBMicGh0dHBzOi8vd3d3LmZveG5ld3MuY29tL3VzL2NhbGlmb3JuaWEtZ292LWdhdmluLW5ld3NvbS1kZW5pZXMtcGFyb2xlLWZvci1yb2JlcnQtZi1rZW5uZWR5LWFzc2Fzc2luLXNpcmhhbi1zaXJoYW7SAQA?oc=5\" target=\"_blank\"&gt;RFK assassin Sirhan Sirhan denied parole by California Gov. Gavin Newsom&lt;/a&gt;&amp;nbsp;&amp;nbsp;&lt;font color=\"#6f6f6f\"&gt;Fox News&lt;/font&gt;&lt;/li&gt;&lt;li&gt;&lt;strong&gt;&lt;a href=\"https://news.google.com/stories/CAAqNggKIjBDQklTSGpvSmMzUnZjbmt0TXpZd1NoRUtEd2lMaVByVkJCRjAxN0JPVEVCV0R5Z0FQAQ?oc=5\" target=\"_blank\"&gt;View Full Coverage on Google News&lt;/a&gt;&lt;/strong&gt;&lt;/li&gt;&lt;/ol&gt;</description><source url=\"https://www.reuters.com\">Reuters</source></item>,\n",
       " <item><title>Oath Keepers leader and 10 others charged with 'seditious conspiracy' related to US Capitol attack - CNN</title><link>https://news.google.com/__i/rss/rd/articles/CBMiUWh0dHBzOi8vd3d3LmNubi5jb20vMjAyMi8wMS8xMy9wb2xpdGljcy9vYXRoa2VlcGVyLXJob2Rlcy1hcnJlc3RlZC1kb2ovaW5kZXguaHRtbNIBAA?oc=5</link><guid isPermaLink=\"false\">1254050717</guid><pubDate>Fri, 14 Jan 2022 03:41:00 GMT</pubDate><description>&lt;ol&gt;&lt;li&gt;&lt;a href=\"https://news.google.com/__i/rss/rd/articles/CBMiUWh0dHBzOi8vd3d3LmNubi5jb20vMjAyMi8wMS8xMy9wb2xpdGljcy9vYXRoa2VlcGVyLXJob2Rlcy1hcnJlc3RlZC1kb2ovaW5kZXguaHRtbNIBAA?oc=5\" target=\"_blank\"&gt;Oath Keepers leader and 10 others charged with 'seditious conspiracy' related to US Capitol attack&lt;/a&gt;&amp;nbsp;&amp;nbsp;&lt;font color=\"#6f6f6f\"&gt;CNN&lt;/font&gt;&lt;/li&gt;&lt;li&gt;&lt;a href=\"https://news.google.com/__i/rss/rd/articles/CBMiP2h0dHBzOi8vbmV3cy55YWhvby5jb20vZm94LW5ld3MtYnJpdC1odW1lLXBhbm5lZC0wMTAwMjg2MDAuaHRtbNIBR2h0dHBzOi8vbmV3cy55YWhvby5jb20vYW1waHRtbC9mb3gtbmV3cy1icml0LWh1bWUtcGFubmVkLTAxMDAyODYwMC5odG1s?oc=5\" target=\"_blank\"&gt;Fox News' Brit Hume Panned For Very Poorly Timed Jan. 6 Tweet&lt;/a&gt;&amp;nbsp;&amp;nbsp;&lt;font color=\"#6f6f6f\"&gt;Yahoo News&lt;/font&gt;&lt;/li&gt;&lt;li&gt;&lt;a href=\"https://news.google.com/__i/rss/rd/articles/CBMiK2h0dHBzOi8vd3d3LnlvdXR1YmUuY29tL3dhdGNoP3Y9TEJiby1CbjdVTEXSAQA?oc=5\" target=\"_blank\"&gt;Capitol rioters charged with seditious conspiracy&lt;/a&gt;&amp;nbsp;&amp;nbsp;&lt;font color=\"#6f6f6f\"&gt;CBS Evening News&lt;/font&gt;&lt;/li&gt;&lt;li&gt;&lt;a href=\"https://news.google.com/__i/rss/rd/articles/CBMiTmh0dHBzOi8vdGhlaGlsbC5jb20vcG9saWN5L2RlZmVuc2Uvb3Zlcm5pZ2h0cy81ODk2ODQtZGVmZW5zZS1uYXRpb25hbC1zZWN1cml0edIBUmh0dHBzOi8vdGhlaGlsbC5jb20vcG9saWN5L2RlZmVuc2Uvb3Zlcm5pZ2h0cy81ODk2ODQtZGVmZW5zZS1uYXRpb25hbC1zZWN1cml0eT9hbXA?oc=5\" target=\"_blank\"&gt;Overnight Defense &amp; National Security — Oath Keepers leader arrested in Jan. 6 probe | TheHill&lt;/a&gt;&amp;nbsp;&amp;nbsp;&lt;font color=\"#6f6f6f\"&gt;The Hill&lt;/font&gt;&lt;/li&gt;&lt;li&gt;&lt;a href=\"https://news.google.com/__i/rss/rd/articles/CBMiK2h0dHBzOi8vd3d3LnlvdXR1YmUuY29tL3dhdGNoP3Y9RFA0cWY2YzNkbG_SAQA?oc=5\" target=\"_blank\"&gt;Founder of Oath Keepers arrested by FBI, expected to be charged with sedition&lt;/a&gt;&amp;nbsp;&amp;nbsp;&lt;font color=\"#6f6f6f\"&gt;Fox News&lt;/font&gt;&lt;/li&gt;&lt;li&gt;&lt;strong&gt;&lt;a href=\"https://news.google.com/stories/CAAqNggKIjBDQklTSGpvSmMzUnZjbmt0TXpZd1NoRUtEd2lkbF8zVkJCRTFpMU9ud0JPT2hTZ0FQAQ?oc=5\" target=\"_blank\"&gt;View Full Coverage on Google News&lt;/a&gt;&lt;/strong&gt;&lt;/li&gt;&lt;/ol&gt;</description><source url=\"https://www.cnn.com\">CNN</source></item>,\n",
       " <item><title>Jan. 6 Committee Subpoenas Twitter, Meta, Alphabet and Reddit - The New York Times</title><link>https://news.google.com/__i/rss/rd/articles/CBMiSGh0dHBzOi8vd3d3Lm55dGltZXMuY29tLzIwMjIvMDEvMTMvdXMvcG9saXRpY3MvamFuLTYtdGVjaC1zdWJwb2VuYXMuaHRtbNIBAA?oc=5</link><guid isPermaLink=\"false\">1251245471</guid><pubDate>Fri, 14 Jan 2022 01:08:13 GMT</pubDate><description>&lt;ol&gt;&lt;li&gt;&lt;a href=\"https://news.google.com/__i/rss/rd/articles/CBMiSGh0dHBzOi8vd3d3Lm55dGltZXMuY29tLzIwMjIvMDEvMTMvdXMvcG9saXRpY3MvamFuLTYtdGVjaC1zdWJwb2VuYXMuaHRtbNIBAA?oc=5\" target=\"_blank\"&gt;Jan. 6 Committee Subpoenas Twitter, Meta, Alphabet and Reddit&lt;/a&gt;&amp;nbsp;&amp;nbsp;&lt;font color=\"#6f6f6f\"&gt;The New York Times&lt;/font&gt;&lt;/li&gt;&lt;li&gt;&lt;a href=\"https://news.google.com/__i/rss/rd/articles/CBMiU2h0dHBzOi8vd3d3LmNubi5jb20vMjAyMi8wMS8xMy9wb2xpdGljcy9zb2NpYWwtbWVkaWEtc3VicG9lbmFzLWphbnVhcnktNi9pbmRleC5odG1s0gEA?oc=5\" target=\"_blank\"&gt;January 6 panel targets social media companies with subpoenas after 'inadequate responses' to voluntary request&lt;/a&gt;&amp;nbsp;&amp;nbsp;&lt;font color=\"#6f6f6f\"&gt;CNN&lt;/font&gt;&lt;/li&gt;&lt;li&gt;&lt;a href=\"https://news.google.com/__i/rss/rd/articles/CBMiQ2h0dHBzOi8vd3d3LnBvbGl0aWNvLmNvbS9uZXdzLzIwMjIvMDEvMTMvamFuLTYtc3VicG9lbmEtdGVjaC01MjcwNznSAQA?oc=5\" target=\"_blank\"&gt;Jan. 6 investigators subpoena Twitter, YouTube, Facebook's parent and other tech giants&lt;/a&gt;&amp;nbsp;&amp;nbsp;&lt;font color=\"#6f6f6f\"&gt;POLITICO&lt;/font&gt;&lt;/li&gt;&lt;li&gt;&lt;a href=\"https://news.google.com/__i/rss/rd/articles/CBMiamh0dHBzOi8vd3d3Lndhc2hpbmd0b25wb3N0LmNvbS9wb2xpdGljcy8yMDIyLzAxLzEzL21ldGEtYWxwaGFiZXQtdHdpdHRlci1yZWRkaXQtc3VicG9lbmFzLWhvdXNlLWNvbW1pdHRlZS_SAQA?oc=5\" target=\"_blank\"&gt;House Jan. 6 committee subpoenas Meta, Twitter, Alphabet and Reddit&lt;/a&gt;&amp;nbsp;&amp;nbsp;&lt;font color=\"#6f6f6f\"&gt;The Washington Post&lt;/font&gt;&lt;/li&gt;&lt;li&gt;&lt;a href=\"https://news.google.com/__i/rss/rd/articles/CBMifmh0dHBzOi8vd3d3LnRoZWRhaWx5YmVhc3QuY29tL2phbi02LWNhcGl0b2wtcmlvdC1wYW5lbC1zdWJwb2VuYXMtbWV0YS10d2l0dGVyLXJlZGRpdC1nb29nbGUtYWZ0ZXItZ2V0dGluZy1pbmFkZXF1YXRlLXJlc3BvbnNlc9IBAA?oc=5\" target=\"_blank\"&gt;Jan. 6 Panel Subpoenas Social Media Companies After Getting 'Inadequate Responses'&lt;/a&gt;&amp;nbsp;&amp;nbsp;&lt;font color=\"#6f6f6f\"&gt;The Daily Beast&lt;/font&gt;&lt;/li&gt;&lt;li&gt;&lt;strong&gt;&lt;a href=\"https://news.google.com/stories/CAAqNggKIjBDQklTSGpvSmMzUnZjbmt0TXpZd1NoRUtEd2lmLTlIVUJCRWtQRVB0bDBDUUVTZ0FQAQ?oc=5\" target=\"_blank\"&gt;View Full Coverage on Google News&lt;/a&gt;&lt;/strong&gt;&lt;/li&gt;&lt;/ol&gt;</description><source url=\"https://www.nytimes.com\">The New York Times</source></item>,\n",
       " <item><title>GOP senator plans to introduce 'Fauci Act' after clash at hearing | TheHill - The Hill</title><link>https://news.google.com/__i/rss/rd/articles/CBMibGh0dHBzOi8vdGhlaGlsbC5jb20vcG9saWN5L2hlYWx0aGNhcmUvNTg5Njk5LWdvcC1zZW5hdG9yLXBsYW5zLXRvLWludHJvZHVjZS1mYXVjaS1hY3QtYWZ0ZXItY2xhc2gtYXQtaGVhcmluZ9IBcGh0dHBzOi8vdGhlaGlsbC5jb20vcG9saWN5L2hlYWx0aGNhcmUvNTg5Njk5LWdvcC1zZW5hdG9yLXBsYW5zLXRvLWludHJvZHVjZS1mYXVjaS1hY3QtYWZ0ZXItY2xhc2gtYXQtaGVhcmluZz9hbXA?oc=5</link><guid isPermaLink=\"false\">1188332850</guid><pubDate>Fri, 14 Jan 2022 00:22:41 GMT</pubDate><description>&lt;ol&gt;&lt;li&gt;&lt;a href=\"https://news.google.com/__i/rss/rd/articles/CBMibGh0dHBzOi8vdGhlaGlsbC5jb20vcG9saWN5L2hlYWx0aGNhcmUvNTg5Njk5LWdvcC1zZW5hdG9yLXBsYW5zLXRvLWludHJvZHVjZS1mYXVjaS1hY3QtYWZ0ZXItY2xhc2gtYXQtaGVhcmluZ9IBcGh0dHBzOi8vdGhlaGlsbC5jb20vcG9saWN5L2hlYWx0aGNhcmUvNTg5Njk5LWdvcC1zZW5hdG9yLXBsYW5zLXRvLWludHJvZHVjZS1mYXVjaS1hY3QtYWZ0ZXItY2xhc2gtYXQtaGVhcmluZz9hbXA?oc=5\" target=\"_blank\"&gt;GOP senator plans to introduce 'Fauci Act' after clash at hearing | TheHill&lt;/a&gt;&amp;nbsp;&amp;nbsp;&lt;font color=\"#6f6f6f\"&gt;The Hill&lt;/font&gt;&lt;/li&gt;&lt;li&gt;&lt;a href=\"https://news.google.com/__i/rss/rd/articles/CBMiaWh0dHBzOi8vd3d3LmluZGVwZW5kZW50LmNvLnVrL25ld3Mvd29ybGQvYW1lcmljYXMvdXMtcG9saXRpY3MvZmF1Y2ktcmFuZC1wYXVsLWRlYXRoLXRocmVhdHMtYjE5OTI0MjAuaHRtbNIBAA?oc=5\" target=\"_blank\"&gt;Fauci ‘deserves everything he gets’, says Rand Paul after expert reveals death threats&lt;/a&gt;&amp;nbsp;&amp;nbsp;&lt;font color=\"#6f6f6f\"&gt;The Independent&lt;/font&gt;&lt;/li&gt;&lt;li&gt;&lt;a href=\"https://news.google.com/__i/rss/rd/articles/CBMicWh0dHBzOi8vbmV3cy55YWhvby5jb20vZG9jdG9ycy1kZWZlbmQtZmF1Y2ktZnJvbS1yZXB1YmxpY2FuLWF0dGFja3MtbW90aXZhdGVkLWJ5LXBhcnRpc2FuLXBvbGl0aWNzLTE5NTgwMTA1NS5odG1s0gEA?oc=5\" target=\"_blank\"&gt;Doctors defend Fauci from Republican attacks 'motivated by partisan politics'&lt;/a&gt;&amp;nbsp;&amp;nbsp;&lt;font color=\"#6f6f6f\"&gt;Yahoo News&lt;/font&gt;&lt;/li&gt;&lt;li&gt;&lt;a href=\"https://news.google.com/__i/rss/rd/articles/CBMiUWh0dHBzOi8vd3d3LmZveG5ld3MuY29tL29waW5pb24vcmFuZC1wYXVsLWFudGhvbnktZmF1Y2ktY292aWQtdmFjY2luZS1tYXJjLXNpZWdlbNIBAA?oc=5\" target=\"_blank\"&gt;Rand Paul and Anthony Fauci debacle reflects our own state of disarray&lt;/a&gt;&amp;nbsp;&amp;nbsp;&lt;font color=\"#6f6f6f\"&gt;Fox News&lt;/font&gt;&lt;/li&gt;&lt;li&gt;&lt;a href=\"https://news.google.com/__i/rss/rd/articles/CBMiQ2h0dHBzOi8vd3d3LmthbnNhc2NpdHkuY29tL29waW5pb24vZWRpdG9yaWFscy9hcnRpY2xlMjU3MjMwNzI3Lmh0bWzSAQA?oc=5\" target=\"_blank\"&gt;Fauci called Kansas senator a moron. But Marshall’s COVID games are worse than dumb&lt;/a&gt;&amp;nbsp;&amp;nbsp;&lt;font color=\"#6f6f6f\"&gt;Kansas City Star&lt;/font&gt;&lt;/li&gt;&lt;li&gt;&lt;strong&gt;&lt;a href=\"https://news.google.com/stories/CAAqNggKIjBDQklTSGpvSmMzUnZjbmt0TXpZd1NoRUtEd2l5aXRLMkJCRnk1bnN0RFF0ZVRDZ0FQAQ?oc=5\" target=\"_blank\"&gt;View Full Coverage on Google News&lt;/a&gt;&lt;/strong&gt;&lt;/li&gt;&lt;/ol&gt;</description><source url=\"https://thehill.com\">The Hill</source></item>,\n",
       " <item><title>Biden-senate-voting - The Washington Post</title><link>https://news.google.com/__i/rss/rd/articles/CBMiuwFodHRwczovL3d3dy53YXNoaW5ndG9ucG9zdC5jb20vcG9saXRpY3MvYmlkZW4tc2V0LXRvLXZpc2l0LXNlbmF0ZS1kZW1vY3JhdHMtaW4tYS1maW5hbC1pbXByb2JhYmxlLXBpdGNoLWZvci12b3RpbmctcmlnaHRzLWFjdGlvbi8yMDIyLzAxLzEzL2ZkZTUzM2I2LTc0NzUtMTFlYy04YjBhLWJjZmFiODAwYzQzMF9zdG9yeS5odG1s0gEA?oc=5</link><guid isPermaLink=\"false\">1207386039</guid><pubDate>Fri, 14 Jan 2022 03:22:30 GMT</pubDate><description>&lt;ol&gt;&lt;li&gt;&lt;a href=\"https://news.google.com/__i/rss/rd/articles/CBMiuwFodHRwczovL3d3dy53YXNoaW5ndG9ucG9zdC5jb20vcG9saXRpY3MvYmlkZW4tc2V0LXRvLXZpc2l0LXNlbmF0ZS1kZW1vY3JhdHMtaW4tYS1maW5hbC1pbXByb2JhYmxlLXBpdGNoLWZvci12b3RpbmctcmlnaHRzLWFjdGlvbi8yMDIyLzAxLzEzL2ZkZTUzM2I2LTc0NzUtMTFlYy04YjBhLWJjZmFiODAwYzQzMF9zdG9yeS5odG1s0gEA?oc=5\" target=\"_blank\"&gt;Biden-senate-voting&lt;/a&gt;&amp;nbsp;&amp;nbsp;&lt;font color=\"#6f6f6f\"&gt;The Washington Post&lt;/font&gt;&lt;/li&gt;&lt;li&gt;&lt;a href=\"https://news.google.com/__i/rss/rd/articles/CBMiK2h0dHBzOi8vd3d3LnlvdXR1YmUuY29tL3dhdGNoP3Y9bWVJU0Z4RWRKYjDSAQA?oc=5\" target=\"_blank\"&gt;Sinema, Manchin doom Biden's voting-rights push&lt;/a&gt;&amp;nbsp;&amp;nbsp;&lt;font color=\"#6f6f6f\"&gt;Reuters&lt;/font&gt;&lt;/li&gt;&lt;li&gt;&lt;a href=\"https://news.google.com/__i/rss/rd/articles/CBMiaWh0dHBzOi8vd3d3LmZveG5ld3MuY29tL3BvbGl0aWNzL3NpbmVtYS1zZW5hdGUtZmlsaWJ1c3Rlci1zY2h1bWVyLWRlbW9jcmF0cy1lbGVjdGlvbnMtYmlsbHMtdm90aW5nLXJpZ2h0c9IBAA?oc=5\" target=\"_blank\"&gt;Sinema doubles down on filibuster support, dealing likely fatal blow to Dems' election bills&lt;/a&gt;&amp;nbsp;&amp;nbsp;&lt;font color=\"#6f6f6f\"&gt;Fox News&lt;/font&gt;&lt;/li&gt;&lt;li&gt;&lt;a href=\"https://news.google.com/__i/rss/rd/articles/CBMigwFodHRwczovL3d3dy5hemNlbnRyYWwuY29tL3N0b3J5L29waW5pb24vb3AtZWQvZWx2aWFkaWF6LzIwMjIvMDEvMTMvc2VuLWt5cnN0ZW4tc2luZW1hLWNhbnQtaGF2ZS1ib3RoLXdheXMtdm90aW5nLXJpZ2h0cy82NTE1NzQwMDAxL9IBAA?oc=5\" target=\"_blank\"&gt;Sen. Kyrsten Sinema talks out of both sides of her mouth on voting rights&lt;/a&gt;&amp;nbsp;&amp;nbsp;&lt;font color=\"#6f6f6f\"&gt;The Arizona Republic&lt;/font&gt;&lt;/li&gt;&lt;li&gt;&lt;a href=\"https://news.google.com/__i/rss/rd/articles/CBMiYGh0dHBzOi8vd3d3LmZveG5ld3MuY29tL29waW5pb24vYmlkZW4tYW5kLXNjaHVtZXJzLXNoYW1lbGVzcy1maWxpYnVzdGVyLWh5cG9jcmlzeS1zZW4tcmljay1zY290dNIBAA?oc=5\" target=\"_blank\"&gt;Biden and Schumer's shameless filibuster hypocrisy&lt;/a&gt;&amp;nbsp;&amp;nbsp;&lt;font color=\"#6f6f6f\"&gt;Fox News&lt;/font&gt;&lt;/li&gt;&lt;li&gt;&lt;strong&gt;&lt;a href=\"https://news.google.com/stories/CAAqNggKIjBDQklTSGpvSmMzUnZjbmt0TXpZd1NoRUtEd2kzXzl5X0JCR2VTUlVsamIwTTJTZ0FQAQ?oc=5\" target=\"_blank\"&gt;View Full Coverage on Google News&lt;/a&gt;&lt;/strong&gt;&lt;/li&gt;&lt;/ol&gt;</description><source url=\"https://www.washingtonpost.com\">The Washington Post</source></item>,\n",
       " <item><title>F13 gang members charged with the murder of an off-duty Los Angeles police officer, said the U.S. Department of Justice - KABC-TV</title><link>https://news.google.com/__i/rss/rd/articles/CBMiTGh0dHBzOi8vYWJjNy5jb20vZ2FuZy1tZW1iZXJzLWNoYXJnZWQtb2ZmLWR1dHktbGFwZC1vZmZpY2VyLW11cmRlci8xMTQ2NjA3Mi_SAVBodHRwczovL2FiYzcuY29tL2FtcC9nYW5nLW1lbWJlcnMtY2hhcmdlZC1vZmYtZHV0eS1sYXBkLW9mZmljZXItbXVyZGVyLzExNDY2MDcyLw?oc=5</link><guid isPermaLink=\"false\">1234328389</guid><pubDate>Fri, 14 Jan 2022 05:37:30 GMT</pubDate><description>&lt;ol&gt;&lt;li&gt;&lt;a href=\"https://news.google.com/__i/rss/rd/articles/CBMiTGh0dHBzOi8vYWJjNy5jb20vZ2FuZy1tZW1iZXJzLWNoYXJnZWQtb2ZmLWR1dHktbGFwZC1vZmZpY2VyLW11cmRlci8xMTQ2NjA3Mi_SAVBodHRwczovL2FiYzcuY29tL2FtcC9nYW5nLW1lbWJlcnMtY2hhcmdlZC1vZmYtZHV0eS1sYXBkLW9mZmljZXItbXVyZGVyLzExNDY2MDcyLw?oc=5\" target=\"_blank\"&gt;F13 gang members charged with the murder of an off-duty Los Angeles police officer, said the U.S. Department of Justice&lt;/a&gt;&amp;nbsp;&amp;nbsp;&lt;font color=\"#6f6f6f\"&gt;KABC-TV&lt;/font&gt;&lt;/li&gt;&lt;li&gt;&lt;a href=\"https://news.google.com/__i/rss/rd/articles/CBMid2h0dHBzOi8vd3d3LmZveG5ld3MuY29tL3VzL2xvcy1hbmdlbGVzLW9mZi1kdXR5LXBvbGljZS1vZmZpY2VyLXNob3QtZGVhZC13aGlsZS1ob3VzZS1odW50aW5nLXdpdGgtZ2lybGZyaWVuZC00LWFycmVzdGVk0gEA?oc=5\" target=\"_blank\"&gt;Los Angeles off-duty police officer shot dead while house hunting with girlfriend; 4 arrested&lt;/a&gt;&amp;nbsp;&amp;nbsp;&lt;font color=\"#6f6f6f\"&gt;Fox News&lt;/font&gt;&lt;/li&gt;&lt;li&gt;&lt;a href=\"https://news.google.com/__i/rss/rd/articles/CBMiK2h0dHBzOi8vd3d3LnlvdXR1YmUuY29tL3dhdGNoP3Y9VGRwRy05T2N2bUnSAQA?oc=5\" target=\"_blank\"&gt;Federal Prosecutors File Charges In Connection To The Murder Of LAPD Officer&lt;/a&gt;&amp;nbsp;&amp;nbsp;&lt;font color=\"#6f6f6f\"&gt;CBS Los Angeles&lt;/font&gt;&lt;/li&gt;&lt;li&gt;&lt;a href=\"https://news.google.com/__i/rss/rd/articles/CBMiXmh0dHBzOi8vd3d3LmZveGxhLmNvbS9uZXdzL3Bob3Rvcy1yZWxlYXNlZC1vZi1mLTEzLWdhbmctbWVtYmVycy1hcnJlc3RlZC1pbi1sYXBkLW9mZmljZXItZGVhdGjSAWJodHRwczovL3d3dy5mb3hsYS5jb20vbmV3cy9waG90b3MtcmVsZWFzZWQtb2YtZi0xMy1nYW5nLW1lbWJlcnMtYXJyZXN0ZWQtaW4tbGFwZC1vZmZpY2VyLWRlYXRoLmFtcA?oc=5\" target=\"_blank\"&gt;LAPD officer death: Alleged F-13 gang members, suspect's girlfriend facing federal charges&lt;/a&gt;&amp;nbsp;&amp;nbsp;&lt;font color=\"#6f6f6f\"&gt;FOX 11 Los Angeles&lt;/font&gt;&lt;/li&gt;&lt;li&gt;&lt;strong&gt;&lt;a href=\"https://news.google.com/stories/CAAqNggKIjBDQklTSGpvSmMzUnZjbmt0TXpZd1NoRUtEd2pGdHNuTUJCR3FIZUM2RlE3MWZpZ0FQAQ?oc=5\" target=\"_blank\"&gt;View Full Coverage on Google News&lt;/a&gt;&lt;/strong&gt;&lt;/li&gt;&lt;/ol&gt;</description><source url=\"https://abc7.com\">KABC-TV</source></item>,\n",
       " <item><title>Prince Andrew stripped of royal patronages and military affiliations as sex abuse lawsuit moves ahead - CBS News</title><link>https://news.google.com/__i/rss/rd/articles/CBMiYWh0dHBzOi8vd3d3LmNic25ld3MuY29tL25ld3MvcHJpbmNlLWFuZHJldy1zZXgtYWJ1c2UtY2FzZS1yb3lhbC1wYXRyb25hZ2VzLW1pbGl0YXJ5LWFmZmlsaWF0aW9ucy_SAQA?oc=5</link><guid isPermaLink=\"false\">1248178481</guid><pubDate>Thu, 13 Jan 2022 23:58:00 GMT</pubDate><description>&lt;ol&gt;&lt;li&gt;&lt;a href=\"https://news.google.com/__i/rss/rd/articles/CBMiYWh0dHBzOi8vd3d3LmNic25ld3MuY29tL25ld3MvcHJpbmNlLWFuZHJldy1zZXgtYWJ1c2UtY2FzZS1yb3lhbC1wYXRyb25hZ2VzLW1pbGl0YXJ5LWFmZmlsaWF0aW9ucy_SAQA?oc=5\" target=\"_blank\"&gt;Prince Andrew stripped of royal patronages and military affiliations as sex abuse lawsuit moves ahead&lt;/a&gt;&amp;nbsp;&amp;nbsp;&lt;font color=\"#6f6f6f\"&gt;CBS News&lt;/font&gt;&lt;/li&gt;&lt;li&gt;&lt;a href=\"https://news.google.com/__i/rss/rd/articles/CBMiK2h0dHBzOi8vd3d3LnlvdXR1YmUuY29tL3dhdGNoP3Y9SHQ1U2NyRUtjblnSAQA?oc=5\" target=\"_blank\"&gt;Queen strips Prince Andrew of HRH title and military roles - BBC News&lt;/a&gt;&amp;nbsp;&amp;nbsp;&lt;font color=\"#6f6f6f\"&gt;BBC News&lt;/font&gt;&lt;/li&gt;&lt;li&gt;&lt;a href=\"https://news.google.com/__i/rss/rd/articles/CBMiZmh0dHBzOi8vd3d3LmZveG5ld3MuY29tL2VudGVydGFpbm1lbnQvcHJpbmNlLWFuZHJldy1zdHJpcHBlZC1taWxpdGFyeS1yb3lhbC10aXRsZXMtc2V4dWFsLWFzc2F1bHQtY2FzZdIBAA?oc=5\" target=\"_blank\"&gt;Prince Andrew stripped of military, royal titles amid sexual assault case&lt;/a&gt;&amp;nbsp;&amp;nbsp;&lt;font color=\"#6f6f6f\"&gt;Fox News&lt;/font&gt;&lt;/li&gt;&lt;li&gt;&lt;a href=\"https://news.google.com/__i/rss/rd/articles/CBMibWh0dHBzOi8vd3d3LnlhaG9vLmNvbS9lbnRlcnRhaW5tZW50L3ByaW5jZS1hbmRyZXctc3RyaXBwZWQtb2YtbWlsaXRhcnktdGl0bGVzLXJveWFsLXBhdHJvbmFnZXMtMTgxMzU2MzU1Lmh0bWzSAQA?oc=5\" target=\"_blank\"&gt;Queen Elizabeth strips Prince Andrew of military titles and royal patronages&lt;/a&gt;&amp;nbsp;&amp;nbsp;&lt;font color=\"#6f6f6f\"&gt;Yahoo Entertainment&lt;/font&gt;&lt;/li&gt;&lt;li&gt;&lt;a href=\"https://news.google.com/__i/rss/rd/articles/CBMiXGh0dHBzOi8vd3d3LmluZGVwZW5kZW50LmNvLnVrL3ZvaWNlcy9zby1mYXJld2VsbC10aGVuLXlvdXItbm90c29yb3lhbC1oaWdobmVzcy1iMTk5MjY0Mi5odG1s0gEA?oc=5\" target=\"_blank\"&gt;So farewell, then, your not-so-royal highness&lt;/a&gt;&amp;nbsp;&amp;nbsp;&lt;font color=\"#6f6f6f\"&gt;The Independent&lt;/font&gt;&lt;/li&gt;&lt;li&gt;&lt;strong&gt;&lt;a href=\"https://news.google.com/stories/CAAqNggKIjBDQklTSGpvSmMzUnZjbmt0TXpZd1NoRUtEd2l4NHBiVEJCRnItS3dDLUhVTTF5Z0FQAQ?oc=5\" target=\"_blank\"&gt;View Full Coverage on Google News&lt;/a&gt;&lt;/strong&gt;&lt;/li&gt;&lt;/ol&gt;</description><source url=\"https://www.cbsnews.com\">CBS News</source></item>,\n",
       " <item><title>3 Long Island women charged with assaulting security officer at JFK airport - New York Post </title><link>https://news.google.com/__i/rss/rd/articles/CBMicGh0dHBzOi8vbnlwb3N0LmNvbS8yMDIyLzAxLzE0LzMtbG9uZy1pc2xhbmQtd29tZW4tY2hhcmdlZC13aXRoLWFzc2F1bHRpbmctZGVsdGEtc2VjdXJpdHktb2ZmaWNlci1hdC1qZmstYWlycG9ydC_SAQA?oc=5</link><guid isPermaLink=\"false\">1246420889</guid><pubDate>Fri, 14 Jan 2022 05:06:00 GMT</pubDate><description>&lt;ol&gt;&lt;li&gt;&lt;a href=\"https://news.google.com/__i/rss/rd/articles/CBMicGh0dHBzOi8vbnlwb3N0LmNvbS8yMDIyLzAxLzE0LzMtbG9uZy1pc2xhbmQtd29tZW4tY2hhcmdlZC13aXRoLWFzc2F1bHRpbmctZGVsdGEtc2VjdXJpdHktb2ZmaWNlci1hdC1qZmstYWlycG9ydC_SAQA?oc=5\" target=\"_blank\"&gt;3 Long Island women charged with assaulting security officer at JFK airport&lt;/a&gt;&amp;nbsp;&amp;nbsp;&lt;font color=\"#6f6f6f\"&gt;New York Post &lt;/font&gt;&lt;/li&gt;&lt;li&gt;&lt;a href=\"https://news.google.com/__i/rss/rd/articles/CBMiW2h0dHBzOi8vd3d3Lndhc2hpbmd0b25wb3N0LmNvbS90cmFuc3BvcnRhdGlvbi8yMDIyLzAxLzEzL2RlbHRhLWFpcmxpbmVzLWF0dGFjay1qZmstYWlycG9ydC_SAQA?oc=5\" target=\"_blank\"&gt;Three indicted after alleged attack on Delta Air Lines employees at JFK airport&lt;/a&gt;&amp;nbsp;&amp;nbsp;&lt;font color=\"#6f6f6f\"&gt;The Washington Post&lt;/font&gt;&lt;/li&gt;&lt;li&gt;&lt;a href=\"https://news.google.com/__i/rss/rd/articles/CBMid2h0dHBzOi8vd3d3Lm55ZGFpbHluZXdzLmNvbS9uZXcteW9yay9ueS10aHJlZS1hcnJlc3RlZC1hc3NhdWx0LWpmay1kZWx0YS0yMDIyMDExMy13ZnlneXY1dmg1ZnV2b29za3NraHVxbzZubS1zdG9yeS5odG1s0gEA?oc=5\" target=\"_blank\"&gt;Feds bust three in Delta worker beatdown at JFK&lt;/a&gt;&amp;nbsp;&amp;nbsp;&lt;font color=\"#6f6f6f\"&gt;New York Daily News&lt;/font&gt;&lt;/li&gt;&lt;li&gt;&lt;a href=\"https://news.google.com/__i/rss/rd/articles/CBMiT2h0dHBzOi8vd3d3LmNic25ld3MuY29tL25ld3Mvd29tZW4tY2hhcmdlZC1hc3NhdWx0aW5nLWRlbHRhLWFpcmxpbmVzLWVtcGxveWVlcy_SAQA?oc=5\" target=\"_blank\"&gt;Three women charged for allegedly assaulting Delta Airlines employees&lt;/a&gt;&amp;nbsp;&amp;nbsp;&lt;font color=\"#6f6f6f\"&gt;CBS News&lt;/font&gt;&lt;/li&gt;&lt;li&gt;&lt;a href=\"https://news.google.com/__i/rss/rd/articles/CBMiV2h0dHBzOi8vd3d3Lm5ld3NkYXkuY29tL2xvbmctaXNsYW5kL2NyaW1lL2RlbHRhLXNlY3VyaXR5LWFzc2F1bHQtamZrLWFpcnBvcnQtMS41MDQ3NjEwMdIBW2h0dHBzOi8vd3d3Lm5ld3NkYXkuY29tL2FtcC9sb25nLWlzbGFuZC9jcmltZS9kZWx0YS1zZWN1cml0eS1hc3NhdWx0LWpmay1haXJwb3J0LTEuNTA0NzYxMDE?oc=5\" target=\"_blank\"&gt;Three LI women assaulted Delta security officer at JFK airport, prosecutors say&lt;/a&gt;&amp;nbsp;&amp;nbsp;&lt;font color=\"#6f6f6f\"&gt;Newsday&lt;/font&gt;&lt;/li&gt;&lt;li&gt;&lt;strong&gt;&lt;a href=\"https://news.google.com/stories/CAAqNggKIjBDQklTSGpvSmMzUnZjbmt0TXpZd1NoRUtEd2ladjZ2U0JCSDItTENHLU54TVRpZ0FQAQ?oc=5\" target=\"_blank\"&gt;View Full Coverage on Google News&lt;/a&gt;&lt;/strong&gt;&lt;/li&gt;&lt;/ol&gt;</description><source url=\"https://nypost.com\">New York Post </source></item>,\n",
       " <item><title>Novak Djokovic's Visa Canceled Again by Australia - The New York Times</title><link>https://news.google.com/__i/rss/rd/articles/CBMiR2h0dHBzOi8vd3d3Lm55dGltZXMuY29tL2xpdmUvMjAyMi8wMS8xNC9zcG9ydHMvbm92YWstZGpva292aWMtYXVzdHJhbGlh0gEA?oc=5</link><guid isPermaLink=\"false\">1176218536</guid><pubDate>Fri, 14 Jan 2022 07:48:01 GMT</pubDate><description>&lt;ol&gt;&lt;li&gt;&lt;a href=\"https://news.google.com/__i/rss/rd/articles/CBMiR2h0dHBzOi8vd3d3Lm55dGltZXMuY29tL2xpdmUvMjAyMi8wMS8xNC9zcG9ydHMvbm92YWstZGpva292aWMtYXVzdHJhbGlh0gEA?oc=5\" target=\"_blank\"&gt;Novak Djokovic's Visa Canceled Again by Australia&lt;/a&gt;&amp;nbsp;&amp;nbsp;&lt;font color=\"#6f6f6f\"&gt;The New York Times&lt;/font&gt;&lt;/li&gt;&lt;li&gt;&lt;a href=\"https://news.google.com/__i/rss/rd/articles/CBMibWh0dHBzOi8vd3d3LmVzcG4uY29tL3Rlbm5pcy9zdG9yeS9fL2lkLzMzMDYyODI2L25vdmFrLWRqb2tvdmljLWZhY2VzLWRlcG9ydGF0aW9uLWF1c3RyYWxpYS1yZXZva2VzLXZpc2EtYWdhaW7SAXpodHRwczovL3d3dy5lc3BuLmNvbS90ZW5uaXMvc3RvcnkvXy9pZC8zMzA2MjgyNi9ub3Zhay1kam9rb3ZpYy1mYWNlcy1kZXBvcnRhdGlvbi1hdXN0cmFsaWEtcmV2b2tlcy12aXNhLWFnYWluP3BsYXRmb3JtPWFtcA?oc=5\" target=\"_blank\"&gt;Novak Djokovic has visa revoked a second time in Australia, expected to appeal&lt;/a&gt;&amp;nbsp;&amp;nbsp;&lt;font color=\"#6f6f6f\"&gt;ESPN&lt;/font&gt;&lt;/li&gt;&lt;li&gt;&lt;a href=\"https://news.google.com/__i/rss/rd/articles/CBMiMWh0dHBzOi8vd3d3LmJiYy5jb20vbmV3cy93b3JsZC1hdXN0cmFsaWEtNTk5NzcxOTjSAQA?oc=5\" target=\"_blank\"&gt;Novak Djokovic: Unanswered questions over Australian Covid saga&lt;/a&gt;&amp;nbsp;&amp;nbsp;&lt;font color=\"#6f6f6f\"&gt;BBC News&lt;/font&gt;&lt;/li&gt;&lt;li&gt;&lt;a href=\"https://news.google.com/__i/rss/rd/articles/CBMi2QFodHRwczovL3d3dy50aGVhZ2UuY29tLmF1L3Nwb3J0L3Rlbm5pcy9ub3Zhay1kam9rb3ZpYy12aXNhLXNhZ2EtbGl2ZS11cGRhdGVzLWltbWlncmF0aW9uLW1pbmlzdGVyLXN0aWxsLXlldC10by1tYWtlLWRlY2lzaW9uLWFzLXNlcmJpYW4tdGVubmlzLXN0YXItcy0yMDIyLWF1c3RyYWxpYW4tb3Blbi1jYW1wYWlnbi1yZW1haW5zLWluLWxpbWJvLTIwMjIwMTE0LXA1OW83aS5odG1s0gHZAWh0dHBzOi8vYW1wLnRoZWFnZS5jb20uYXUvc3BvcnQvdGVubmlzL25vdmFrLWRqb2tvdmljLXZpc2Etc2FnYS1saXZlLXVwZGF0ZXMtaW1taWdyYXRpb24tbWluaXN0ZXItc3RpbGwteWV0LXRvLW1ha2UtZGVjaXNpb24tYXMtc2VyYmlhbi10ZW5uaXMtc3Rhci1zLTIwMjItYXVzdHJhbGlhbi1vcGVuLWNhbXBhaWduLXJlbWFpbnMtaW4tbGltYm8tMjAyMjAxMTQtcDU5bzdpLmh0bWw?oc=5\" target=\"_blank\"&gt;Novak Djokovic visa saga LIVE updates: Immigration Minister cancels Serbian tennis star’s visa ahead of 2022 Australian Open campaign&lt;/a&gt;&amp;nbsp;&amp;nbsp;&lt;font color=\"#6f6f6f\"&gt;The Age&lt;/font&gt;&lt;/li&gt;&lt;li&gt;&lt;a href=\"https://news.google.com/__i/rss/rd/articles/CBMijQFodHRwczovL3d3dy50aGVndWFyZGlhbi5jb20vY29tbWVudGlzZnJlZS8yMDIyL2phbi8xNC93aGF0LW1vcmUtY291bGQtbm92YWstZGpva292aWMtaGF2ZS1kb25lLWdldC12YWNjaW5hdGVkLWlzb2xhdGUtYW5kLWdldC10aGUtZmFjdHMtcmlnaHTSAQA?oc=5\" target=\"_blank\"&gt;What more could Novak Djokovic have done? Get vaccinated, isolate and get the facts right&lt;/a&gt;&amp;nbsp;&amp;nbsp;&lt;font color=\"#6f6f6f\"&gt;The Guardian&lt;/font&gt;&lt;/li&gt;&lt;li&gt;&lt;strong&gt;&lt;a href=\"https://news.google.com/stories/CAAqNggKIjBDQklTSGpvSmMzUnZjbmt0TXpZd1NoRUtEd2lvMS02d0JCRmNOdmRxWjcta1FTZ0FQAQ?oc=5\" target=\"_blank\"&gt;View Full Coverage on Google News&lt;/a&gt;&lt;/strong&gt;&lt;/li&gt;&lt;/ol&gt;</description><source url=\"https://www.nytimes.com\">The New York Times</source></item>,\n",
       " <item><title>Boris Johnson's staff accused of more rule-breaking parties inside No 10 - BBC News</title><link>https://news.google.com/__i/rss/rd/articles/CBMiLWh0dHBzOi8vd3d3LmJiYy5jb20vbmV3cy91ay1wb2xpdGljcy01OTk4OTk0NtIBAA?oc=5</link><guid isPermaLink=\"false\">1246123235</guid><pubDate>Fri, 14 Jan 2022 03:30:55 GMT</pubDate><description>&lt;ol&gt;&lt;li&gt;&lt;a href=\"https://news.google.com/__i/rss/rd/articles/CBMiLWh0dHBzOi8vd3d3LmJiYy5jb20vbmV3cy91ay1wb2xpdGljcy01OTk4OTk0NtIBAA?oc=5\" target=\"_blank\"&gt;Boris Johnson's staff accused of more rule-breaking parties inside No 10&lt;/a&gt;&amp;nbsp;&amp;nbsp;&lt;font color=\"#6f6f6f\"&gt;BBC News&lt;/font&gt;&lt;/li&gt;&lt;li&gt;&lt;a href=\"https://news.google.com/__i/rss/rd/articles/CBMiggFodHRwczovL3d3dy5ibG9vbWJlcmcuY29tL29waW5pb24vYXJ0aWNsZXMvMjAyMi0wMS0xNC9hZnRlci1wYXJ0eWdhdGUtYm9yaXMtam9obnNvbi1zLWZhdGUtZGVwZW5kcy1vbi1ncmF5LWlucXVpcnktdG9yeS1tcHMtdm90ZXJz0gEA?oc=5\" target=\"_blank\"&gt;After Partygate, Boris Johnson's Fate Depends on Gray Inquiry, Tory MPs, Voters&lt;/a&gt;&amp;nbsp;&amp;nbsp;&lt;font color=\"#6f6f6f\"&gt;Bloomberg&lt;/font&gt;&lt;/li&gt;&lt;li&gt;&lt;a href=\"https://news.google.com/__i/rss/rd/articles/CBMikAFodHRwczovL3d3dy50aGVndWFyZGlhbi5jb20vY29tbWVudGlzZnJlZS8yMDIyL2phbi8xMi90aGUtZ3VhcmRpYW4tdmlldy1vZi1ib3Jpcy1qb2huc29ucy1hcG9sb2dldGljLWRlZmVuY2Utc28tYmVnaW5zLWFuLWVyYS1vZi1wb2xpdGljYWwtY2hhb3PSAQA?oc=5\" target=\"_blank\"&gt;The Guardian view on Boris Johnson’s apologetic defence: so begins an era of political chaos&lt;/a&gt;&amp;nbsp;&amp;nbsp;&lt;font color=\"#6f6f6f\"&gt;The Guardian&lt;/font&gt;&lt;/li&gt;&lt;li&gt;&lt;strong&gt;&lt;a href=\"https://news.google.com/stories/CAAqNggKIjBDQklTSGpvSmMzUnZjbmt0TXpZd1NoRUtEd2pqcVpuU0JCRU9URHZDTjA5MzZTZ0FQAQ?oc=5\" target=\"_blank\"&gt;View Full Coverage on Google News&lt;/a&gt;&lt;/strong&gt;&lt;/li&gt;&lt;/ol&gt;</description><source url=\"https://www.bbc.com\">BBC News</source></item>,\n",
       " <item><title>Is omicron burning out? - WBAY</title><link>https://news.google.com/__i/rss/rd/articles/CBMiN2h0dHBzOi8vd3d3LndiYXkuY29tLzIwMjIvMDEvMTMvaXMtb21pY3Jvbi1idXJuaW5nLW91dC_SAQA?oc=5</link><guid isPermaLink=\"false\">1244168680</guid><pubDate>Thu, 13 Jan 2022 22:25:00 GMT</pubDate><description>&lt;ol&gt;&lt;li&gt;&lt;a href=\"https://news.google.com/__i/rss/rd/articles/CBMiN2h0dHBzOi8vd3d3LndiYXkuY29tLzIwMjIvMDEvMTMvaXMtb21pY3Jvbi1idXJuaW5nLW91dC_SAQA?oc=5\" target=\"_blank\"&gt;Is omicron burning out?&lt;/a&gt;&amp;nbsp;&amp;nbsp;&lt;font color=\"#6f6f6f\"&gt;WBAY&lt;/font&gt;&lt;/li&gt;&lt;li&gt;&lt;a href=\"https://news.google.com/__i/rss/rd/articles/CBMiSGh0dHBzOi8vbnlwb3N0LmNvbS8yMDIyLzAxLzEzL3VrLW1heS1iZS1wYXN0LW9taWNyb24tcGVhay1kYXRhLXN1Z2dlc3RzL9IBAA?oc=5\" target=\"_blank\"&gt;UK may be past Omicron peak, data suggests&lt;/a&gt;&amp;nbsp;&amp;nbsp;&lt;font color=\"#6f6f6f\"&gt;New York Post &lt;/font&gt;&lt;/li&gt;&lt;li&gt;&lt;a href=\"https://news.google.com/__i/rss/rd/articles/CBMiUWh0dHBzOi8vd3d3LmZveDI5LmNvbS9uZXdzL29taWNyb24tY291bGQtYmUtaGVhZGVkLWZvci1hLXJhcGlkLWRyb3AtaW4tYnJpdGFpbi11c9IBVWh0dHBzOi8vd3d3LmZveDI5LmNvbS9uZXdzL29taWNyb24tY291bGQtYmUtaGVhZGVkLWZvci1hLXJhcGlkLWRyb3AtaW4tYnJpdGFpbi11cy5hbXA?oc=5\" target=\"_blank\"&gt;Omicron could be headed for a rapid drop in Britain, US&lt;/a&gt;&amp;nbsp;&amp;nbsp;&lt;font color=\"#6f6f6f\"&gt;FOX 29 Philadelphia&lt;/font&gt;&lt;/li&gt;&lt;li&gt;&lt;strong&gt;&lt;a href=\"https://news.google.com/stories/CAAqNggKIjBDQklTSGpvSmMzUnZjbmt0TXpZd1NoRUtEd2pvZzZMUkJCRWd5SEZSSGk0dm15Z0FQAQ?oc=5\" target=\"_blank\"&gt;View Full Coverage on Google News&lt;/a&gt;&lt;/strong&gt;&lt;/li&gt;&lt;/ol&gt;</description><source url=\"https://www.wbay.com\">WBAY</source></item>,\n",
       " <item><title>U.S. Hasn't Determined That Russia Has Decided on Military Path Forward, Says Sullivan - U.S. News &amp; World Report</title><link>https://news.google.com/__i/rss/rd/articles/CBMiiQFodHRwczovL3d3dy51c25ld3MuY29tL25ld3Mvd29ybGQvYXJ0aWNsZXMvMjAyMi0wMS0xMy91LXMtaGFzbnQtZGV0ZXJtaW5lZC10aGF0LXJ1c3NpYS1oYXMtZGVjaWRlZC1vbi1taWxpdGFyeS1wYXRoLWZvcndhcmQtc2F5cy1zdWxsaXZhbtIBlQFodHRwczovL3d3dy51c25ld3MuY29tL25ld3Mvd29ybGQvYXJ0aWNsZXMvMjAyMi0wMS0xMy91LXMtaGFzbnQtZGV0ZXJtaW5lZC10aGF0LXJ1c3NpYS1oYXMtZGVjaWRlZC1vbi1taWxpdGFyeS1wYXRoLWZvcndhcmQtc2F5cy1zdWxsaXZhbj9jb250ZXh0PWFtcA?oc=5</link><guid isPermaLink=\"false\">1254103178</guid><pubDate>Thu, 13 Jan 2022 20:37:00 GMT</pubDate><description>&lt;ol&gt;&lt;li&gt;&lt;a href=\"https://news.google.com/__i/rss/rd/articles/CBMiiQFodHRwczovL3d3dy51c25ld3MuY29tL25ld3Mvd29ybGQvYXJ0aWNsZXMvMjAyMi0wMS0xMy91LXMtaGFzbnQtZGV0ZXJtaW5lZC10aGF0LXJ1c3NpYS1oYXMtZGVjaWRlZC1vbi1taWxpdGFyeS1wYXRoLWZvcndhcmQtc2F5cy1zdWxsaXZhbtIBlQFodHRwczovL3d3dy51c25ld3MuY29tL25ld3Mvd29ybGQvYXJ0aWNsZXMvMjAyMi0wMS0xMy91LXMtaGFzbnQtZGV0ZXJtaW5lZC10aGF0LXJ1c3NpYS1oYXMtZGVjaWRlZC1vbi1taWxpdGFyeS1wYXRoLWZvcndhcmQtc2F5cy1zdWxsaXZhbj9jb250ZXh0PWFtcA?oc=5\" target=\"_blank\"&gt;U.S. Hasn't Determined That Russia Has Decided on Military Path Forward, Says Sullivan&lt;/a&gt;&amp;nbsp;&amp;nbsp;&lt;font color=\"#6f6f6f\"&gt;U.S. News &amp; World Report&lt;/font&gt;&lt;/li&gt;&lt;li&gt;&lt;a href=\"https://news.google.com/__i/rss/rd/articles/CBMiaWh0dHBzOi8vdGhlaGlsbC5jb20vaG9tZW5ld3MvYWRtaW5pc3RyYXRpb24vNTg5NjY0LXN1bGxpdmFuLXNheXMtdGhyZWF0LW9mLXJ1c3NpYW4tbWlsaXRhcnktaW52YXNpb24taGlnaNIBbWh0dHBzOi8vdGhlaGlsbC5jb20vaG9tZW5ld3MvYWRtaW5pc3RyYXRpb24vNTg5NjY0LXN1bGxpdmFuLXNheXMtdGhyZWF0LW9mLXJ1c3NpYW4tbWlsaXRhcnktaW52YXNpb24taGlnaD9hbXA?oc=5\" target=\"_blank\"&gt;Sullivan says threat of Russian military invasion of Ukraine 'high' | TheHill&lt;/a&gt;&amp;nbsp;&amp;nbsp;&lt;font color=\"#6f6f6f\"&gt;The Hill&lt;/font&gt;&lt;/li&gt;&lt;li&gt;&lt;a href=\"https://news.google.com/__i/rss/rd/articles/CBMiVGh0dHBzOi8vd3d3LmMtc3Bhbi5vcmcvdmlkZW8vPzUxNzI0Mi0xL2plbi1wc2FraS1qYWtlLXN1bGxpdmFuLXJlcG9ydGVycy13aGl0ZS1ob3VzZdIBAA?oc=5\" target=\"_blank\"&gt;White House Daily Briefing&lt;/a&gt;&amp;nbsp;&amp;nbsp;&lt;font color=\"#6f6f6f\"&gt;C-SPAN&lt;/font&gt;&lt;/li&gt;&lt;li&gt;&lt;a href=\"https://news.google.com/__i/rss/rd/articles/CBMieWh0dHBzOi8vd3d3LnJldXRlcnMuY29tL3dvcmxkL3VzLWhhc250LWRldGVybWluZWQtdGhhdC1ydXNzaWEtaGFzLWRlY2lkZWQtbWlsaXRhcnktcGF0aC1mb3J3YXJkLXNheXMtc3VsbGl2YW4tMjAyMi0wMS0xMy_SAQA?oc=5\" target=\"_blank\"&gt;U.S. hasn't determined that Russia has decided on military path forward, says Sullivan&lt;/a&gt;&amp;nbsp;&amp;nbsp;&lt;font color=\"#6f6f6f\"&gt;Reuters&lt;/font&gt;&lt;/li&gt;&lt;li&gt;&lt;strong&gt;&lt;a href=\"https://news.google.com/stories/CAAqNggKIjBDQklTSGpvSmMzUnZjbmt0TXpZd1NoRUtEd2lLc1lEV0JCSEVJNGNWQnVVck9pZ0FQAQ?oc=5\" target=\"_blank\"&gt;View Full Coverage on Google News&lt;/a&gt;&lt;/strong&gt;&lt;/li&gt;&lt;/ol&gt;</description><source url=\"https://www.usnews.com\">U.S. News &amp; World Report</source></item>,\n",
       " <item><title>Biden to nominate Raskin, 2 others to Fed board - POLITICO</title><link>https://news.google.com/__i/rss/rd/articles/CBMiS2h0dHBzOi8vd3d3LnBvbGl0aWNvLmNvbS9uZXdzLzIwMjIvMDEvMTMvYmlkZW4tZmVkLW5vbWluYXRpb24tcmFza2luLTUyNzA5OdIBAA?oc=5</link><guid isPermaLink=\"false\">1241174094</guid><pubDate>Fri, 14 Jan 2022 03:03:18 GMT</pubDate><description>&lt;ol&gt;&lt;li&gt;&lt;a href=\"https://news.google.com/__i/rss/rd/articles/CBMiS2h0dHBzOi8vd3d3LnBvbGl0aWNvLmNvbS9uZXdzLzIwMjIvMDEvMTMvYmlkZW4tZmVkLW5vbWluYXRpb24tcmFza2luLTUyNzA5OdIBAA?oc=5\" target=\"_blank\"&gt;Biden to nominate Raskin, 2 others to Fed board&lt;/a&gt;&amp;nbsp;&amp;nbsp;&lt;font color=\"#6f6f6f\"&gt;POLITICO&lt;/font&gt;&lt;/li&gt;&lt;li&gt;&lt;a href=\"https://news.google.com/__i/rss/rd/articles/CBMifWh0dHBzOi8vd3d3LmNuYmMuY29tLzIwMjIvMDEvMTMvYmlkZW4tdG8tbm9taW5hdGUtc2FyYWgtYmxvb20tcmFza2luLWxpc2EtY29vay1hbmQtcGhpbGlwLWplZmZlcnNvbi10by1rZXktZmVkLXBvc2l0aW9ucy5odG1s0gEA?oc=5\" target=\"_blank\"&gt;Biden to nominate Sarah Bloom Raskin as vice chair for supervision at Fed; Lisa Cook and Philip Jefferson as governors&lt;/a&gt;&amp;nbsp;&amp;nbsp;&lt;font color=\"#6f6f6f\"&gt;CNBC&lt;/font&gt;&lt;/li&gt;&lt;li&gt;&lt;a href=\"https://news.google.com/__i/rss/rd/articles/CBMiV2h0dHBzOi8vd3d3Lm55dGltZXMuY29tLzIwMjIvMDEvMTMvYnVzaW5lc3MvZWNvbm9teS9iaWRlbi1mZWRlcmFsLXJlc2VydmUtbm9taW5lZXMuaHRtbNIBAA?oc=5\" target=\"_blank\"&gt;Biden Will Nominate Three New Fed Officials&lt;/a&gt;&amp;nbsp;&amp;nbsp;&lt;font color=\"#6f6f6f\"&gt;The New York Times&lt;/font&gt;&lt;/li&gt;&lt;li&gt;&lt;a href=\"https://news.google.com/__i/rss/rd/articles/CBMiPWh0dHBzOi8vd3d3LnJldXRlcnMuY29tL2FydGljbGUvaW5zdGFudC1hcnRpY2xlL2lkVVNMMU4yVFUwNljSATRodHRwczovL21vYmlsZS5yZXV0ZXJzLmNvbS9hcnRpY2xlL2FtcC9pZFVTS0JOMkpPMDVW?oc=5\" target=\"_blank\"&gt;Raskin nomination for Fed regulation chief would put Wall Street on notice&lt;/a&gt;&amp;nbsp;&amp;nbsp;&lt;font color=\"#6f6f6f\"&gt;Reuters.com&lt;/font&gt;&lt;/li&gt;&lt;li&gt;&lt;strong&gt;&lt;a href=\"https://news.google.com/stories/CAAqNggKIjBDQklTSGpvSmMzUnZjbmt0TXpZd1NoRUtEd2pPb092UEJCRnVkVjNLUDlaOUJDZ0FQAQ?oc=5\" target=\"_blank\"&gt;View Full Coverage on Google News&lt;/a&gt;&lt;/strong&gt;&lt;/li&gt;&lt;/ol&gt;</description><source url=\"https://www.politico.com\">POLITICO</source></item>,\n",
       " <item><title>8,000 Delta workers tested positive for covid in the last month - Quartz</title><link>https://news.google.com/__i/rss/rd/articles/CBMiVmh0dHBzOi8vcXouY29tLzIxMTI4OTkvODAwMC1kZWx0YS13b3JrZXJzLXRlc3RlZC1wb3NpdGl2ZS1mb3ItY292aWQtaW4tdGhlLWxhc3QtbW9udGgv0gFaaHR0cHM6Ly9xei5jb20vMjExMjg5OS84MDAwLWRlbHRhLXdvcmtlcnMtdGVzdGVkLXBvc2l0aXZlLWZvci1jb3ZpZC1pbi10aGUtbGFzdC1tb250aC9hbXAv?oc=5</link><guid isPermaLink=\"false\">1144691400</guid><pubDate>Thu, 13 Jan 2022 23:00:57 GMT</pubDate><description>&lt;ol&gt;&lt;li&gt;&lt;a href=\"https://news.google.com/__i/rss/rd/articles/CBMiVmh0dHBzOi8vcXouY29tLzIxMTI4OTkvODAwMC1kZWx0YS13b3JrZXJzLXRlc3RlZC1wb3NpdGl2ZS1mb3ItY292aWQtaW4tdGhlLWxhc3QtbW9udGgv0gFaaHR0cHM6Ly9xei5jb20vMjExMjg5OS84MDAwLWRlbHRhLXdvcmtlcnMtdGVzdGVkLXBvc2l0aXZlLWZvci1jb3ZpZC1pbi10aGUtbGFzdC1tb250aC9hbXAv?oc=5\" target=\"_blank\"&gt;8,000 Delta workers tested positive for covid in the last month&lt;/a&gt;&amp;nbsp;&amp;nbsp;&lt;font color=\"#6f6f6f\"&gt;Quartz&lt;/font&gt;&lt;/li&gt;&lt;li&gt;&lt;a href=\"https://news.google.com/__i/rss/rd/articles/CBMicWh0dHBzOi8vd3d3LmNuYmMuY29tLzIwMjIvMDEvMTMvZGVsdGEtY2VvLXNheXMtODAwMC1lbXBsb3llZXMtaGF2ZS10ZXN0ZWQtcG9zaXRpdmUtZm9yLWNvdmlkLWluLWxhc3QtNC13ZWVrcy5odG1s0gEA?oc=5\" target=\"_blank\"&gt;Delta CEO says 8,000 employees have tested positive for Covid in last 4 weeks&lt;/a&gt;&amp;nbsp;&amp;nbsp;&lt;font color=\"#6f6f6f\"&gt;CNBC&lt;/font&gt;&lt;/li&gt;&lt;li&gt;&lt;a href=\"https://news.google.com/__i/rss/rd/articles/CBMiZ2h0dHBzOi8vYWJjbmV3cy5nby5jb20vQnVzaW5lc3Mvd2lyZVN0b3J5L2RlbHRhLWxvc2VzLTQwOC1taWxsaW9uLTgwMDAtZW1wbG95ZWVzLWhpdC1pbmZlY3Rpb24tODIyNDA3MjbSAWtodHRwczovL2FiY25ld3MuZ28uY29tL2FtcC9CdXNpbmVzcy93aXJlU3RvcnkvZGVsdGEtbG9zZXMtNDA4LW1pbGxpb24tODAwMC1lbXBsb3llZXMtaGl0LWluZmVjdGlvbi04MjI0MDcyNg?oc=5\" target=\"_blank\"&gt;After wave of cancellations, Delta sees recovery in 2022&lt;/a&gt;&amp;nbsp;&amp;nbsp;&lt;font color=\"#6f6f6f\"&gt;ABC News&lt;/font&gt;&lt;/li&gt;&lt;li&gt;&lt;a href=\"https://news.google.com/__i/rss/rd/articles/CBMiR2h0dHBzOi8vdGhlcG9pbnRzZ3V5LmNvbS9uZXdzL2RlbHRhLWFpci1saW5lcy1lYXJuaW5ncy1vbWljcm9uLW91dGxvb2sv0gEA?oc=5\" target=\"_blank\"&gt;‘Worst may be behind us’: Delta sees demand hit from omicron, but thinks it won’t last long&lt;/a&gt;&amp;nbsp;&amp;nbsp;&lt;font color=\"#6f6f6f\"&gt;The Points Guy&lt;/font&gt;&lt;/li&gt;&lt;li&gt;&lt;strong&gt;&lt;a href=\"https://news.google.com/stories/CAAqNggKIjBDQklTSGpvSmMzUnZjbmt0TXpZd1NoRUtEd2pJdGVxaEJCSGpqbGNvYWw1Z0ZpZ0FQAQ?oc=5\" target=\"_blank\"&gt;View Full Coverage on Google News&lt;/a&gt;&lt;/strong&gt;&lt;/li&gt;&lt;/ol&gt;</description><source url=\"https://qz.com\">Quartz</source></item>,\n",
       " <item><title>Why Ford Stock Rose to a Multi-Decade High Today - Motley Fool</title><link>https://news.google.com/__i/rss/rd/articles/CBMiW2h0dHBzOi8vd3d3LmZvb2wuY29tL2ludmVzdGluZy8yMDIyLzAxLzEzL3doeS1mb3JkLXN0b2NrLXJvc2UtdG8tYS1tdWx0aS1kZWNhZGUtaGlnaC10b2RheS_SAQA?oc=5</link><guid isPermaLink=\"false\">1254050672</guid><pubDate>Thu, 13 Jan 2022 22:40:44 GMT</pubDate><description>&lt;ol&gt;&lt;li&gt;&lt;a href=\"https://news.google.com/__i/rss/rd/articles/CBMiW2h0dHBzOi8vd3d3LmZvb2wuY29tL2ludmVzdGluZy8yMDIyLzAxLzEzL3doeS1mb3JkLXN0b2NrLXJvc2UtdG8tYS1tdWx0aS1kZWNhZGUtaGlnaC10b2RheS_SAQA?oc=5\" target=\"_blank\"&gt;Why Ford Stock Rose to a Multi-Decade High Today&lt;/a&gt;&amp;nbsp;&amp;nbsp;&lt;font color=\"#6f6f6f\"&gt;Motley Fool&lt;/font&gt;&lt;/li&gt;&lt;li&gt;&lt;a href=\"https://news.google.com/__i/rss/rd/articles/CBMiWmh0dHBzOi8vd3d3LmNuYmMuY29tLzIwMjIvMDEvMTMvZm9yZHMtbWFya2V0LWNhcC10b3BzLTEwMC1iaWxsaW9uLWZvci1maXJzdC10aW1lLWV2ZXIuaHRtbNIBAA?oc=5\" target=\"_blank\"&gt;Ford's market cap tops $100 billion for first time ever&lt;/a&gt;&amp;nbsp;&amp;nbsp;&lt;font color=\"#6f6f6f\"&gt;CNBC&lt;/font&gt;&lt;/li&gt;&lt;li&gt;&lt;a href=\"https://news.google.com/__i/rss/rd/articles/CBMibmh0dHBzOi8vd3d3LnJldXRlcnMuY29tL2J1c2luZXNzL2F1dG9zLXRyYW5zcG9ydGF0aW9uL2ZvcmQtY3Jvc3Nlcy0xMDAtYmxuLW1hcmtldC12YWx1ZS1maXJzdC10aW1lLTIwMjItMDEtMTMv0gEA?oc=5\" target=\"_blank\"&gt;Ford crosses $100 bln in market value for the first time&lt;/a&gt;&amp;nbsp;&amp;nbsp;&lt;font color=\"#6f6f6f\"&gt;Reuters&lt;/font&gt;&lt;/li&gt;&lt;li&gt;&lt;a href=\"https://news.google.com/__i/rss/rd/articles/CBMibmh0dHBzOi8vd3d3LmNuYmMuY29tLzIwMjIvMDEvMTMvc3RvY2tzLW1ha2luZy10aGUtYmlnZ2VzdC1tb3Zlcy1taWRkYXktZm9yZC1zbmFwLXZpcmdpbi1nYWxhY3RpYy1hbmQtbW9yZS5odG1s0gEA?oc=5\" target=\"_blank\"&gt;Stocks making the biggest moves midday: Ford, Snap, Virgin Galactic and more&lt;/a&gt;&amp;nbsp;&amp;nbsp;&lt;font color=\"#6f6f6f\"&gt;CNBC&lt;/font&gt;&lt;/li&gt;&lt;li&gt;&lt;strong&gt;&lt;a href=\"https://news.google.com/stories/CAAqNggKIjBDQklTSGpvSmMzUnZjbmt0TXpZd1NoRUtEd2p3bHYzVkJCR3d2ZXlVcUs4SHhDZ0FQAQ?oc=5\" target=\"_blank\"&gt;View Full Coverage on Google News&lt;/a&gt;&lt;/strong&gt;&lt;/li&gt;&lt;/ol&gt;</description><source url=\"https://www.fool.com\">Motley Fool</source></item>,\n",
       " <item><title>North Korea hackers stole $400m of cryptocurrency in 2021, report says - BBC News</title><link>https://news.google.com/__i/rss/rd/articles/CBMiKmh0dHBzOi8vd3d3LmJiYy5jb20vbmV3cy9idXNpbmVzcy01OTk5MDQ3N9IBLmh0dHBzOi8vd3d3LmJiYy5jb20vbmV3cy9idXNpbmVzcy01OTk5MDQ3Ny5hbXA?oc=5</link><guid isPermaLink=\"false\">1106522368</guid><pubDate>Fri, 14 Jan 2022 05:16:27 GMT</pubDate><description>&lt;ol&gt;&lt;li&gt;&lt;a href=\"https://news.google.com/__i/rss/rd/articles/CBMiKmh0dHBzOi8vd3d3LmJiYy5jb20vbmV3cy9idXNpbmVzcy01OTk5MDQ3N9IBLmh0dHBzOi8vd3d3LmJiYy5jb20vbmV3cy9idXNpbmVzcy01OTk5MDQ3Ny5hbXA?oc=5\" target=\"_blank\"&gt;North Korea hackers stole $400m of cryptocurrency in 2021, report says&lt;/a&gt;&amp;nbsp;&amp;nbsp;&lt;font color=\"#6f6f6f\"&gt;BBC News&lt;/font&gt;&lt;/li&gt;&lt;li&gt;&lt;a href=\"https://news.google.com/__i/rss/rd/articles/CBMiK2h0dHBzOi8vd3d3LnlvdXR1YmUuY29tL3dhdGNoP3Y9N1BfWmItanRlUzTSAQA?oc=5\" target=\"_blank\"&gt;N. Korean hackers stole US $400 mil. worth of cryptocurrencies in 2021: Report&lt;/a&gt;&amp;nbsp;&amp;nbsp;&lt;font color=\"#6f6f6f\"&gt;Arirang News&lt;/font&gt;&lt;/li&gt;&lt;li&gt;&lt;a href=\"https://news.google.com/__i/rss/rd/articles/CBMidWh0dHBzOi8vd3d3LnZpY2UuY29tL2VuL2FydGljbGUvamdtanFrL25vcnRoLWtvcmVhbi1oYWNrZXJzLWltcGVyc29uYXRlLW1ham9yLWNyeXB0by1pbnZlc3RtZW50LWZpcm0tdG8tc2NhbS1zdGFydHVwc9IBAA?oc=5\" target=\"_blank\"&gt;North Korean Hackers Impersonate Major Crypto Investment Firm to Scam Startups&lt;/a&gt;&amp;nbsp;&amp;nbsp;&lt;font color=\"#6f6f6f\"&gt;VICE&lt;/font&gt;&lt;/li&gt;&lt;li&gt;&lt;a href=\"https://news.google.com/__i/rss/rd/articles/CBMidWh0dHBzOi8vd3d3LnRoZWd1YXJkaWFuLmNvbS93b3JsZC8yMDIyL2phbi8xNC9ub3J0aC1rb3JlYW4taGFja2Vycy1zdG9sZS00MDBtLWluLWRpZ2l0YWwtYXNzZXRzLWxhc3QteWVhci1zYXlzLXJlcG9ydNIBAA?oc=5\" target=\"_blank\"&gt;North Korean hackers stole $400m in digital assets last year, says report&lt;/a&gt;&amp;nbsp;&amp;nbsp;&lt;font color=\"#6f6f6f\"&gt;The Guardian&lt;/font&gt;&lt;/li&gt;&lt;li&gt;&lt;strong&gt;&lt;a href=\"https://news.google.com/stories/CAAqNggKIjBDQklTSGpvSmMzUnZjbmt0TXpZd1NoRUtEd2lBNHRDUEJCRkVKbmlxd1h3MXppZ0FQAQ?oc=5\" target=\"_blank\"&gt;View Full Coverage on Google News&lt;/a&gt;&lt;/strong&gt;&lt;/li&gt;&lt;/ol&gt;</description><source url=\"https://www.bbc.com\">BBC News</source></item>,\n",
       " <item><title>Apple is no longer letting users stay on iOS 14 with security updates - 9to5Mac</title><link>https://news.google.com/__i/rss/rd/articles/CBMidGh0dHBzOi8vOXRvNW1hYy5jb20vMjAyMi8wMS8xMy9hcHBsZS1zdGVwcy1iYWNrLWFuZC1pcy1uby1sb25nZXItbGV0dGluZy11c2Vycy1zdGF5LW9uLWlvcy0xNC13aXRoLXNlY3VyaXR5LXVwZGF0ZXMv0gEA?oc=5</link><guid isPermaLink=\"false\">1249801746</guid><pubDate>Fri, 14 Jan 2022 00:55:00 GMT</pubDate><description>&lt;ol&gt;&lt;li&gt;&lt;a href=\"https://news.google.com/__i/rss/rd/articles/CBMidGh0dHBzOi8vOXRvNW1hYy5jb20vMjAyMi8wMS8xMy9hcHBsZS1zdGVwcy1iYWNrLWFuZC1pcy1uby1sb25nZXItbGV0dGluZy11c2Vycy1zdGF5LW9uLWlvcy0xNC13aXRoLXNlY3VyaXR5LXVwZGF0ZXMv0gEA?oc=5\" target=\"_blank\"&gt;Apple is no longer letting users stay on iOS 14 with security updates&lt;/a&gt;&amp;nbsp;&amp;nbsp;&lt;font color=\"#6f6f6f\"&gt;9to5Mac&lt;/font&gt;&lt;/li&gt;&lt;li&gt;&lt;a href=\"https://news.google.com/__i/rss/rd/articles/CBMiT2h0dHBzOi8vd3d3Lm1hY3J1bW9ycy5jb20vMjAyMi8wMS8xMy9hcHBsZS1wdXNoaW5nLWlvcy0xNC11c2Vycy11cGdyYWRlLWlvcy0xNS_SAQA?oc=5\" target=\"_blank\"&gt;Apple More Aggressively Pushing iOS 14 Users to Upgrade to iOS 15&lt;/a&gt;&amp;nbsp;&amp;nbsp;&lt;font color=\"#6f6f6f\"&gt;MacRumors&lt;/font&gt;&lt;/li&gt;&lt;li&gt;&lt;a href=\"https://news.google.com/__i/rss/rd/articles/CBMiPmh0dHBzOi8vd3d3LnBob25lYXJlbmEuY29tL25ld3MvaW9zLTE1LWFkb3B0aW9uLWRyb3BzX2lkMTM3Nzc20gFCaHR0cHM6Ly93d3cucGhvbmVhcmVuYS5jb20vYW1wL25ld3MvaW9zLTE1LWFkb3B0aW9uLWRyb3BzX2lkMTM3Nzc2?oc=5\" target=\"_blank\"&gt;Adoption rates drop for iOS 15 and iPadOS 15&lt;/a&gt;&amp;nbsp;&amp;nbsp;&lt;font color=\"#6f6f6f\"&gt;PhoneArena&lt;/font&gt;&lt;/li&gt;&lt;li&gt;&lt;a href=\"https://news.google.com/__i/rss/rd/articles/CBMiP2h0dHBzOi8vOXRvNW1hYy5jb20vMjAyMi8wMS8xMy9hcHBsZS1pb3MtMTUtYWRvcHRpb24tdnMtaW9zLTE0L9IBAA?oc=5\" target=\"_blank\"&gt;Apple says iOS 15 adoption is lower than usual, but here’s why&lt;/a&gt;&amp;nbsp;&amp;nbsp;&lt;font color=\"#6f6f6f\"&gt;9to5Mac&lt;/font&gt;&lt;/li&gt;&lt;li&gt;&lt;a href=\"https://news.google.com/__i/rss/rd/articles/CBMiP2h0dHBzOi8vd3d3Lm1hY3J1bW9ycy5jb20vMjAyMi8wMS8xMy9pb3MtMTUtaW5zdGFsbGF0aW9uLXJhdGVzL9IBAA?oc=5\" target=\"_blank\"&gt;iOS 15 Now Installed on 72% of iPhones From the Last Four Years&lt;/a&gt;&amp;nbsp;&amp;nbsp;&lt;font color=\"#6f6f6f\"&gt;MacRumors&lt;/font&gt;&lt;/li&gt;&lt;li&gt;&lt;strong&gt;&lt;a href=\"https://news.google.com/stories/CAAqNggKIjBDQklTSGpvSmMzUnZjbmt0TXpZd1NoRUtEd2lTN1BuVEJCRVRmeDE4TGJLNS1TZ0FQAQ?oc=5\" target=\"_blank\"&gt;View Full Coverage on Google News&lt;/a&gt;&lt;/strong&gt;&lt;/li&gt;&lt;/ol&gt;</description><source url=\"https://9to5mac.com\">9to5Mac</source></item>,\n",
       " <item><title>PUBG’s developer is suing Apple, Google, and the developer of lucrative PUBG lookalike Free Fire - The Verge</title><link>https://news.google.com/__i/rss/rd/articles/CBMiamh0dHBzOi8vd3d3LnRoZXZlcmdlLmNvbS8yMDIyLzEvMTMvMjI4ODI3OTYvcHViZy1kZXZlbG9wZXIta3JhZnRvbi1zdWluZy1hcHBsZS1nb29nbGUtZ2FyZW5hLWZyZWUtZmlyZS1tYXjSAQA?oc=5</link><guid isPermaLink=\"false\">1242465310</guid><pubDate>Fri, 14 Jan 2022 02:14:54 GMT</pubDate><description>&lt;ol&gt;&lt;li&gt;&lt;a href=\"https://news.google.com/__i/rss/rd/articles/CBMiamh0dHBzOi8vd3d3LnRoZXZlcmdlLmNvbS8yMDIyLzEvMTMvMjI4ODI3OTYvcHViZy1kZXZlbG9wZXIta3JhZnRvbi1zdWluZy1hcHBsZS1nb29nbGUtZ2FyZW5hLWZyZWUtZmlyZS1tYXjSAQA?oc=5\" target=\"_blank\"&gt;PUBG’s developer is suing Apple, Google, and the developer of lucrative PUBG lookalike Free Fire&lt;/a&gt;&amp;nbsp;&amp;nbsp;&lt;font color=\"#6f6f6f\"&gt;The Verge&lt;/font&gt;&lt;/li&gt;&lt;li&gt;&lt;a href=\"https://news.google.com/__i/rss/rd/articles/CBMiU2h0dHBzOi8vd3d3LnBvbHlnb24uY29tLzIyODgyMDk5L3B1YmctZGV2ZWxvcGVycy1sYXdzdWl0LWFwcGxlLWdvb2dsZS1nYXJlbmEtY2xvbmVz0gEA?oc=5\" target=\"_blank\"&gt;PUBG makers bring lawsuit against copycat game, plus Apple and Google&lt;/a&gt;&amp;nbsp;&amp;nbsp;&lt;font color=\"#6f6f6f\"&gt;Polygon&lt;/font&gt;&lt;/li&gt;&lt;li&gt;&lt;a href=\"https://news.google.com/__i/rss/rd/articles/CBMiS2h0dHBzOi8vd3d3Lm1hY3J1bW9ycy5jb20vMjAyMi8wMS8xMy9wdWJnLW1ha2VyLXN1ZXMtYXBwbGUtb3Zlci1jbG9uZS1hcHBzL9IBAA?oc=5\" target=\"_blank\"&gt;PUBG Maker Sues Apple and Google for Not Removing Clone Apps&lt;/a&gt;&amp;nbsp;&amp;nbsp;&lt;font color=\"#6f6f6f\"&gt;MacRumors&lt;/font&gt;&lt;/li&gt;&lt;li&gt;&lt;a href=\"https://news.google.com/__i/rss/rd/articles/CBMiemh0dHBzOi8vdGVjaGNydW5jaC5jb20vMjAyMi8wMS8xMy9wdWJnLW1vYmlsZS1tYWtlci1rcmFmdG9uLXN1ZXMtYXBwbGUtZ29vZ2xlLWFuZC1yaXZhbC1nYW1lLWRldmVsb3Blci1nYXJlbmEtb3Zlci1jbG9uZXMv0gEA?oc=5\" target=\"_blank\"&gt;PUBG Mobile maker Krafton sues Apple, Google and rival game developer Garena over clones&lt;/a&gt;&amp;nbsp;&amp;nbsp;&lt;font color=\"#6f6f6f\"&gt;TechCrunch&lt;/font&gt;&lt;/li&gt;&lt;li&gt;&lt;a href=\"https://news.google.com/__i/rss/rd/articles/CBMiaWh0dHBzOi8vd3d3LmVuZ2FkZ2V0LmNvbS9wdWJnLW1vYmlsZS1tYWtlci1zdWVzLWNvcHljYXQtZ2FtZS1hbmQtYXBwLXN0b3Jlcy10aGF0LWhvc3RlZC1pdC0yMDQwMTQ2MzEuaHRtbNIBAA?oc=5\" target=\"_blank\"&gt;'PUBG Mobile' maker sues copycat game and app stores that hosted it&lt;/a&gt;&amp;nbsp;&amp;nbsp;&lt;font color=\"#6f6f6f\"&gt;Engadget&lt;/font&gt;&lt;/li&gt;&lt;li&gt;&lt;strong&gt;&lt;a href=\"https://news.google.com/stories/CAAqNggKIjBDQklTSGpvSmMzUnZjbmt0TXpZd1NoRUtEd2llaUxyUUJCR0RvMkdhYUJTU3lDZ0FQAQ?oc=5\" target=\"_blank\"&gt;View Full Coverage on Google News&lt;/a&gt;&lt;/strong&gt;&lt;/li&gt;&lt;/ol&gt;</description><source url=\"https://www.theverge.com\">The Verge</source></item>,\n",
       " <item><title>Wordle, the viral daily word game, is harder than it looks; here's how to play - PhillyVoice.com</title><link>https://news.google.com/__i/rss/rd/articles/CBMiOmh0dHBzOi8vd3d3LnBoaWxseXZvaWNlLmNvbS93b3JkbGUtc3RyYXRlZ2llcy1ob3ctdG8tcGxheS_SAT5odHRwczovL3d3dy5waGlsbHl2b2ljZS5jb20vd29yZGxlLXN0cmF0ZWdpZXMtaG93LXRvLXBsYXkvYW1wLw?oc=5</link><guid isPermaLink=\"false\">1224744878</guid><pubDate>Thu, 13 Jan 2022 21:50:49 GMT</pubDate><description>&lt;ol&gt;&lt;li&gt;&lt;a href=\"https://news.google.com/__i/rss/rd/articles/CBMiOmh0dHBzOi8vd3d3LnBoaWxseXZvaWNlLmNvbS93b3JkbGUtc3RyYXRlZ2llcy1ob3ctdG8tcGxheS_SAT5odHRwczovL3d3dy5waGlsbHl2b2ljZS5jb20vd29yZGxlLXN0cmF0ZWdpZXMtaG93LXRvLXBsYXkvYW1wLw?oc=5\" target=\"_blank\"&gt;Wordle, the viral daily word game, is harder than it looks; here's how to play&lt;/a&gt;&amp;nbsp;&amp;nbsp;&lt;font color=\"#6f6f6f\"&gt;PhillyVoice.com&lt;/font&gt;&lt;/li&gt;&lt;li&gt;&lt;a href=\"https://news.google.com/__i/rss/rd/articles/CBMiWWh0dHBzOi8vd3d3Lndhc2hpbmd0b25wb3N0LmNvbS9vcGluaW9ucy8yMDIyLzAxLzEzL3dvcmRsZS1wZXJmZWN0LXBhbmRlbWljLWdhbWUtdG9nZXRoZXIv0gEA?oc=5\" target=\"_blank\"&gt;Opinion | Why Wordle is the perfect pandemic game&lt;/a&gt;&amp;nbsp;&amp;nbsp;&lt;font color=\"#6f6f6f\"&gt;The Washington Post&lt;/font&gt;&lt;/li&gt;&lt;li&gt;&lt;a href=\"https://news.google.com/__i/rss/rd/articles/CBMiWGh0dHBzOi8vd3d3LnRoZWd1YXJkaWFuLmNvbS91cy1uZXdzLzIwMjIvamFuLzEzL2Fic3VyZGxlLW1hY2hpYXZlbGxpYW4tdmVyc2lvbi1vZi13b3JkbGXSAVhodHRwczovL2FtcC50aGVndWFyZGlhbi5jb20vdXMtbmV3cy8yMDIyL2phbi8xMy9hYnN1cmRsZS1tYWNoaWF2ZWxsaWFuLXZlcnNpb24tb2Ytd29yZGxl?oc=5\" target=\"_blank\"&gt;Absurdle: the machiavellian version of Wordle&lt;/a&gt;&amp;nbsp;&amp;nbsp;&lt;font color=\"#6f6f6f\"&gt;The Guardian&lt;/font&gt;&lt;/li&gt;&lt;li&gt;&lt;a href=\"https://news.google.com/__i/rss/rd/articles/CBMiRGh0dHBzOi8vd3d3LmJ1enpmZWVkLmNvbS9tYWRpc29ubWNnZWUvd2hhdC1pcy13b3JkbGUtdGlwcy1hbmQtdHJpY2tz0gFMaHR0cHM6Ly93d3cuYnV6emZlZWQuY29tL2FtcGh0bWwvbWFkaXNvbm1jZ2VlL3doYXQtaXMtd29yZGxlLXRpcHMtYW5kLXRyaWNrcw?oc=5\" target=\"_blank\"&gt;If You're Wondering Why The Heck Everyone Is So Obsessed With Playing Wordle These Days, I Broke Down Exactly Why You Have To Give The Game A Whirl&lt;/a&gt;&amp;nbsp;&amp;nbsp;&lt;font color=\"#6f6f6f\"&gt;BuzzFeed&lt;/font&gt;&lt;/li&gt;&lt;li&gt;&lt;a href=\"https://news.google.com/__i/rss/rd/articles/CBMiSWh0dHBzOi8vd3d3Lndhc2hpbmd0b25wb3N0LmNvbS92aWRlby1nYW1lcy90aXBzL3doYXRzLXdvcmRsZS1ob3ctdG8tcGxheS_SAQA?oc=5\" target=\"_blank\"&gt;What's Wordle? Seven tips and facts you need to know.&lt;/a&gt;&amp;nbsp;&amp;nbsp;&lt;font color=\"#6f6f6f\"&gt;The Washington Post&lt;/font&gt;&lt;/li&gt;&lt;li&gt;&lt;strong&gt;&lt;a href=\"https://news.google.com/stories/CAAqNggKIjBDQklTSGpvSmMzUnZjbmt0TXpZd1NoRUtEd2l1djRESUJCR05ZS08yLUNCVW9TZ0FQAQ?oc=5\" target=\"_blank\"&gt;View Full Coverage on Google News&lt;/a&gt;&lt;/strong&gt;&lt;/li&gt;&lt;/ol&gt;</description><source url=\"https://www.phillyvoice.com\">PhillyVoice.com</source></item>,\n",
       " <item><title>60MP Leica M11 is here – a legend reinvented - Digital Camera World</title><link>https://news.google.com/__i/rss/rd/articles/CBMiUmh0dHBzOi8vd3d3LmRpZ2l0YWxjYW1lcmF3b3JsZC5jb20vbmV3cy82MG1wLWxlaWNhLW0xMS1pcy1oZXJlLWEtbGVnZW5kLXJlaW52ZW50ZWTSAQA?oc=5</link><guid isPermaLink=\"false\">1248758504</guid><pubDate>Thu, 13 Jan 2022 17:29:40 GMT</pubDate><description>&lt;ol&gt;&lt;li&gt;&lt;a href=\"https://news.google.com/__i/rss/rd/articles/CBMiUmh0dHBzOi8vd3d3LmRpZ2l0YWxjYW1lcmF3b3JsZC5jb20vbmV3cy82MG1wLWxlaWNhLW0xMS1pcy1oZXJlLWEtbGVnZW5kLXJlaW52ZW50ZWTSAQA?oc=5\" target=\"_blank\"&gt;60MP Leica M11 is here – a legend reinvented&lt;/a&gt;&amp;nbsp;&amp;nbsp;&lt;font color=\"#6f6f6f\"&gt;Digital Camera World&lt;/font&gt;&lt;/li&gt;&lt;li&gt;&lt;a href=\"https://news.google.com/__i/rss/rd/articles/CBMiYGh0dHBzOi8vd3d3LmNuZXQuY29tL3RlY2gvY29tcHV0aW5nL3RoZS1sZWljYS1tMTEtaXMtdGhlLW1vc3QtYmVhdXRpZnVsLWNhbWVyYS1pLXdpbGwtbmV2ZXItYnV5L9IBAA?oc=5\" target=\"_blank\"&gt;The Leica M11 is the most beautiful camera I will never buy&lt;/a&gt;&amp;nbsp;&amp;nbsp;&lt;font color=\"#6f6f6f\"&gt;CNET&lt;/font&gt;&lt;/li&gt;&lt;li&gt;&lt;a href=\"https://news.google.com/__i/rss/rd/articles/CBMiaWh0dHBzOi8vd3d3LnRoZXZlcmdlLmNvbS8yMDIyLzEvMTMvMjI4NzkyMDcvbGVpY2EtbTExLXJhbmdlZmluZGVyLWNhbWVyYS1uZXdzLWFubm91bmNlbWVudC1mZWF0dXJlcy1wcmljZdIBAA?oc=5\" target=\"_blank\"&gt;Leica’s new M11 gains some resolution and sheds some weight&lt;/a&gt;&amp;nbsp;&amp;nbsp;&lt;font color=\"#6f6f6f\"&gt;The Verge&lt;/font&gt;&lt;/li&gt;&lt;li&gt;&lt;a href=\"https://news.google.com/__i/rss/rd/articles/CBMiVWh0dHBzOi8vcGV0YXBpeGVsLmNvbS8yMDIyLzAxLzEzL3RoZS1tMTEtaXMtcHJvb2YtbGVpY2Etc2hvdWxkLXN0aWNrLXRvLXJhbmdlZmluZGVycy_SAQA?oc=5\" target=\"_blank\"&gt;The M11 is Proof Leica Should Stick to Rangefinders&lt;/a&gt;&amp;nbsp;&amp;nbsp;&lt;font color=\"#6f6f6f\"&gt;PetaPixel&lt;/font&gt;&lt;/li&gt;&lt;li&gt;&lt;strong&gt;&lt;a href=\"https://news.google.com/stories/CAAqNggKIjBDQklTSGpvSmMzUnZjbmt0TXpZd1NoRUtEd2pvbGJyVEJCR3FnSXVjdVNQS0RpZ0FQAQ?oc=5\" target=\"_blank\"&gt;View Full Coverage on Google News&lt;/a&gt;&lt;/strong&gt;&lt;/li&gt;&lt;/ol&gt;</description><source url=\"https://www.digitalcameraworld.com\">Digital Camera World</source></item>,\n",
       " <item><title>Britney Spears Speaks Out After Jamie Lynn Spears’ Televised Interview - Hollywood Reporter</title><link>https://news.google.com/__i/rss/rd/articles/CBMicWh0dHBzOi8vd3d3LmhvbGx5d29vZHJlcG9ydGVyLmNvbS9uZXdzL2dlbmVyYWwtbmV3cy9icml0bmV5LXNwZWFycy1qYW1pZS1seW5uLXNwZWFycy1tZW1vaXItaW50ZXJ2aWV3LTEyMzUwNzQ5OTkv0gF1aHR0cHM6Ly93d3cuaG9sbHl3b29kcmVwb3J0ZXIuY29tL25ld3MvZ2VuZXJhbC1uZXdzL2JyaXRuZXktc3BlYXJzLWphbWllLWx5bm4tc3BlYXJzLW1lbW9pci1pbnRlcnZpZXctMTIzNTA3NDk5OS9hbXAv?oc=5</link><guid isPermaLink=\"false\">1250362949</guid><pubDate>Fri, 14 Jan 2022 01:49:06 GMT</pubDate><description>&lt;ol&gt;&lt;li&gt;&lt;a href=\"https://news.google.com/__i/rss/rd/articles/CBMicWh0dHBzOi8vd3d3LmhvbGx5d29vZHJlcG9ydGVyLmNvbS9uZXdzL2dlbmVyYWwtbmV3cy9icml0bmV5LXNwZWFycy1qYW1pZS1seW5uLXNwZWFycy1tZW1vaXItaW50ZXJ2aWV3LTEyMzUwNzQ5OTkv0gF1aHR0cHM6Ly93d3cuaG9sbHl3b29kcmVwb3J0ZXIuY29tL25ld3MvZ2VuZXJhbC1uZXdzL2JyaXRuZXktc3BlYXJzLWphbWllLWx5bm4tc3BlYXJzLW1lbW9pci1pbnRlcnZpZXctMTIzNTA3NDk5OS9hbXAv?oc=5\" target=\"_blank\"&gt;Britney Spears Speaks Out After Jamie Lynn Spears’ Televised Interview&lt;/a&gt;&amp;nbsp;&amp;nbsp;&lt;font color=\"#6f6f6f\"&gt;Hollywood Reporter&lt;/font&gt;&lt;/li&gt;&lt;li&gt;&lt;a href=\"https://news.google.com/__i/rss/rd/articles/CBMiXGh0dHBzOi8vd3d3LmZveG5ld3MuY29tL2VudGVydGFpbm1lbnQvYnJpdG5leS1zcGVhcnMtc2xhbXMtamFtaWUtbHlubi1zcGVhcnMtb3Zlci1ib29rLW11c2lj0gEA?oc=5\" target=\"_blank\"&gt;Britney Spears slams sister Jamie Lynn Spears over book, music: 'Everything was always given to her'&lt;/a&gt;&amp;nbsp;&amp;nbsp;&lt;font color=\"#6f6f6f\"&gt;Fox News&lt;/font&gt;&lt;/li&gt;&lt;li&gt;&lt;a href=\"https://news.google.com/__i/rss/rd/articles/CBMiUmh0dHBzOi8vcGVvcGxlLmNvbS9tdXNpYy9icml0bmV5LXNwZWFycy1zbGFtcy1zaXN0ZXItamFtaWUtbHlubi1hbWlkLWJvb2stcmVsZWFzZS_SAQA?oc=5\" target=\"_blank\"&gt;Britney Spears Calls Out Sister Jamie Lynn amid Book Release: 'She Never Had to Work for Anything'&lt;/a&gt;&amp;nbsp;&amp;nbsp;&lt;font color=\"#6f6f6f\"&gt;PEOPLE&lt;/font&gt;&lt;/li&gt;&lt;li&gt;&lt;a href=\"https://news.google.com/__i/rss/rd/articles/CBMiVWh0dHBzOi8vd3d3LnlhaG9vLmNvbS9lbnRlcnRhaW5tZW50L2JyaXRuZXktc3BlYXJzLXJlc3BvbmRzLWphbWllLWx5bm4tMDAyMTI0MjM2Lmh0bWzSAV1odHRwczovL3d3dy55YWhvby5jb20vYW1waHRtbC9lbnRlcnRhaW5tZW50L2JyaXRuZXktc3BlYXJzLXJlc3BvbmRzLWphbWllLWx5bm4tMDAyMTI0MjM2Lmh0bWw?oc=5\" target=\"_blank\"&gt;Jamie Lynn Spears Claps Back at Sister Britney Spears, Says Family Is Facing Death Threats Due to ‘Accusatory Posts’&lt;/a&gt;&amp;nbsp;&amp;nbsp;&lt;font color=\"#6f6f6f\"&gt;Yahoo Entertainment&lt;/font&gt;&lt;/li&gt;&lt;li&gt;&lt;a href=\"https://news.google.com/__i/rss/rd/articles/CBMiZmh0dHBzOi8vd3d3LnRoZS1zdW4uY29tL2VudGVydGFpbm1lbnQvNDQ1ODA1NC9icml0bmV5LXNwZWFycy1qYW1pZS1seW5uLWNsYWltcy1zdGFyLWxvY2tlZC1yb29tLWtuaWZlL9IBAA?oc=5\" target=\"_blank\"&gt;Britney Spears’ sister Jamie Lynn claims ‘erratic’ star ‘locked them in a room with a knife’ as her ‘behavi...&lt;/a&gt;&amp;nbsp;&amp;nbsp;&lt;font color=\"#6f6f6f\"&gt;The US Sun&lt;/font&gt;&lt;/li&gt;&lt;li&gt;&lt;strong&gt;&lt;a href=\"https://news.google.com/stories/CAAqNggKIjBDQklTSGpvSmMzUnZjbmt0TXpZd1NoRUtEd2pGakp6VUJCSE80SEoycUVRY3l5Z0FQAQ?oc=5\" target=\"_blank\"&gt;View Full Coverage on Google News&lt;/a&gt;&lt;/strong&gt;&lt;/li&gt;&lt;/ol&gt;</description><source url=\"https://www.hollywoodreporter.com\">Hollywood Reporter</source></item>,\n",
       " <item><title>Megan Fox's 'unique' engagement ring's cost estimated around $300,000: expert - Fox Business</title><link>https://news.google.com/__i/rss/rd/articles/CBMiRGh0dHBzOi8vd3d3LmZveGJ1c2luZXNzLmNvbS9saWZlc3R5bGUvbWVnYW4tZm94LWVuZ2FnZW1lbnQtcmluZy1jb3N00gEA?oc=5</link><guid isPermaLink=\"false\">1199015592</guid><pubDate>Thu, 13 Jan 2022 22:04:59 GMT</pubDate><description>&lt;ol&gt;&lt;li&gt;&lt;a href=\"https://news.google.com/__i/rss/rd/articles/CBMiRGh0dHBzOi8vd3d3LmZveGJ1c2luZXNzLmNvbS9saWZlc3R5bGUvbWVnYW4tZm94LWVuZ2FnZW1lbnQtcmluZy1jb3N00gEA?oc=5\" target=\"_blank\"&gt;Megan Fox's 'unique' engagement ring's cost estimated around $300,000: expert&lt;/a&gt;&amp;nbsp;&amp;nbsp;&lt;font color=\"#6f6f6f\"&gt;Fox Business&lt;/font&gt;&lt;/li&gt;&lt;li&gt;&lt;a href=\"https://news.google.com/__i/rss/rd/articles/CBMiK2h0dHBzOi8vd3d3LnlvdXR1YmUuY29tL3dhdGNoP3Y9cHRGYm1tWldwLW_SAQA?oc=5\" target=\"_blank\"&gt;Megan Fox and Machine Gun Kelly's 'Bloody' Engagement&lt;/a&gt;&amp;nbsp;&amp;nbsp;&lt;font color=\"#6f6f6f\"&gt;Inside Edition&lt;/font&gt;&lt;/li&gt;&lt;li&gt;&lt;a href=\"https://news.google.com/__i/rss/rd/articles/CBMiUmh0dHBzOi8vd3d3LnlhaG9vLmNvbS9lbnRlcnRhaW5tZW50L21hY2hpbmUtZ3V5LWtlbGx5LXRyYXZpcy1iYXJrZXItMjA0ODUzMzQyLmh0bWzSAVpodHRwczovL3d3dy55YWhvby5jb20vYW1waHRtbC9lbnRlcnRhaW5tZW50L21hY2hpbmUtZ3V5LWtlbGx5LXRyYXZpcy1iYXJrZXItMjA0ODUzMzQyLmh0bWw?oc=5\" target=\"_blank\"&gt;Machine Guy Kelly and Travis Barker Proposed in Similar Striped Shirts — and Fans Can't Get Enough&lt;/a&gt;&amp;nbsp;&amp;nbsp;&lt;font color=\"#6f6f6f\"&gt;Yahoo Entertainment&lt;/font&gt;&lt;/li&gt;&lt;li&gt;&lt;a href=\"https://news.google.com/__i/rss/rd/articles/CBMibGh0dHBzOi8vcGVvcGxlLmNvbS9zdHlsZS9tZWdhbi1mb3gtbWFjaGluZS1ndW4ta2VsbHktZ2V0LW1hdGNoaW5nLWNocm9tZS1tYW5pY3VyZXMtZmxhc2hpbmctZW5nYWdlbWVudC1yaW5nL9IBAA?oc=5\" target=\"_blank\"&gt;Megan Fox and Machine Gun Kelly Sport Matching Chrome Manicures While Flashing Engagement Ring&lt;/a&gt;&amp;nbsp;&amp;nbsp;&lt;font color=\"#6f6f6f\"&gt;PEOPLE&lt;/font&gt;&lt;/li&gt;&lt;li&gt;&lt;a href=\"https://news.google.com/__i/rss/rd/articles/CBMic2h0dHBzOi8vd3d3LmVvbmxpbmUuY29tL25ld3MvMTMxNjI5My9ob3ctYnJpYW4tYXVzdGluLWdyZWVuLWZlZWxzLWFib3V0LW1lZ2FuLWZveC1hbmQtbWFjaGluZS1ndW4ta2VsbHlzLWVuZ2FnZW1lbnTSAQA?oc=5\" target=\"_blank\"&gt;How Brian Austin Green Feels About Megan Fox and Machine Gun Kelly's Engagement&lt;/a&gt;&amp;nbsp;&amp;nbsp;&lt;font color=\"#6f6f6f\"&gt;E! NEWS&lt;/font&gt;&lt;/li&gt;&lt;li&gt;&lt;strong&gt;&lt;a href=\"https://news.google.com/stories/CAAqNggKIjBDQklTSGpvSmMzUnZjbmt0TXpZd1NoRUtEd2lvamQ2N0JCSG5LbjFHb00xLUp5Z0FQAQ?oc=5\" target=\"_blank\"&gt;View Full Coverage on Google News&lt;/a&gt;&lt;/strong&gt;&lt;/li&gt;&lt;/ol&gt;</description><source url=\"https://www.foxbusiness.com\">Fox Business</source></item>,\n",
       " <item><title>Kanye 'Ye' West shares bizarre Instagram post after he's accused of punching fan in face - Daily Mail</title><link>https://news.google.com/__i/rss/rd/articles/CBMihQFodHRwczovL3d3dy5kYWlseW1haWwuY28udWsvdHZzaG93Yml6L2FydGljbGUtMTA0MDE1MjUvS2FueWUtWWUtV2VzdC1zaGFyZXMtYml6YXJyZS1JbnN0YWdyYW0tcG9zdC1oZXMtYWNjdXNlZC1wdW5jaGluZy1mYW4tZmFjZS5odG1s0gEA?oc=5</link><guid isPermaLink=\"false\">1253970749</guid><pubDate>Fri, 14 Jan 2022 05:22:10 GMT</pubDate><description>&lt;ol&gt;&lt;li&gt;&lt;a href=\"https://news.google.com/__i/rss/rd/articles/CBMihQFodHRwczovL3d3dy5kYWlseW1haWwuY28udWsvdHZzaG93Yml6L2FydGljbGUtMTA0MDE1MjUvS2FueWUtWWUtV2VzdC1zaGFyZXMtYml6YXJyZS1JbnN0YWdyYW0tcG9zdC1oZXMtYWNjdXNlZC1wdW5jaGluZy1mYW4tZmFjZS5odG1s0gEA?oc=5\" target=\"_blank\"&gt;Kanye 'Ye' West shares bizarre Instagram post after he's accused of punching fan in face&lt;/a&gt;&amp;nbsp;&amp;nbsp;&lt;font color=\"#6f6f6f\"&gt;Daily Mail&lt;/font&gt;&lt;/li&gt;&lt;li&gt;&lt;a href=\"https://news.google.com/__i/rss/rd/articles/CBMiT2h0dHBzOi8vbmV3cy55YWhvby5jb20va2FueWUtd2VzdC1yZXBvcnRlZGx5LXVuZGVyLWludmVzdGlnYXRpb24tMTgzNjAwODY5Lmh0bWzSAVdodHRwczovL25ld3MueWFob28uY29tL2FtcGh0bWwva2FueWUtd2VzdC1yZXBvcnRlZGx5LXVuZGVyLWludmVzdGlnYXRpb24tMTgzNjAwODY5Lmh0bWw?oc=5\" target=\"_blank\"&gt;Kanye West reportedly under investigation for criminal battery after allegedly punching fan&lt;/a&gt;&amp;nbsp;&amp;nbsp;&lt;font color=\"#6f6f6f\"&gt;Yahoo News&lt;/font&gt;&lt;/li&gt;&lt;li&gt;&lt;a href=\"https://news.google.com/__i/rss/rd/articles/CBMiaGh0dHBzOi8vd3d3LjEwbmV3cy5jb20vZW50ZXJ0YWlubWVudC9rYW55ZS13ZXN0LXVuZGVyLWludmVzdGlnYXRpb24tYWZ0ZXItYWxsZWdlZC1iYXR0ZXJ5LWluY2lkZW50LWluLWxh0gFyaHR0cHM6Ly93d3cuMTBuZXdzLmNvbS9lbnRlcnRhaW5tZW50L2thbnllLXdlc3QtdW5kZXItaW52ZXN0aWdhdGlvbi1hZnRlci1hbGxlZ2VkLWJhdHRlcnktaW5jaWRlbnQtaW4tbGE_X2FtcD10cnVl?oc=5\" target=\"_blank\"&gt;Kanye West under investigation after alleged battery incident in LA&lt;/a&gt;&amp;nbsp;&amp;nbsp;&lt;font color=\"#6f6f6f\"&gt;10News&lt;/font&gt;&lt;/li&gt;&lt;li&gt;&lt;a href=\"https://news.google.com/__i/rss/rd/articles/CBMiR2h0dHBzOi8vd3d3LmNic25ld3MuY29tL25ld3Mva2FueWUtd2VzdC15ZS1zdXNwZWN0LWJhdHRlcnktbG9zLWFuZ2VsZXMv0gEA?oc=5\" target=\"_blank\"&gt;Rapper formerly known as Kanye West named main suspect in Los Angeles battery investigation&lt;/a&gt;&amp;nbsp;&amp;nbsp;&lt;font color=\"#6f6f6f\"&gt;CBS News&lt;/font&gt;&lt;/li&gt;&lt;li&gt;&lt;strong&gt;&lt;a href=\"https://news.google.com/stories/CAAqNggKIjBDQklTSGpvSmMzUnZjbmt0TXpZd1NoRUtEd2k5cHZqVkJCRW1yaXhpV0wycU1DZ0FQAQ?oc=5\" target=\"_blank\"&gt;View Full Coverage on Google News&lt;/a&gt;&lt;/strong&gt;&lt;/li&gt;&lt;/ol&gt;</description><source url=\"https://www.dailymail.co.uk\">Daily Mail</source></item>,\n",
       " <item><title>OITNB Star Danielle Brooks Is Married: See Inside Her Wedding With Daughter Serving as Flower Girl - E! NEWS</title><link>https://news.google.com/__i/rss/rd/articles/CBMihgFodHRwczovL3d3dy5lb25saW5lLmNvbS9uZXdzLzEzMTYzNDAvb2l0bmItc3Rhci1kYW5pZWxsZS1icm9va3MtaXMtbWFycmllZC1zZWUtaW5zaWRlLWhlci13ZWRkaW5nLXdpdGgtZGF1Z2h0ZXItc2VydmluZy1hcy1mbG93ZXItZ2lybNIBAA?oc=5</link><guid isPermaLink=\"false\">1254072274</guid><pubDate>Fri, 14 Jan 2022 02:53:00 GMT</pubDate><description>&lt;ol&gt;&lt;li&gt;&lt;a href=\"https://news.google.com/__i/rss/rd/articles/CBMihgFodHRwczovL3d3dy5lb25saW5lLmNvbS9uZXdzLzEzMTYzNDAvb2l0bmItc3Rhci1kYW5pZWxsZS1icm9va3MtaXMtbWFycmllZC1zZWUtaW5zaWRlLWhlci13ZWRkaW5nLXdpdGgtZGF1Z2h0ZXItc2VydmluZy1hcy1mbG93ZXItZ2lybNIBAA?oc=5\" target=\"_blank\"&gt;OITNB Star Danielle Brooks Is Married: See Inside Her Wedding With Daughter Serving as Flower Girl&lt;/a&gt;&amp;nbsp;&amp;nbsp;&lt;font color=\"#6f6f6f\"&gt;E! NEWS&lt;/font&gt;&lt;/li&gt;&lt;li&gt;&lt;a href=\"https://news.google.com/__i/rss/rd/articles/CBMiVGh0dHBzOi8vcGVvcGxlLmNvbS9zdHlsZS9kYW5pZWxsZS1icm9va3MtaXMtbWFycmllZC13ZWFycy10d28td2VkZGluZy1nb3ducy1kZXRhaWxzL9IBAA?oc=5\" target=\"_blank\"&gt;Danielle Brooks Is Married! Actress Weds Fiancé Dennis Gelin in 3-in-1 Christian Siriano Dress&lt;/a&gt;&amp;nbsp;&amp;nbsp;&lt;font color=\"#6f6f6f\"&gt;PEOPLE&lt;/font&gt;&lt;/li&gt;&lt;li&gt;&lt;a href=\"https://news.google.com/__i/rss/rd/articles/CBMiTmh0dHBzOi8vd3d3LnlhaG9vLmNvbS9saWZlc3R5bGUvZGFuaWVsbGUtYnJvb2tzLXdlZHMtZmlhbmMtZ293bi0wMTExMTIyMzkuaHRtbNIBVmh0dHBzOi8vd3d3LnlhaG9vLmNvbS9hbXBodG1sL2xpZmVzdHlsZS9kYW5pZWxsZS1icm9va3Mtd2Vkcy1maWFuYy1nb3duLTAxMTExMjIzOS5odG1s?oc=5\" target=\"_blank\"&gt;Danielle Brooks Weds Fiancé In A Gown Designed By A Black Woman: ‘It Was Very Important To Me To Find A Black Wedding Dress Designer’&lt;/a&gt;&amp;nbsp;&amp;nbsp;&lt;font color=\"#6f6f6f\"&gt;Yahoo Lifestyle&lt;/font&gt;&lt;/li&gt;&lt;li&gt;&lt;a href=\"https://news.google.com/__i/rss/rd/articles/CBMiVGh0dHBzOi8vd3d3LnBvcHN1Z2FyLmNvbS9jZWxlYnJpdHkvZGFuaWVsbGUtYnJvb2tzLWFuZC1kZW5uaXMtZ2VsaW4tbWFycmllZC00ODY4MTA2ONIBWGh0dHBzOi8vd3d3LnBvcHN1Z2FyLmNvbS9jZWxlYnJpdHkvZGFuaWVsbGUtYnJvb2tzLWFuZC1kZW5uaXMtZ2VsaW4tbWFycmllZC00ODY4MTA2OC9hbXA?oc=5\" target=\"_blank\"&gt;Danielle Brooks Radiates Joy in Wedding Announcement&lt;/a&gt;&amp;nbsp;&amp;nbsp;&lt;font color=\"#6f6f6f\"&gt;POPSUGAR&lt;/font&gt;&lt;/li&gt;&lt;li&gt;&lt;strong&gt;&lt;a href=\"https://news.google.com/stories/CAAqNggKIjBDQklTSGpvSmMzUnZjbmt0TXpZd1NoRUtEd2pTdl83VkJCRWs5LTRFZjFXX2VDZ0FQAQ?oc=5\" target=\"_blank\"&gt;View Full Coverage on Google News&lt;/a&gt;&lt;/strong&gt;&lt;/li&gt;&lt;/ol&gt;</description><source url=\"https://www.eonline.com\">E! NEWS</source></item>,\n",
       " <item><title>McClain: David Culley never had a chance with Texans - Houston Chronicle </title><link>https://news.google.com/__i/rss/rd/articles/CBMigwFodHRwczovL3d3dy5ob3VzdG9uY2hyb25pY2xlLmNvbS90ZXhhcy1zcG9ydHMtbmF0aW9uL2pvaG4tbWNjbGFpbi9hcnRpY2xlL01jQ2xhaW4tRGF2aWQtQ3VsbGV5LW5ldmVyLWhhZC1hLWNoYW5jZS13aXRoLTE2Nzc0MjM0LnBocNIBAA?oc=5</link><guid isPermaLink=\"false\">1223120163</guid><pubDate>Fri, 14 Jan 2022 00:47:09 GMT</pubDate><description>&lt;ol&gt;&lt;li&gt;&lt;a href=\"https://news.google.com/__i/rss/rd/articles/CBMigwFodHRwczovL3d3dy5ob3VzdG9uY2hyb25pY2xlLmNvbS90ZXhhcy1zcG9ydHMtbmF0aW9uL2pvaG4tbWNjbGFpbi9hcnRpY2xlL01jQ2xhaW4tRGF2aWQtQ3VsbGV5LW5ldmVyLWhhZC1hLWNoYW5jZS13aXRoLTE2Nzc0MjM0LnBocNIBAA?oc=5\" target=\"_blank\"&gt;McClain: David Culley never had a chance with Texans&lt;/a&gt;&amp;nbsp;&amp;nbsp;&lt;font color=\"#6f6f6f\"&gt;Houston Chronicle &lt;/font&gt;&lt;/li&gt;&lt;li&gt;&lt;a href=\"https://news.google.com/__i/rss/rd/articles/CBMiamh0dHBzOi8vd3d3LmVzcG4uY29tL25mbC9zdG9yeS9fL2lkLzMzMDU4NzU0L3NvdXJjZS1ob3VzdG9uLXRleGFucy1maXJlLWNvYWNoLWRhdmlkLWN1bGxleS1qdXN0LW9uZS1zZWFzb27SAXdodHRwczovL3d3dy5lc3BuLmNvbS9uZmwvc3RvcnkvXy9pZC8zMzA1ODc1NC9zb3VyY2UtaG91c3Rvbi10ZXhhbnMtZmlyZS1jb2FjaC1kYXZpZC1jdWxsZXktanVzdC1vbmUtc2Vhc29uP3BsYXRmb3JtPWFtcA?oc=5\" target=\"_blank\"&gt;Houston Texans fire coach David Culley after just one season&lt;/a&gt;&amp;nbsp;&amp;nbsp;&lt;font color=\"#6f6f6f\"&gt;ESPN&lt;/font&gt;&lt;/li&gt;&lt;li&gt;&lt;a href=\"https://news.google.com/__i/rss/rd/articles/CBMiK2h0dHBzOi8vd3d3LnlvdXR1YmUuY29tL3dhdGNoP3Y9RWNEeVJGcExoWDjSAQA?oc=5\" target=\"_blank\"&gt;Texans Fire Head Coach David Culley | CBS Sports HQ&lt;/a&gt;&amp;nbsp;&amp;nbsp;&lt;font color=\"#6f6f6f\"&gt;CBS Sports HQ&lt;/font&gt;&lt;/li&gt;&lt;li&gt;&lt;a href=\"https://news.google.com/__i/rss/rd/articles/CBMiQmh0dHBzOi8vaG91c3Rvbi5zcG9ydHNtYXAuY29tL3RleGFucy1jdWxsZXktZmlyZWQtbWNkYW5pZWxzLWZsb3Jlc9IBAA?oc=5\" target=\"_blank\"&gt;Why there's reason to believe Texans hid a bigger agenda from the jump&lt;/a&gt;&amp;nbsp;&amp;nbsp;&lt;font color=\"#6f6f6f\"&gt;SportsMap Houston&lt;/font&gt;&lt;/li&gt;&lt;li&gt;&lt;a href=\"https://news.google.com/__i/rss/rd/articles/CBMiVGh0dHBzOi8vdGV4YW5zd2lyZS51c2F0b2RheS5jb20vMjAyMi8wMS8xMy9sb3ZpZS1zbWl0aC10ZXhhbnMtZGVmZW5zaXZlLWNvb3JkaW5hdG9yL9IBAA?oc=5\" target=\"_blank\"&gt;What happens to Lovie Smith as Texans' defensive coordinator?&lt;/a&gt;&amp;nbsp;&amp;nbsp;&lt;font color=\"#6f6f6f\"&gt;Texans Wire&lt;/font&gt;&lt;/li&gt;&lt;li&gt;&lt;strong&gt;&lt;a href=\"https://news.google.com/stories/CAAqNggKIjBDQklTSGpvSmMzUnZjbmt0TXpZd1NoRUtEd2lqcXAzSEJCRlNjTmxFVmFBb3p5Z0FQAQ?oc=5\" target=\"_blank\"&gt;View Full Coverage on Google News&lt;/a&gt;&lt;/strong&gt;&lt;/li&gt;&lt;/ol&gt;</description><source url=\"https://www.houstonchronicle.com\">Houston Chronicle </source></item>,\n",
       " <item><title>Prisco's NFL picks for wild-card round: Bills roll over Patriots in AFC East rubber match, 49ers upset Cowboys - CBS Sports</title><link>https://news.google.com/__i/rss/rd/articles/CBMijwFodHRwczovL3d3dy5jYnNzcG9ydHMuY29tL25mbC9uZXdzL3ByaXNjb3MtbmZsLXBpY2tzLWZvci13aWxkLWNhcmQtcm91bmQtYmlsbHMtcm9sbC1vdmVyLXBhdHJpb3RzLWluLWFmYy1lYXN0LXJ1YmJlci1tYXRjaC00OWVycy11cHNldC1jb3dib3lzL9IBAA?oc=5</link><guid isPermaLink=\"false\">1237669785</guid><pubDate>Thu, 13 Jan 2022 22:25:00 GMT</pubDate><description>&lt;ol&gt;&lt;li&gt;&lt;a href=\"https://news.google.com/__i/rss/rd/articles/CBMijwFodHRwczovL3d3dy5jYnNzcG9ydHMuY29tL25mbC9uZXdzL3ByaXNjb3MtbmZsLXBpY2tzLWZvci13aWxkLWNhcmQtcm91bmQtYmlsbHMtcm9sbC1vdmVyLXBhdHJpb3RzLWluLWFmYy1lYXN0LXJ1YmJlci1tYXRjaC00OWVycy11cHNldC1jb3dib3lzL9IBAA?oc=5\" target=\"_blank\"&gt;Prisco's NFL picks for wild-card round: Bills roll over Patriots in AFC East rubber match, 49ers upset Cowboys&lt;/a&gt;&amp;nbsp;&amp;nbsp;&lt;font color=\"#6f6f6f\"&gt;CBS Sports&lt;/font&gt;&lt;/li&gt;&lt;li&gt;&lt;a href=\"https://news.google.com/__i/rss/rd/articles/CBMilwFodHRwczovL3d3dy5lc3BuLmNvbS9uZmwvaW5zaWRlci9pbnNpZGVyL3N0b3J5L18vaWQvMzMwNTA0ODMvbmZsLXBsYXlvZmYtYnJhY2tldC1wcmVkaWN0aW9ucy1waWNraW5nLXdpbm5lcnMtZ2FtZS1pbmNsdWRpbmctZmluYWwtc3VwZXItYm93bC0yMDIyLXNjb3Jl0gGkAWh0dHBzOi8vd3d3LmVzcG4uY29tL25mbC9pbnNpZGVyL2luc2lkZXIvc3RvcnkvXy9pZC8zMzA1MDQ4My9uZmwtcGxheW9mZi1icmFja2V0LXByZWRpY3Rpb25zLXBpY2tpbmctd2lubmVycy1nYW1lLWluY2x1ZGluZy1maW5hbC1zdXBlci1ib3dsLTIwMjItc2NvcmU_cGxhdGZvcm09YW1w?oc=5\" target=\"_blank\"&gt;NFL playoff bracket predictions: Picking winners for each game, including the final Super Bowl 2022 score&lt;/a&gt;&amp;nbsp;&amp;nbsp;&lt;font color=\"#6f6f6f\"&gt;ESPN&lt;/font&gt;&lt;/li&gt;&lt;li&gt;&lt;a href=\"https://news.google.com/__i/rss/rd/articles/CBMiTGh0dHBzOi8vd3d3LmZhbnRhc3lwcm9zLmNvbS8yMDIyLzAxL3RoZS1wcmltZXItc3VwZXItd2lsZC1jYXJkLWVkaXRpb24tMjAyMi_SAQA?oc=5\" target=\"_blank\"&gt;The Primer: Super Wild Card Edition (2022)&lt;/a&gt;&amp;nbsp;&amp;nbsp;&lt;font color=\"#6f6f6f\"&gt;FantasyPros&lt;/font&gt;&lt;/li&gt;&lt;li&gt;&lt;a href=\"https://news.google.com/__i/rss/rd/articles/CBMilgFodHRwczovL3RoZWF0aGxldGljLmNvbS8zMDY5NDMwLzIwMjIvMDEvMTMvb3Zlci13YXRjaC1iZW5nYWxzLWJpbGxzLWFuZC1idWNzLWFtb25nLXRob3NlLXdlLWV4cGVjdC10by1zY29yZS1tb3JlLXRoYW4tZXhwZWN0ZWQtb3Zlci13aWxkLWNhcmQtd2Vla2VuZC_SAZoBaHR0cHM6Ly90aGVhdGhsZXRpYy5jb20vMzA2OTQzMC8yMDIyLzAxLzEzL292ZXItd2F0Y2gtYmVuZ2Fscy1iaWxscy1hbmQtYnVjcy1hbW9uZy10aG9zZS13ZS1leHBlY3QtdG8tc2NvcmUtbW9yZS10aGFuLWV4cGVjdGVkLW92ZXItd2lsZC1jYXJkLXdlZWtlbmQvP2FtcA?oc=5\" target=\"_blank\"&gt;'Over' watch: Bengals, Bills and Bucs among teams we predict to score more than expected over wild card weekend&lt;/a&gt;&amp;nbsp;&amp;nbsp;&lt;font color=\"#6f6f6f\"&gt;The Athletic&lt;/font&gt;&lt;/li&gt;&lt;li&gt;&lt;a href=\"https://news.google.com/__i/rss/rd/articles/CBMiS2h0dHBzOi8vd3d3Lm5mbC5jb20vbmV3cy9zdXBlci13aWxkLWNhcmQtd2Vla2VuZC1nYW1lLXBpY2tzLTIwMjEtbmZsLXNlYXNvbtIBS2h0dHBzOi8vd3d3Lm5mbC5jb20vX2FtcC9zdXBlci13aWxkLWNhcmQtd2Vla2VuZC1nYW1lLXBpY2tzLTIwMjEtbmZsLXNlYXNvbg?oc=5\" target=\"_blank\"&gt;Super Wild Card Weekend game picks: Patriots upset Bills in rubber match; Cowboys edge past 49ers&lt;/a&gt;&amp;nbsp;&amp;nbsp;&lt;font color=\"#6f6f6f\"&gt;NFL.com&lt;/font&gt;&lt;/li&gt;&lt;li&gt;&lt;strong&gt;&lt;a href=\"https://news.google.com/stories/CAAqNggKIjBDQklTSGpvSmMzUnZjbmt0TXpZd1NoRUtEd2lacjVYT0JCRU1IUHBGTW52cDZpZ0FQAQ?oc=5\" target=\"_blank\"&gt;View Full Coverage on Google News&lt;/a&gt;&lt;/strong&gt;&lt;/li&gt;&lt;/ol&gt;</description><source url=\"https://www.cbssports.com\">CBS Sports</source></item>,\n",
       " <item><title>MLB lockout: New proposal leaves locked-out players underwhelmed - New York Post </title><link>https://news.google.com/__i/rss/rd/articles/CBMiU2h0dHBzOi8vbnlwb3N0LmNvbS8yMDIyLzAxLzEzL21sYi1sb2Nrb3V0LXBsYXllcnMtdW5kZXJ3aGVsbWVkLWJ5LWxlYWd1ZXMtcHJvcG9zYWwv0gEA?oc=5</link><guid isPermaLink=\"false\">1234638373</guid><pubDate>Fri, 14 Jan 2022 02:48:00 GMT</pubDate><description>&lt;ol&gt;&lt;li&gt;&lt;a href=\"https://news.google.com/__i/rss/rd/articles/CBMiU2h0dHBzOi8vbnlwb3N0LmNvbS8yMDIyLzAxLzEzL21sYi1sb2Nrb3V0LXBsYXllcnMtdW5kZXJ3aGVsbWVkLWJ5LWxlYWd1ZXMtcHJvcG9zYWwv0gEA?oc=5\" target=\"_blank\"&gt;MLB lockout: New proposal leaves locked-out players underwhelmed&lt;/a&gt;&amp;nbsp;&amp;nbsp;&lt;font color=\"#6f6f6f\"&gt;New York Post &lt;/font&gt;&lt;/li&gt;&lt;li&gt;&lt;a href=\"https://news.google.com/__i/rss/rd/articles/CBMiTmh0dHBzOi8vd3d3Lm1sYnRyYWRlcnVtb3JzLmNvbS8yMDIyLzAxL2RldGFpbHMtb24tdG9kYXlzLWNiYS1uZWdvdGlhdGlvbnMuaHRtbNIBAA?oc=5\" target=\"_blank\"&gt;Details On Today's CBA Negotiations&lt;/a&gt;&amp;nbsp;&amp;nbsp;&lt;font color=\"#6f6f6f\"&gt;MLB Trade Rumors&lt;/font&gt;&lt;/li&gt;&lt;li&gt;&lt;a href=\"https://news.google.com/__i/rss/rd/articles/CBMiiQFodHRwczovL3RoZWF0aGxldGljLmNvbS8zMDY5NjA4LzIwMjIvMDEvMTMvbWxicy1maXJzdC1wcm9wb3NhbC1hZnRlci1sb2NraW5nLW91dC1wbGF5ZXJzLWJyaW5ncy1saXR0bGUtcHJvZ3Jlc3MtYXMtc3ByaW5nLXRyYWluaW5nLWxvb21zL9IBAA?oc=5\" target=\"_blank\"&gt;MLB's first proposal after locking out players creates little progress as spring training looms&lt;/a&gt;&amp;nbsp;&amp;nbsp;&lt;font color=\"#6f6f6f\"&gt;The Athletic&lt;/font&gt;&lt;/li&gt;&lt;li&gt;&lt;a href=\"https://news.google.com/__i/rss/rd/articles/CBMiTmh0dHBzOi8vd3d3Lndhc2hpbmd0b25wb3N0LmNvbS9zcG9ydHMvMjAyMi8wMS8xMy9tbGItbG9ja291dC1uZXctY2JhLXByb3Bvc2FsL9IBAA?oc=5\" target=\"_blank\"&gt;MLB put a new proposal on the table in labor talks. How the players respond will be telling.&lt;/a&gt;&amp;nbsp;&amp;nbsp;&lt;font color=\"#6f6f6f\"&gt;The Washington Post&lt;/font&gt;&lt;/li&gt;&lt;li&gt;&lt;a href=\"https://news.google.com/__i/rss/rd/articles/CBMigQFodHRwczovL3d3dy5wdXJwbGVyb3cuY29tLzIwMjIvMS8xMy8yMjg3ODUxMy9jb2xvcmFkby1yb2NraWVzLW5ld3MtdGh1cnNkYXktcm9ja3BpbGUtdGhlLXJlcGxhY2VtZW50LXJvY2tpZXMtdGhhdC1jb3VsZC1oYXZlLWJlZW7SAY4BaHR0cHM6Ly93d3cucHVycGxlcm93LmNvbS9wbGF0Zm9ybS9hbXAvMjAyMi8xLzEzLzIyODc4NTEzL2NvbG9yYWRvLXJvY2tpZXMtbmV3cy10aHVyc2RheS1yb2NrcGlsZS10aGUtcmVwbGFjZW1lbnQtcm9ja2llcy10aGF0LWNvdWxkLWhhdmUtYmVlbg?oc=5\" target=\"_blank\"&gt;Colorado Rockies news: The replacement Rockies that could have been&lt;/a&gt;&amp;nbsp;&amp;nbsp;&lt;font color=\"#6f6f6f\"&gt;Purple Row&lt;/font&gt;&lt;/li&gt;&lt;li&gt;&lt;strong&gt;&lt;a href=\"https://news.google.com/stories/CAAqNggKIjBDQklTSGpvSmMzUnZjbmt0TXpZd1NoRUtEd2lsck56TUJCRktzS0hkd21RNVVTZ0FQAQ?oc=5\" target=\"_blank\"&gt;View Full Coverage on Google News&lt;/a&gt;&lt;/strong&gt;&lt;/li&gt;&lt;/ol&gt;</description><source url=\"https://nypost.com\">New York Post </source></item>,\n",
       " <item><title>Hawks trade Cam Reddish, Solomon Hill to Knicks for protected first-round pick - The Athletic</title><link>https://news.google.com/__i/rss/rd/articles/CBMieGh0dHBzOi8vdGhlYXRobGV0aWMuY29tL25ld3MvaGF3a3MtdHJhZGUtY2FtLXJlZGRpc2gtc29sb21vbi1oaWxsLXRvLWtuaWNrcy1mb3ItcHJvdGVjdGVkLWZpcnN0LXJvdW5kLXBpY2svVkh2M1Y2YkFJN3dRL9IBAA?oc=5</link><guid isPermaLink=\"false\">1230242923</guid><pubDate>Fri, 14 Jan 2022 00:45:00 GMT</pubDate><description>&lt;ol&gt;&lt;li&gt;&lt;a href=\"https://news.google.com/__i/rss/rd/articles/CBMieGh0dHBzOi8vdGhlYXRobGV0aWMuY29tL25ld3MvaGF3a3MtdHJhZGUtY2FtLXJlZGRpc2gtc29sb21vbi1oaWxsLXRvLWtuaWNrcy1mb3ItcHJvdGVjdGVkLWZpcnN0LXJvdW5kLXBpY2svVkh2M1Y2YkFJN3dRL9IBAA?oc=5\" target=\"_blank\"&gt;Hawks trade Cam Reddish, Solomon Hill to Knicks for protected first-round pick&lt;/a&gt;&amp;nbsp;&amp;nbsp;&lt;font color=\"#6f6f6f\"&gt;The Athletic&lt;/font&gt;&lt;/li&gt;&lt;li&gt;&lt;a href=\"https://news.google.com/__i/rss/rd/articles/CBMiK2h0dHBzOi8vd3d3LnlvdXR1YmUuY29tL3dhdGNoP3Y9Y3FFeTlvampubE3SAQA?oc=5\" target=\"_blank\"&gt;Bobby Marks breaks down the Hawks' trade of Cam Reddish to the Knicks | NBA on ESPN&lt;/a&gt;&amp;nbsp;&amp;nbsp;&lt;font color=\"#6f6f6f\"&gt;ESPN&lt;/font&gt;&lt;/li&gt;&lt;li&gt;&lt;a href=\"https://news.google.com/__i/rss/rd/articles/CBMiK2h0dHBzOi8vd3d3LnlvdXR1YmUuY29tL3dhdGNoP3Y9ODBJbTZVRGhobUXSAQA?oc=5\" target=\"_blank\"&gt;'Everyone likes a first round pick! - Woj reacts to Knicks giving up a 1st round pick | NBA Today&lt;/a&gt;&amp;nbsp;&amp;nbsp;&lt;font color=\"#6f6f6f\"&gt;NBA on ESPN&lt;/font&gt;&lt;/li&gt;&lt;li&gt;&lt;a href=\"https://news.google.com/__i/rss/rd/articles/CBMifGh0dHBzOi8vd3d3LnNwb3J0c3RhbGthdGwuY29tL3JlcG9ydC1oYXdrcy1hcmUtb3Blbi1mb3ItYnVzaW5lc3MtZXZlcnlvbmUtZXhjZXB0LXRyYWUteW91bmctYW5kLWNsaW50LWNhcGVsYS1jb3VsZC1iZS1tb3ZlZC_SAQA?oc=5\" target=\"_blank\"&gt;Report: Hawks are open for business, everyone except Trae Young and Clint Capela could be moved&lt;/a&gt;&amp;nbsp;&amp;nbsp;&lt;font color=\"#6f6f6f\"&gt;sportstalkatl.com&lt;/font&gt;&lt;/li&gt;&lt;li&gt;&lt;a href=\"https://news.google.com/__i/rss/rd/articles/CBMiggFodHRwczovL3d3dy5lc3BuLmNvbS9uYmEvc3RvcnkvXy9pZC8zMzA1NzQ1OC9hdGxhbnRhLWhhd2tzLXRyYWRlLWNhbS1yZWRkaXNoLW5ldy15b3JrLWtuaWNrcy1rZXZpbi1rbm94LTFzdC1yb3VuZC1waWNrLXNvdXJjZXMtc2F50gGPAWh0dHBzOi8vd3d3LmVzcG4uY29tL25iYS9zdG9yeS9fL2lkLzMzMDU3NDU4L2F0bGFudGEtaGF3a3MtdHJhZGUtY2FtLXJlZGRpc2gtbmV3LXlvcmsta25pY2tzLWtldmluLWtub3gtMXN0LXJvdW5kLXBpY2stc291cmNlcy1zYXk_cGxhdGZvcm09YW1w?oc=5\" target=\"_blank\"&gt;Atlanta Hawks trade Cam Reddish to New York Knicks for Kevin Knox, first-round pick&lt;/a&gt;&amp;nbsp;&amp;nbsp;&lt;font color=\"#6f6f6f\"&gt;ESPN&lt;/font&gt;&lt;/li&gt;&lt;li&gt;&lt;strong&gt;&lt;a href=\"https://news.google.com/stories/CAAqNggKIjBDQklTSGpvSmMzUnZjbmt0TXpZd1NoRUtEd2pyaU5ES0JCRmRrSDR3dExXT3hDZ0FQAQ?oc=5\" target=\"_blank\"&gt;View Full Coverage on Google News&lt;/a&gt;&lt;/strong&gt;&lt;/li&gt;&lt;/ol&gt;</description><source url=\"https://theathletic.com\">The Athletic</source></item>,\n",
       " <item><title>New study of 1980s Mars meteorite debunks proof of ancient life on planet - The Guardian</title><link>https://news.google.com/__i/rss/rd/articles/CBMieGh0dHBzOi8vd3d3LnRoZWd1YXJkaWFuLmNvbS9zY2llbmNlLzIwMjIvamFuLzEzL25ldy1zdHVkeS1vZi0xOTgwcy1tYXJzLW1ldGVvcml0ZS1kZWJ1bmtzLW15dGgtb2YtYW5jaWVudC1saWZlLW9uLXBsYW5ldNIBeGh0dHBzOi8vYW1wLnRoZWd1YXJkaWFuLmNvbS9zY2llbmNlLzIwMjIvamFuLzEzL25ldy1zdHVkeS1vZi0xOTgwcy1tYXJzLW1ldGVvcml0ZS1kZWJ1bmtzLW15dGgtb2YtYW5jaWVudC1saWZlLW9uLXBsYW5ldA?oc=5</link><guid isPermaLink=\"false\">1254089652</guid><pubDate>Fri, 14 Jan 2022 03:13:00 GMT</pubDate><description>&lt;ol&gt;&lt;li&gt;&lt;a href=\"https://news.google.com/__i/rss/rd/articles/CBMieGh0dHBzOi8vd3d3LnRoZWd1YXJkaWFuLmNvbS9zY2llbmNlLzIwMjIvamFuLzEzL25ldy1zdHVkeS1vZi0xOTgwcy1tYXJzLW1ldGVvcml0ZS1kZWJ1bmtzLW15dGgtb2YtYW5jaWVudC1saWZlLW9uLXBsYW5ldNIBeGh0dHBzOi8vYW1wLnRoZWd1YXJkaWFuLmNvbS9zY2llbmNlLzIwMjIvamFuLzEzL25ldy1zdHVkeS1vZi0xOTgwcy1tYXJzLW1ldGVvcml0ZS1kZWJ1bmtzLW15dGgtb2YtYW5jaWVudC1saWZlLW9uLXBsYW5ldA?oc=5\" target=\"_blank\"&gt;New study of 1980s Mars meteorite debunks proof of ancient life on planet&lt;/a&gt;&amp;nbsp;&amp;nbsp;&lt;font color=\"#6f6f6f\"&gt;The Guardian&lt;/font&gt;&lt;/li&gt;&lt;li&gt;&lt;a href=\"https://news.google.com/__i/rss/rd/articles/CBMiWmh0dHBzOi8vbnlwb3N0LmNvbS8yMDIyLzAxLzEzLzQtYmlsbGlvbi15ZWFyLW9sZC1tZXRlb3JpdGUtc2hvd3Mtbm8tc2lnbnMtb2YtbWFydGlhbi1saWZlL9IBAA?oc=5\" target=\"_blank\"&gt;No signs of Martian life in meteorite found in Antarctica, study says&lt;/a&gt;&amp;nbsp;&amp;nbsp;&lt;font color=\"#6f6f6f\"&gt;New York Post &lt;/font&gt;&lt;/li&gt;&lt;li&gt;&lt;a href=\"https://news.google.com/__i/rss/rd/articles/CBMiSWh0dHBzOi8vd3d3LnlhaG9vLmNvbS9uZXdzL3N0dWR5LW5peGVzLW1hcnMtbGlmZS1tZXRlb3JpdGUtMTk0NTA2ODg4Lmh0bWzSAVJodHRwczovL25ld3MueWFob28uY29tL2FtcGh0bWwvbmV3cy9zdHVkeS1uaXhlcy1tYXJzLWxpZmUtbWV0ZW9yaXRlLTE5NDUwNjg4OC5odG1s?oc=5\" target=\"_blank\"&gt;Study nixes Mars life in meteorite found in Antarctica&lt;/a&gt;&amp;nbsp;&amp;nbsp;&lt;font color=\"#6f6f6f\"&gt;Yahoo News&lt;/font&gt;&lt;/li&gt;&lt;li&gt;&lt;a href=\"https://news.google.com/__i/rss/rd/articles/CBMiZ2h0dHBzOi8vd3d3Lm5ld3Nlci5jb20vc3RvcnkvMzE1NjM5L3Jlc2VhcmNoLWNvdW50ZXJzLTE5OTYtcmVwb3J0LW9uLWV2aWRlbmNlLW9mLXBhc3QtbGlmZS1vbi1tYXJzLmh0bWzSAQA?oc=5\" target=\"_blank\"&gt;Research Counters 1996 Report on Evidence of Past Life on Mars&lt;/a&gt;&amp;nbsp;&amp;nbsp;&lt;font color=\"#6f6f6f\"&gt;Newser&lt;/font&gt;&lt;/li&gt;&lt;li&gt;&lt;a href=\"https://news.google.com/__i/rss/rd/articles/CBMiRWh0dHBzOi8vd3d3LnNwYWNlLmNvbS9tYXJzLW1ldGVvcml0ZS1ldmlkZW5jZS13YXRlci1yb2NrLWludGVyYWN0aW9uc9IBAA?oc=5\" target=\"_blank\"&gt;Infamous Mars meteorite contains organic molecules, but they aren't proof of life&lt;/a&gt;&amp;nbsp;&amp;nbsp;&lt;font color=\"#6f6f6f\"&gt;Space.com&lt;/font&gt;&lt;/li&gt;&lt;li&gt;&lt;strong&gt;&lt;a href=\"https://news.google.com/stories/CAAqNggKIjBDQklTSGpvSmMzUnZjbmt0TXpZd1NoRUtEd2kweF9fVkJCRzVmLThjblBqN3J5Z0FQAQ?oc=5\" target=\"_blank\"&gt;View Full Coverage on Google News&lt;/a&gt;&lt;/strong&gt;&lt;/li&gt;&lt;/ol&gt;</description><source url=\"https://www.theguardian.com\">The Guardian</source></item>,\n",
       " <item><title>Astronomers Discover Evidence of Super-Sized Moon Orbiting a Jupiter-Sized Planet Beyond Our Solar System - SciTechDaily</title><link>https://news.google.com/__i/rss/rd/articles/CBMigwFodHRwczovL3NjaXRlY2hkYWlseS5jb20vYXN0cm9ub21lcnMtZGlzY292ZXItZXZpZGVuY2Utb2Ytc3VwZXItc2l6ZWQtbW9vbi1vcmJpdGluZy1hLWp1cGl0ZXItc2l6ZWQtcGxhbmV0LWJleW9uZC1vdXItc29sYXItc3lzdGVtL9IBAA?oc=5</link><guid isPermaLink=\"false\">CBMigwFodHRwczovL3NjaXRlY2hkYWlseS5jb20vYXN0cm9ub21lcnMtZGlzY292ZXItZXZpZGVuY2Utb2Ytc3VwZXItc2l6ZWQtbW9vbi1vcmJpdGluZy1hLWp1cGl0ZXItc2l6ZWQtcGxhbmV0LWJleW9uZC1vdXItc29sYXItc3lzdGVtL9IBAA</guid><pubDate>Fri, 14 Jan 2022 02:33:45 GMT</pubDate><description>&lt;a href=\"https://news.google.com/__i/rss/rd/articles/CBMigwFodHRwczovL3NjaXRlY2hkYWlseS5jb20vYXN0cm9ub21lcnMtZGlzY292ZXItZXZpZGVuY2Utb2Ytc3VwZXItc2l6ZWQtbW9vbi1vcmJpdGluZy1hLWp1cGl0ZXItc2l6ZWQtcGxhbmV0LWJleW9uZC1vdXItc29sYXItc3lzdGVtL9IBAA?oc=5\" target=\"_blank\"&gt;Astronomers Discover Evidence of Super-Sized Moon Orbiting a Jupiter-Sized Planet Beyond Our Solar System&lt;/a&gt;&amp;nbsp;&amp;nbsp;&lt;font color=\"#6f6f6f\"&gt;SciTechDaily&lt;/font&gt;&lt;strong&gt;&lt;a href=\"https://news.google.com/stories/CAAqNggKIjBDQklTSGpvSmMzUnZjbmt0TXpZd1NoRUtEd2l0NVBMVkJCR2U0RGhHXzM2NW9TZ0FQAQ?oc=5\" target=\"_blank\"&gt;View Full Coverage on Google News&lt;/a&gt;&lt;/strong&gt;</description><source url=\"https://scitechdaily.com\">SciTechDaily</source></item>,\n",
       " <item><title>SpaceX launches third dedicated smallsat rideshare mission - SpaceNews</title><link>https://news.google.com/__i/rss/rd/articles/CBMiUWh0dHBzOi8vc3BhY2VuZXdzLmNvbS9zcGFjZXgtbGF1bmNoZXMtdGhpcmQtZGVkaWNhdGVkLXNtYWxsc2F0LXJpZGVzaGFyZS1taXNzaW9uL9IBAA?oc=5</link><guid isPermaLink=\"false\">1251021350</guid><pubDate>Thu, 13 Jan 2022 19:18:38 GMT</pubDate><description>&lt;ol&gt;&lt;li&gt;&lt;a href=\"https://news.google.com/__i/rss/rd/articles/CBMiUWh0dHBzOi8vc3BhY2VuZXdzLmNvbS9zcGFjZXgtbGF1bmNoZXMtdGhpcmQtZGVkaWNhdGVkLXNtYWxsc2F0LXJpZGVzaGFyZS1taXNzaW9uL9IBAA?oc=5\" target=\"_blank\"&gt;SpaceX launches third dedicated smallsat rideshare mission&lt;/a&gt;&amp;nbsp;&amp;nbsp;&lt;font color=\"#6f6f6f\"&gt;SpaceNews&lt;/font&gt;&lt;/li&gt;&lt;li&gt;&lt;a href=\"https://news.google.com/__i/rss/rd/articles/CBMidGh0dHBzOi8vYXJzdGVjaG5pY2EuY29tL3NjaWVuY2UvMjAyMi8wMS93aXRoLXRodXJzZGF5cy1sYXVuY2gtc3BhY2V4LWNvbnRpbnVlcy10by1pbmNyZWFzZS1jYWRlbmNlLW9mLWJvb3N0ZXItcmV1c2Uv0gF6aHR0cHM6Ly9hcnN0ZWNobmljYS5jb20vc2NpZW5jZS8yMDIyLzAxL3dpdGgtdGh1cnNkYXlzLWxhdW5jaC1zcGFjZXgtY29udGludWVzLXRvLWluY3JlYXNlLWNhZGVuY2Utb2YtYm9vc3Rlci1yZXVzZS8_YW1wPTE?oc=5\" target=\"_blank\"&gt;Falcon 9 completes launch, has now lifted 550 satellites into orbit [Updated]&lt;/a&gt;&amp;nbsp;&amp;nbsp;&lt;font color=\"#6f6f6f\"&gt;Ars Technica&lt;/font&gt;&lt;/li&gt;&lt;li&gt;&lt;a href=\"https://news.google.com/__i/rss/rd/articles/CBMiOmh0dHBzOi8vd3d3LnNwYWNlLmNvbS9zcGFjZXgtdHJhbnNwb3J0ZXItMy1sYXVuY2gtZmFsY29uLTnSAQA?oc=5\" target=\"_blank\"&gt;Watch SpaceX launch dozens of satellites on its Transporter-3 mission today&lt;/a&gt;&amp;nbsp;&amp;nbsp;&lt;font color=\"#6f6f6f\"&gt;Space.com&lt;/font&gt;&lt;/li&gt;&lt;li&gt;&lt;a href=\"https://news.google.com/__i/rss/rd/articles/CBMiY2h0dHBzOi8vd3d3LnBsYW5ldC5jb20vcHVsc2UvNDQtc3VwZXJkb3ZlLXNhdGVsbGl0ZXMtc3VjY2Vzc2Z1bGx5LWxhdW5jaC1vbi1zcGFjZXgtZmFsY29uLTktcm9ja2V0L9IBAA?oc=5\" target=\"_blank\"&gt;44 SuperDove Satellites Successfully Launch on SpaceX Falcon...&lt;/a&gt;&amp;nbsp;&amp;nbsp;&lt;font color=\"#6f6f6f\"&gt;planet.com&lt;/font&gt;&lt;/li&gt;&lt;li&gt;&lt;a href=\"https://news.google.com/__i/rss/rd/articles/CBMiigFodHRwczovL3d3dy5mbG9yaWRhdG9kYXkuY29tL3N0b3J5L3RlY2gvc2NpZW5jZS9zcGFjZS8yMDIyLzAxLzEzL3NvbmljLWJvb21zLWVjaG8tc3BhY2V4LWxhbmRzLWZhbGNvbi05LWJvb3N0ZXItY2FwZS1jYW5hdmVyYWwvOTE3NzUxMzAwMi_SAQA?oc=5\" target=\"_blank\"&gt;Sonic booms shake Space Coast as SpaceX lands Falcon 9 booster at Cape Canaveral&lt;/a&gt;&amp;nbsp;&amp;nbsp;&lt;font color=\"#6f6f6f\"&gt;Florida Today&lt;/font&gt;&lt;/li&gt;&lt;li&gt;&lt;strong&gt;&lt;a href=\"https://news.google.com/stories/CAAqNggKIjBDQklTSGpvSmMzUnZjbmt0TXpZd1NoRUtEd2ltcE1UVUJCRWJKcExILTNzNTd5Z0FQAQ?oc=5\" target=\"_blank\"&gt;View Full Coverage on Google News&lt;/a&gt;&lt;/strong&gt;&lt;/li&gt;&lt;/ol&gt;</description><source url=\"https://spacenews.com\">SpaceNews</source></item>,\n",
       " <item><title>‘Potentially hazardous’ asteroid will come close to Earth - KOIN.com</title><link>https://news.google.com/__i/rss/rd/articles/CBMiUmh0dHBzOi8vd3d3LmtvaW4uY29tL25ld3MvcG90ZW50aWFsbHktaGF6YXJkb3VzLWFzdGVyb2lkLXdpbGwtY29tZS1jbG9zZS10by1lYXJ0aC_SAVZodHRwczovL3d3dy5rb2luLmNvbS9uZXdzL3BvdGVudGlhbGx5LWhhemFyZG91cy1hc3Rlcm9pZC13aWxsLWNvbWUtY2xvc2UtdG8tZWFydGgvYW1wLw?oc=5</link><guid isPermaLink=\"false\">1156491584</guid><pubDate>Fri, 14 Jan 2022 00:44:07 GMT</pubDate><description>&lt;ol&gt;&lt;li&gt;&lt;a href=\"https://news.google.com/__i/rss/rd/articles/CBMiUmh0dHBzOi8vd3d3LmtvaW4uY29tL25ld3MvcG90ZW50aWFsbHktaGF6YXJkb3VzLWFzdGVyb2lkLXdpbGwtY29tZS1jbG9zZS10by1lYXJ0aC_SAVZodHRwczovL3d3dy5rb2luLmNvbS9uZXdzL3BvdGVudGlhbGx5LWhhemFyZG91cy1hc3Rlcm9pZC13aWxsLWNvbWUtY2xvc2UtdG8tZWFydGgvYW1wLw?oc=5\" target=\"_blank\"&gt;‘Potentially hazardous’ asteroid will come close to Earth&lt;/a&gt;&amp;nbsp;&amp;nbsp;&lt;font color=\"#6f6f6f\"&gt;KOIN.com&lt;/font&gt;&lt;/li&gt;&lt;li&gt;&lt;a href=\"https://news.google.com/__i/rss/rd/articles/CBMiK2h0dHBzOi8vd3d3LnlvdXR1YmUuY29tL3dhdGNoP3Y9UUE0ZnJPT01OUEHSAQA?oc=5\" target=\"_blank\"&gt;'Potentially hazardous' asteroid set to zoom by Earth&lt;/a&gt;&amp;nbsp;&amp;nbsp;&lt;font color=\"#6f6f6f\"&gt;10 Tampa Bay&lt;/font&gt;&lt;/li&gt;&lt;li&gt;&lt;a href=\"https://news.google.com/__i/rss/rd/articles/CBMiRWh0dHBzOi8vd3d3Lmlnbi5jb20vYXJ0aWNsZXMvYXN0ZXJvaWQtaGFsZi1taWxlLXdpZGUtc2FmZS1mbHlieS1lYXJ0aNIBAA?oc=5\" target=\"_blank\"&gt;A Half-Mile Wide Asteroid Will Soon Pass Earth - IGN&lt;/a&gt;&amp;nbsp;&amp;nbsp;&lt;font color=\"#6f6f6f\"&gt;IGN&lt;/font&gt;&lt;/li&gt;&lt;li&gt;&lt;a href=\"https://news.google.com/__i/rss/rd/articles/CBMib2h0dHBzOi8vd3d3LmRhaWx5bWFpbC5jby51ay9zY2llbmNldGVjaC9hcnRpY2xlLTEwMzk1NjkzL0h1Z2UtYXN0ZXJvaWQtcGFzc2VzLUVhcnRoLTQzLTAwMC1taWxlcy1ob3VyLXdlZWsuaHRtbNIBc2h0dHBzOi8vd3d3LmRhaWx5bWFpbC5jby51ay9zY2llbmNldGVjaC9hcnRpY2xlLTEwMzk1NjkzL2FtcC9IdWdlLWFzdGVyb2lkLXBhc3Nlcy1FYXJ0aC00My0wMDAtbWlsZXMtaG91ci13ZWVrLmh0bWw?oc=5\" target=\"_blank\"&gt;Huge asteroid passes Earth at 43,000 miles per hour next week&lt;/a&gt;&amp;nbsp;&amp;nbsp;&lt;font color=\"#6f6f6f\"&gt;Daily Mail&lt;/font&gt;&lt;/li&gt;&lt;li&gt;&lt;a href=\"https://news.google.com/__i/rss/rd/articles/CBMid2h0dHBzOi8vd3d3LnVzYXRvZGF5LmNvbS9zdG9yeS9uZXdzL3dvcmxkLzIwMjIvMDEvMTMvbWFzc2l2ZS1wb3RlbnRpYWxseS1oYXphcmRvdXMtYXN0ZXJvaWQtem9vbS1wYXN0LWVhcnRoLzkxNzgwNzQwMDIv0gEnaHR0cHM6Ly9hbXAudXNhdG9kYXkuY29tL2FtcC85MTc4MDc0MDAy?oc=5\" target=\"_blank\"&gt;A 'potentially hazardous' asteroid bigger than any building in the world to soon fly past Earth&lt;/a&gt;&amp;nbsp;&amp;nbsp;&lt;font color=\"#6f6f6f\"&gt;USA TODAY&lt;/font&gt;&lt;/li&gt;&lt;li&gt;&lt;strong&gt;&lt;a href=\"https://news.google.com/stories/CAAqNggKIjBDQklTSGpvSmMzUnZjbmt0TXpZd1NoRUtEd2pBMHJxbkJCRVpscmU0VTFJUU9TZ0FQAQ?oc=5\" target=\"_blank\"&gt;View Full Coverage on Google News&lt;/a&gt;&lt;/strong&gt;&lt;/li&gt;&lt;/ol&gt;</description><source url=\"https://www.koin.com\">KOIN.com</source></item>,\n",
       " <item><title>Cannabis Compounds May Prevent Coronavirus Infection, Study Finds - NBC New York</title><link>https://news.google.com/__i/rss/rd/articles/CBMidWh0dHBzOi8vd3d3Lm5iY25ld3lvcmsuY29tL25ld3MvY29yb25hdmlydXMvY2FubmFiaXMtY29tcG91bmRzLW1heS1wcmV2ZW50LWNvcm9uYXZpcnVzLWluZmVjdGlvbi1zdHVkeS1maW5kcy8zNDk0NTQyL9IBeWh0dHBzOi8vd3d3Lm5iY25ld3lvcmsuY29tL25ld3MvY29yb25hdmlydXMvY2FubmFiaXMtY29tcG91bmRzLW1heS1wcmV2ZW50LWNvcm9uYXZpcnVzLWluZmVjdGlvbi1zdHVkeS1maW5kcy8zNDk0NTQyLz9hbXA?oc=5</link><guid isPermaLink=\"false\">1250797820</guid><pubDate>Fri, 14 Jan 2022 02:16:17 GMT</pubDate><description>&lt;ol&gt;&lt;li&gt;&lt;a href=\"https://news.google.com/__i/rss/rd/articles/CBMidWh0dHBzOi8vd3d3Lm5iY25ld3lvcmsuY29tL25ld3MvY29yb25hdmlydXMvY2FubmFiaXMtY29tcG91bmRzLW1heS1wcmV2ZW50LWNvcm9uYXZpcnVzLWluZmVjdGlvbi1zdHVkeS1maW5kcy8zNDk0NTQyL9IBeWh0dHBzOi8vd3d3Lm5iY25ld3lvcmsuY29tL25ld3MvY29yb25hdmlydXMvY2FubmFiaXMtY29tcG91bmRzLW1heS1wcmV2ZW50LWNvcm9uYXZpcnVzLWluZmVjdGlvbi1zdHVkeS1maW5kcy8zNDk0NTQyLz9hbXA?oc=5\" target=\"_blank\"&gt;Cannabis Compounds May Prevent Coronavirus Infection, Study Finds&lt;/a&gt;&amp;nbsp;&amp;nbsp;&lt;font color=\"#6f6f6f\"&gt;NBC New York&lt;/font&gt;&lt;/li&gt;&lt;li&gt;&lt;a href=\"https://news.google.com/__i/rss/rd/articles/CBMiK2h0dHBzOi8vd3d3LnlvdXR1YmUuY29tL3dhdGNoP3Y9ZjBRTDBOZUtNUEXSAQA?oc=5\" target=\"_blank\"&gt;Cannabis compounds prevent coronavirus from entering human cells: Oregon State University study&lt;/a&gt;&amp;nbsp;&amp;nbsp;&lt;font color=\"#6f6f6f\"&gt;FOX 11 Los Angeles&lt;/font&gt;&lt;/li&gt;&lt;li&gt;&lt;a href=\"https://news.google.com/__i/rss/rd/articles/CBMiUWh0dHBzOi8vaGVtcHRvZGF5Lm5ldC90d28taGVtcC1jb21wb3VuZHMtc2hvdy1wcm9taXNlLWluLWZpZ2h0aW5nLWNvdmlkLTE5LXZpcnVzL9IBVWh0dHBzOi8vaGVtcHRvZGF5Lm5ldC90d28taGVtcC1jb21wb3VuZHMtc2hvdy1wcm9taXNlLWluLWZpZ2h0aW5nLWNvdmlkLTE5LXZpcnVzL2FtcC8?oc=5\" target=\"_blank\"&gt;Two hemp compounds show promise in fighting covid-19 virus&lt;/a&gt;&amp;nbsp;&amp;nbsp;&lt;font color=\"#6f6f6f\"&gt;HempToday&lt;/font&gt;&lt;/li&gt;&lt;li&gt;&lt;a href=\"https://news.google.com/__i/rss/rd/articles/CBMiK2h0dHBzOi8vd3d3LnlvdXR1YmUuY29tL3dhdGNoP3Y9VHFYakV5VFVwbmPSAQA?oc=5\" target=\"_blank\"&gt;Study finds cannabis compounds may prevent COVID-19 infection&lt;/a&gt;&amp;nbsp;&amp;nbsp;&lt;font color=\"#6f6f6f\"&gt;Click On Detroit | Local 4 | WDIV&lt;/font&gt;&lt;/li&gt;&lt;li&gt;&lt;a href=\"https://news.google.com/__i/rss/rd/articles/CBMidWh0dHBzOi8vd3d3LndmbGEuY29tL2NvbW11bml0eS9oZWFsdGgvY29yb25hdmlydXMvY29tcG91bmRzLWluLWhlbXAtY2FuLWhlbHAtY29udHJvbC1jb3ZpZC0xOS1zcHJlYWQtcmVzZWFyY2hlcnMtc2F5L9IBeWh0dHBzOi8vd3d3LndmbGEuY29tL2NvbW11bml0eS9oZWFsdGgvY29yb25hdmlydXMvY29tcG91bmRzLWluLWhlbXAtY2FuLWhlbHAtY29udHJvbC1jb3ZpZC0xOS1zcHJlYWQtcmVzZWFyY2hlcnMtc2F5L2FtcC8?oc=5\" target=\"_blank\"&gt;Compounds in hemp can help control COVID-19 spread, researchers say&lt;/a&gt;&amp;nbsp;&amp;nbsp;&lt;font color=\"#6f6f6f\"&gt;WFLA&lt;/font&gt;&lt;/li&gt;&lt;li&gt;&lt;strong&gt;&lt;a href=\"https://news.google.com/stories/CAAqNggKIjBDQklTSGpvSmMzUnZjbmt0TXpZd1NoRUtEd2o4MGJiVUJCRVZ6QUJqbmhUbV95Z0FQAQ?oc=5\" target=\"_blank\"&gt;View Full Coverage on Google News&lt;/a&gt;&lt;/strong&gt;&lt;/li&gt;&lt;/ol&gt;</description><source url=\"https://www.nbcnewyork.com\">NBC New York</source></item>,\n",
       " <item><title>‘Mission impossible’: With Boston’s proof-of-vaccination mandate set to begin, businesses worry - BetaBoston</title><link>https://news.google.com/__i/rss/rd/articles/CBMiiAFodHRwczovL3d3dy5ib3N0b25nbG9iZS5jb20vMjAyMi8wMS8xMy9idXNpbmVzcy9taXNzaW9uLWltcG9zc2libGUtd2l0aC1ib3N0b25zLXByb29mLW9mLXZhY2NpbmF0aW9uLW1hbmRhdGUtc2V0LWJlZ2luLWJ1c2luZXNzZXMtd29ycnkv0gGXAWh0dHBzOi8vd3d3LmJvc3Rvbmdsb2JlLmNvbS8yMDIyLzAxLzEzL2J1c2luZXNzL21pc3Npb24taW1wb3NzaWJsZS13aXRoLWJvc3RvbnMtcHJvb2Ytb2YtdmFjY2luYXRpb24tbWFuZGF0ZS1zZXQtYmVnaW4tYnVzaW5lc3Nlcy13b3JyeS8_b3V0cHV0VHlwZT1hbXA?oc=5</link><guid isPermaLink=\"false\">1249034559</guid><pubDate>Fri, 14 Jan 2022 01:35:49 GMT</pubDate><description>&lt;ol&gt;&lt;li&gt;&lt;a href=\"https://news.google.com/__i/rss/rd/articles/CBMiiAFodHRwczovL3d3dy5ib3N0b25nbG9iZS5jb20vMjAyMi8wMS8xMy9idXNpbmVzcy9taXNzaW9uLWltcG9zc2libGUtd2l0aC1ib3N0b25zLXByb29mLW9mLXZhY2NpbmF0aW9uLW1hbmRhdGUtc2V0LWJlZ2luLWJ1c2luZXNzZXMtd29ycnkv0gGXAWh0dHBzOi8vd3d3LmJvc3Rvbmdsb2JlLmNvbS8yMDIyLzAxLzEzL2J1c2luZXNzL21pc3Npb24taW1wb3NzaWJsZS13aXRoLWJvc3RvbnMtcHJvb2Ytb2YtdmFjY2luYXRpb24tbWFuZGF0ZS1zZXQtYmVnaW4tYnVzaW5lc3Nlcy13b3JyeS8_b3V0cHV0VHlwZT1hbXA?oc=5\" target=\"_blank\"&gt;‘Mission impossible’: With Boston’s proof-of-vaccination mandate set to begin, businesses worry&lt;/a&gt;&amp;nbsp;&amp;nbsp;&lt;font color=\"#6f6f6f\"&gt;BetaBoston&lt;/font&gt;&lt;/li&gt;&lt;li&gt;&lt;a href=\"https://news.google.com/__i/rss/rd/articles/CBMimgFodHRwczovL3d3dy5ib3N0b24yNW5ld3MuY29tL25ld3MvaGVhbHRoL2Jvc3RvbnMtdmFjY2luZS1tYW5kYXRlLXRha2UtZWZmZWN0LXNhdHVyZGF5LWNpdHktbGF1bmNoZXMtYXBwLXNob3ctcHJvb2YtdmFjY2luYXRpb24vR05YTVYzV1JBQkFBTE9NTkY2MjM1V1dKM00v0gGpAWh0dHBzOi8vd3d3LmJvc3RvbjI1bmV3cy5jb20vbmV3cy9oZWFsdGgvYm9zdG9ucy12YWNjaW5lLW1hbmRhdGUtdGFrZS1lZmZlY3Qtc2F0dXJkYXktY2l0eS1sYXVuY2hlcy1hcHAtc2hvdy1wcm9vZi12YWNjaW5hdGlvbi9HTlhNVjNXUkFCQUFMT01ORjYyMzVXV0ozTS8_b3V0cHV0VHlwZT1hbXA?oc=5\" target=\"_blank\"&gt;Boston’s vaccine mandate to take effect Saturday; City launches app to show proof of vaccination&lt;/a&gt;&amp;nbsp;&amp;nbsp;&lt;font color=\"#6f6f6f\"&gt;Boston 25 News&lt;/font&gt;&lt;/li&gt;&lt;li&gt;&lt;a href=\"https://news.google.com/__i/rss/rd/articles/CBMifWh0dHBzOi8vYm9zdG9uLmNic2xvY2FsLmNvbS8yMDIyLzAxLzEzL2Jvc3Rvbi1jb3ZpZC12YWNjaW5lLXJlcXVpcmVtZW50LXdoZXJlLXNob3ctcHJvb2YtaW5kb29yLXNwYWNlcy1yZXN0YXVyYW50cy1iYXJzLWd5bXMv0gEA?oc=5\" target=\"_blank\"&gt;Boston COVID Vaccine Requirement: Here’s Where You’ll Need To Show Vax Proof Starting Saturday&lt;/a&gt;&amp;nbsp;&amp;nbsp;&lt;font color=\"#6f6f6f\"&gt;CBS Boston&lt;/font&gt;&lt;/li&gt;&lt;li&gt;&lt;a href=\"https://news.google.com/__i/rss/rd/articles/CBMie2h0dHBzOi8vd3d3LmJvc3Rvbi5jb20vbmV3cy9jb3JvbmF2aXJ1cy8yMDIyLzAxLzEzL21hc3NhY2h1c2V0dHMtdmFjY2luZS1tYW5kYXRlLXJlc3RhdXJhbnRzLWluZG9vci12ZW51ZXMtZ3Jvd2luZy1zdXBwb3J0L9IBgQFodHRwczovL3d3dy5ib3N0b24uY29tL25ld3MvY29yb25hdmlydXMvMjAyMi8wMS8xMy9tYXNzYWNodXNldHRzLXZhY2NpbmUtbWFuZGF0ZS1yZXN0YXVyYW50cy1pbmRvb3ItdmVudWVzLWdyb3dpbmctc3VwcG9ydC8_YW1wPTE?oc=5\" target=\"_blank\"&gt;Some top Mass. lawmakers say the entire state should require proof of vaccination for certain indoor venues&lt;/a&gt;&amp;nbsp;&amp;nbsp;&lt;font color=\"#6f6f6f\"&gt;Boston.com&lt;/font&gt;&lt;/li&gt;&lt;li&gt;&lt;a href=\"https://news.google.com/__i/rss/rd/articles/CBMiW2h0dHBzOi8vcGF0Y2guY29tL21hc3NhY2h1c2V0dHMvc29tZXJ2aWxsZS9zb21lcnZpbGxlLXZheC1tYW5kYXRlLWdvaW5nLWJvYXJkLWhlYWx0aC1mcmlkYXnSAQA?oc=5\" target=\"_blank\"&gt;Somerville Vax Mandate Going Before Board Of Health Friday&lt;/a&gt;&amp;nbsp;&amp;nbsp;&lt;font color=\"#6f6f6f\"&gt;Somerville, MA Patch&lt;/font&gt;&lt;/li&gt;&lt;li&gt;&lt;strong&gt;&lt;a href=\"https://news.google.com/stories/CAAqNggKIjBDQklTSGpvSmMzUnZjbmt0TXpZd1NoRUtEd2lfZ3N2VEJCSHlIeEExLUpycGhTZ0FQAQ?oc=5\" target=\"_blank\"&gt;View Full Coverage on Google News&lt;/a&gt;&lt;/strong&gt;&lt;/li&gt;&lt;/ol&gt;</description><source url=\"https://www.bostonglobe.com\">BetaBoston</source></item>,\n",
       " <item><title>Opinion | In the Omicron Surge, I See Signs of Despair From Parents of Kids Under 5 - The New York Times</title><link>https://news.google.com/__i/rss/rd/articles/CBMiRmh0dHBzOi8vd3d3Lm55dGltZXMuY29tLzIwMjIvMDEvMTIvb3Bpbmlvbi9wYXJlbnRzLXNjaG9vbC1vbWljcm9uLmh0bWzSAQA?oc=5</link><guid isPermaLink=\"false\">1251547113</guid><pubDate>Wed, 12 Jan 2022 16:21:30 GMT</pubDate><description>&lt;ol&gt;&lt;li&gt;&lt;a href=\"https://news.google.com/__i/rss/rd/articles/CBMiRmh0dHBzOi8vd3d3Lm55dGltZXMuY29tLzIwMjIvMDEvMTIvb3Bpbmlvbi9wYXJlbnRzLXNjaG9vbC1vbWljcm9uLmh0bWzSAQA?oc=5\" target=\"_blank\"&gt;Opinion | In the Omicron Surge, I See Signs of Despair From Parents of Kids Under 5&lt;/a&gt;&amp;nbsp;&amp;nbsp;&lt;font color=\"#6f6f6f\"&gt;The New York Times&lt;/font&gt;&lt;/li&gt;&lt;li&gt;&lt;a href=\"https://news.google.com/__i/rss/rd/articles/CBMiK2h0dHBzOi8vd3d3LnlvdXR1YmUuY29tL3dhdGNoP3Y9OVlRSXgtQncxbzjSAQA?oc=5\" target=\"_blank\"&gt;What Northern California pediatricians say parents can do about omicron surge&lt;/a&gt;&amp;nbsp;&amp;nbsp;&lt;font color=\"#6f6f6f\"&gt;KCRA News&lt;/font&gt;&lt;/li&gt;&lt;li&gt;&lt;strong&gt;&lt;a href=\"https://news.google.com/stories/CAAqNggKIjBDQklTSGpvSmMzUnZjbmt0TXpZd1NoRUtEd2pwci1UVUJCSGJ1UkNEZi1nWFdTZ0FQAQ?oc=5\" target=\"_blank\"&gt;View Full Coverage on Google News&lt;/a&gt;&lt;/strong&gt;&lt;/li&gt;&lt;/ol&gt;</description><source url=\"https://www.nytimes.com\">The New York Times</source></item>]"
      ]
     },
     "execution_count": 5,
     "metadata": {},
     "output_type": "execute_result"
    }
   ],
   "source": [
    "url = \"https://news.google.com/rss?hl=en-US&gl=US&ceid=US:en\"\n",
    "response = request.urlopen(url)\n",
    "soup = BeautifulSoup(response,\"xml\")\n",
    "response.close()\n",
    "articles = soup.find_all(\"item\")\n",
    "articles"
   ]
  },
  {
   "cell_type": "code",
   "execution_count": 4,
   "metadata": {},
   "outputs": [],
   "source": [
    "def get_items(stock=\"Apple\", date=\"2021-11-24\", homepage=\"reuters.com\"):\n",
    "    stock = urllib.parse.quote(stock)\n",
    "    url = \"https://news.google.com/rss/search?q=\" + stock +  \"+after:\" + date + \"+inurl:\" + homepage + \"&hl=en-US&gl=US&ceid=US:en\"\n",
    "    response = request.urlopen(url)\n",
    "    soup = BeautifulSoup(response,\"xml\")\n",
    "    response.close()\n",
    "    elems = soup.find_all(\"item\")\n",
    "    return elems"
   ]
  },
  {
   "cell_type": "code",
   "execution_count": 5,
   "metadata": {},
   "outputs": [],
   "source": [
    "with open(\"./news_site.txt\") as f:\n",
    "    news_sites = f.readlines()\n",
    "news_sites = list(map(lambda x: x[:-1],news_sites))"
   ]
  },
  {
   "cell_type": "code",
   "execution_count": 6,
   "metadata": {},
   "outputs": [],
   "source": [
    "with open(\"./stocks.txt\") as f:\n",
    "    stocks = f.readlines()\n",
    "stocks = list(map(lambda x: x[:-1],stocks))"
   ]
  },
  {
   "cell_type": "code",
   "execution_count": 7,
   "metadata": {},
   "outputs": [],
   "source": [
    "import hashlib"
   ]
  },
  {
   "cell_type": "code",
   "execution_count": 11,
   "metadata": {},
   "outputs": [
    {
     "data": {
      "text/plain": [
       "[<item><title>Tiger Woods on his golfing future - CNN</title><link>https://us.cnn.com/videos/tv/2021/12/01/exp-tsr-todd-tiger-woods-on-his-golfing-future.cnn/video/playlists/situation-room-highlights/</link><guid isPermaLink=\"false\">CBMihQFodHRwczovL3VzLmNubi5jb20vdmlkZW9zL3R2LzIwMjEvMTIvMDEvZXhwLXRzci10b2RkLXRpZ2VyLXdvb2RzLW9uLWhpcy1nb2xmaW5nLWZ1dHVyZS5jbm4vdmlkZW8vcGxheWxpc3RzL3NpdHVhdGlvbi1yb29tLWhpZ2hsaWdodHMv0gFfaHR0cHM6Ly9hbXAuY25uLmNvbS9jbm4vdmlkZW9zL3R2LzIwMjEvMTIvMDEvZXhwLXRzci10b2RkLXRpZ2VyLXdvb2RzLW9uLWhpcy1nb2xmaW5nLWZ1dHVyZS5jbm4</guid><pubDate>Wed, 01 Dec 2021 08:00:00 GMT</pubDate><description>&lt;a href=\"https://us.cnn.com/videos/tv/2021/12/01/exp-tsr-todd-tiger-woods-on-his-golfing-future.cnn/video/playlists/situation-room-highlights/\" target=\"_blank\"&gt;Tiger Woods on his golfing future&lt;/a&gt;&amp;nbsp;&amp;nbsp;&lt;font color=\"#6f6f6f\"&gt;CNN&lt;/font&gt;</description><source url=\"https://us.cnn.com\">CNN</source></item>,\n",
       " <item><title>Some of the best kitchen products we’ve tested are on sale for Cyber Monday - CNN</title><link>https://www.cnn.com/2021/11/29/cnn-underscored/best-kitchen-deals-cyber-monday/index.html</link><guid isPermaLink=\"false\">CBMiWWh0dHBzOi8vd3d3LmNubi5jb20vMjAyMS8xMS8yOS9jbm4tdW5kZXJzY29yZWQvYmVzdC1raXRjaGVuLWRlYWxzLWN5YmVyLW1vbmRheS9pbmRleC5odG1s0gFdaHR0cHM6Ly9hbXAuY25uLmNvbS9jbm4vMjAyMS8xMS8yOS9jbm4tdW5kZXJzY29yZWQvYmVzdC1raXRjaGVuLWRlYWxzLWN5YmVyLW1vbmRheS9pbmRleC5odG1s</guid><pubDate>Mon, 29 Nov 2021 08:00:00 GMT</pubDate><description>&lt;a href=\"https://www.cnn.com/2021/11/29/cnn-underscored/best-kitchen-deals-cyber-monday/index.html\" target=\"_blank\"&gt;Some of the best kitchen products we’ve tested are on sale for Cyber Monday&lt;/a&gt;&amp;nbsp;&amp;nbsp;&lt;font color=\"#6f6f6f\"&gt;CNN&lt;/font&gt;</description><source url=\"https://www.cnn.com\">CNN</source></item>,\n",
       " <item><title>'I just cry': Nurse describes working in Covid-19 unit - CNN</title><link>https://us.cnn.com/videos/health/2021/12/10/michigan-covid-19-hospitalizations-vaccines-marquez-ac360-vpx.cnn/video/playlists/top-news-videos/</link><guid isPermaLink=\"false\">CBMijgFodHRwczovL3VzLmNubi5jb20vdmlkZW9zL2hlYWx0aC8yMDIxLzEyLzEwL21pY2hpZ2FuLWNvdmlkLTE5LWhvc3BpdGFsaXphdGlvbnMtdmFjY2luZXMtbWFycXVlei1hYzM2MC12cHguY25uL3ZpZGVvL3BsYXlsaXN0cy90b3AtbmV3cy12aWRlb3Mv0gFyaHR0cHM6Ly9hbXAuY25uLmNvbS9jbm4vdmlkZW9zL2hlYWx0aC8yMDIxLzEyLzEwL21pY2hpZ2FuLWNvdmlkLTE5LWhvc3BpdGFsaXphdGlvbnMtdmFjY2luZXMtbWFycXVlei1hYzM2MC12cHguY25u</guid><pubDate>Fri, 10 Dec 2021 08:00:00 GMT</pubDate><description>&lt;a href=\"https://us.cnn.com/videos/health/2021/12/10/michigan-covid-19-hospitalizations-vaccines-marquez-ac360-vpx.cnn/video/playlists/top-news-videos/\" target=\"_blank\"&gt;'I just cry': Nurse describes working in Covid-19 unit&lt;/a&gt;&amp;nbsp;&amp;nbsp;&lt;font color=\"#6f6f6f\"&gt;CNN&lt;/font&gt;</description><source url=\"https://us.cnn.com\">CNN</source></item>,\n",
       " <item><title>26 Cyber Monday deals our team of shopping experts couldn’t pass up - CNN</title><link>https://www.cnn.com/2021/11/29/cnn-underscored/cyber-monday-editors-buy-2021/index.html</link><guid isPermaLink=\"false\">CBMiV2h0dHBzOi8vd3d3LmNubi5jb20vMjAyMS8xMS8yOS9jbm4tdW5kZXJzY29yZWQvY3liZXItbW9uZGF5LWVkaXRvcnMtYnV5LTIwMjEvaW5kZXguaHRtbNIBW2h0dHBzOi8vYW1wLmNubi5jb20vY25uLzIwMjEvMTEvMjkvY25uLXVuZGVyc2NvcmVkL2N5YmVyLW1vbmRheS1lZGl0b3JzLWJ1eS0yMDIxL2luZGV4Lmh0bWw</guid><pubDate>Mon, 29 Nov 2021 08:00:00 GMT</pubDate><description>&lt;a href=\"https://www.cnn.com/2021/11/29/cnn-underscored/cyber-monday-editors-buy-2021/index.html\" target=\"_blank\"&gt;26 Cyber Monday deals our team of shopping experts couldn’t pass up&lt;/a&gt;&amp;nbsp;&amp;nbsp;&lt;font color=\"#6f6f6f\"&gt;CNN&lt;/font&gt;</description><source url=\"https://www.cnn.com\">CNN</source></item>,\n",
       " <item><title>The best gift ideas to shop this Black Friday - CNN</title><link>https://www.cnn.com/2021/11/26/cnn-underscored/black-friday-gift-ideas-2021/index.html</link><guid isPermaLink=\"false\">CBMiVmh0dHBzOi8vd3d3LmNubi5jb20vMjAyMS8xMS8yNi9jbm4tdW5kZXJzY29yZWQvYmxhY2stZnJpZGF5LWdpZnQtaWRlYXMtMjAyMS9pbmRleC5odG1s0gFaaHR0cHM6Ly9hbXAuY25uLmNvbS9jbm4vMjAyMS8xMS8yNi9jbm4tdW5kZXJzY29yZWQvYmxhY2stZnJpZGF5LWdpZnQtaWRlYXMtMjAyMS9pbmRleC5odG1s</guid><pubDate>Fri, 26 Nov 2021 08:00:00 GMT</pubDate><description>&lt;a href=\"https://www.cnn.com/2021/11/26/cnn-underscored/black-friday-gift-ideas-2021/index.html\" target=\"_blank\"&gt;The best gift ideas to shop this Black Friday&lt;/a&gt;&amp;nbsp;&amp;nbsp;&lt;font color=\"#6f6f6f\"&gt;CNN&lt;/font&gt;</description><source url=\"https://www.cnn.com\">CNN</source></item>]"
      ]
     },
     "execution_count": 11,
     "metadata": {},
     "output_type": "execute_result"
    }
   ],
   "source": [
    "get_items(stock=\"\",homepage=\"us.cnn.com\")"
   ]
  },
  {
   "cell_type": "code",
   "execution_count": 8,
   "metadata": {},
   "outputs": [],
   "source": [
    "articles = []\n",
    "for news_site, website_name, website_name_2 in zip(news_sites, website_names, website_names_2 ):\n",
    "    items = get_items(stock=\"\", date=limit_date, homepage=news_site)\n",
    "    for item in items[:5]:\n",
    "        title = item.find(\"title\").getText()\n",
    "        title = str(title.replace(website_name,\"\"))\n",
    "        link = item.find(\"link\").getText()\n",
    "        pubdate = item.find(\"pubDate\").getText()\n",
    "        source = website_name_2\n",
    "        # data = [title,link,pubdate,source]\n",
    "        articles.append(\n",
    "            {\n",
    "                \"title\": title,\n",
    "                \"pubDate\": pubdate,\n",
    "                \"source\": source,\n",
    "                \"link\": link,\n",
    "            }\n",
    "        )"
   ]
  },
  {
   "cell_type": "code",
   "execution_count": 9,
   "metadata": {},
   "outputs": [
    {
     "data": {
      "text/plain": [
       "[{'title': 'U.S. labor board sets dates for union vote at Amazon warehouse in Alabama',\n",
       "  'pubDate': 'Tue, 11 Jan 2022 22:18:00 GMT',\n",
       "  'source': 'Reuters',\n",
       "  'link': 'https://www.reuters.com/business/us-labor-regulator-sets-dates-union-vote-amazon-warehouse-alabama-2022-01-11/'},\n",
       " {'title': 'Taliban increase payment in wheat as economic crisis deepens',\n",
       "  'pubDate': 'Tue, 11 Jan 2022 18:22:00 GMT',\n",
       "  'source': 'Reuters',\n",
       "  'link': 'https://www.reuters.com/world/asia-pacific/taliban-increase-payment-wheat-economic-crisis-deepens-2022-01-11/'},\n",
       " {'title': 'Djokovic travelled across Europe before Australia trip, at odds with declaration',\n",
       "  'pubDate': 'Wed, 12 Jan 2022 03:25:00 GMT',\n",
       "  'source': 'Reuters',\n",
       "  'link': 'https://www.reuters.com/lifestyle/sports/djokovic-travelled-across-europe-before-australia-trip-odds-with-declaration-2022-01-11/'},\n",
       " {'title': \"Russia braces for 'very intense' rise in Omicron cases\",\n",
       "  'pubDate': 'Tue, 11 Jan 2022 15:50:00 GMT',\n",
       "  'source': 'Reuters',\n",
       "  'link': 'https://www.reuters.com/world/europe/russia-braces-very-intense-rise-omicron-cases-2022-01-11/'},\n",
       " {'title': 'United CEO: 4% of U.S. workforce test positive for COVID; no deaths among the vaccinated',\n",
       "  'pubDate': 'Tue, 11 Jan 2022 22:12:00 GMT',\n",
       "  'source': 'Reuters',\n",
       "  'link': 'https://www.reuters.com/business/aerospace-defense/united-airlines-ceo-says-about-3000-employees-test-positive-covid-19-2022-01-11/'},\n",
       " {'title': 'Kim Kardashian, Floyd Mayweather Sued by Investors in EthereumMax Tokens',\n",
       "  'pubDate': 'Tue, 11 Jan 2022 18:47:31 GMT',\n",
       "  'source': 'Bloomberg',\n",
       "  'link': 'https://www.bloomberg.com/news/articles/2022-01-11/kardashian-mayweather-sued-by-investors-in-ethereummax-tokens'},\n",
       " {'title': 'Hackers Can Cut the Lights With Rogue Code, Researchers Show',\n",
       "  'pubDate': 'Tue, 11 Jan 2022 17:44:38 GMT',\n",
       "  'source': 'Bloomberg',\n",
       "  'link': 'https://www.bloomberg.com/news/articles/2022-01-11/researchers-show-how-hackers-can-cut-the-lights-with-rogue-code'},\n",
       " {'title': \"Brazil's Extreme Weather Is Flooding Mines, Drying Up Crops\",\n",
       "  'pubDate': 'Tue, 11 Jan 2022 17:58:41 GMT',\n",
       "  'source': 'Bloomberg',\n",
       "  'link': 'https://www.bloomberg.com/news/articles/2022-01-11/brazil-s-extreme-weather-is-flooding-mines-drying-up-crops'},\n",
       " {'title': 'Stock Market Today: Dow, S&P Live Updates for Jan. 12, 2022',\n",
       "  'pubDate': 'Tue, 11 Jan 2022 22:00:04 GMT',\n",
       "  'source': 'Bloomberg',\n",
       "  'link': 'https://www.bloomberg.com/news/articles/2022-01-11/asia-stocks-to-rebound-after-powell-dollar-drops-markets-wrap'},\n",
       " {'title': 'Powell Says Private Coins Could Compete With Fed Digital Dollar',\n",
       "  'pubDate': 'Tue, 11 Jan 2022 18:45:03 GMT',\n",
       "  'source': 'Bloomberg',\n",
       "  'link': 'https://www.bloomberg.com/news/articles/2022-01-11/powell-says-private-coins-could-compete-with-fed-digital-dollar'},\n",
       " {'title': \"Jim Cramer says 'too much good news to ignore' drove Tuesday's stock market rally\",\n",
       "  'pubDate': 'Tue, 11 Jan 2022 23:25:49 GMT',\n",
       "  'source': 'CNBC',\n",
       "  'link': 'https://www.cnbc.com/2022/01/11/cramer-too-much-good-news-to-ignore-drove-tuesdays-market-rally.html'},\n",
       " {'title': 'Tesla sold a record 70,847 China-made vehicles in December, China group says',\n",
       "  'pubDate': 'Tue, 11 Jan 2022 14:03:53 GMT',\n",
       "  'source': 'CNBC',\n",
       "  'link': 'https://www.cnbc.com/2022/01/11/tesla-sold-record-70847-china-made-cars-in-december-china-group-says.html'},\n",
       " {'title': \"What to watch today: Wall Street looks higher after Monday's major tech-stock rebound\",\n",
       "  'pubDate': 'Tue, 11 Jan 2022 13:16:41 GMT',\n",
       "  'source': 'CNBC',\n",
       "  'link': 'https://www.cnbc.com/2022/01/11/what-to-watch-today-wall-street-looks-higher-after-mondays-major-tech-stock-rebound.html'},\n",
       " {'title': 'Chase Freedom Unlimited and Freedom Flex 5% Grocery Store Benefit Ends Tomorrow',\n",
       "  'pubDate': 'Wed, 12 Jan 2022 01:59:56 GMT',\n",
       "  'source': 'CNBC',\n",
       "  'link': 'https://www.cnbc.com/select/chase-freedom-unlimited-and-freedom-flex-5-percent-grocery-store/'},\n",
       " {'title': 'Goldman predicts the euro area will outgrow the U.S. economy over the next two years',\n",
       "  'pubDate': 'Tue, 11 Jan 2022 12:32:01 GMT',\n",
       "  'source': 'CNBC',\n",
       "  'link': 'https://www.cnbc.com/2022/01/11/goldman-sachs-euro-area-will-outgrow-the-us-economy-in-2022-2023.html'},\n",
       " {'title': 'Apple Stock: This Will Prove To Be A Buying Opportunity',\n",
       "  'pubDate': 'Tue, 11 Jan 2022 11:10:19 GMT',\n",
       "  'source': 'TheStreet',\n",
       "  'link': 'https://www.thestreet.com/apple/stock/apple-stock-this-will-prove-to-be-a-buying-opportunity'},\n",
       " {'title': 'March Rate Hike May be Needed, Atlanta Fed Chief Says',\n",
       "  'pubDate': 'Tue, 11 Jan 2022 15:33:29 GMT',\n",
       "  'source': 'TheStreet',\n",
       "  'link': 'https://www.thestreet.com/investing/atlanta-fed-head-march-rate-hike-needed'},\n",
       " {'title': 'Prepare for Fed Rate Hikes: Powell Sets Stage in Senate Remarks',\n",
       "  'pubDate': 'Tue, 11 Jan 2022 15:09:26 GMT',\n",
       "  'source': 'TheStreet',\n",
       "  'link': 'https://www.thestreet.com/investing/fed-rate-hikes-powell-remarks'},\n",
       " {'title': 'Samsung Metaverse: NFTs, AR/VR, Privacy and Security Red Flags',\n",
       "  'pubDate': 'Tue, 11 Jan 2022 21:03:00 GMT',\n",
       "  'source': 'TheStreet',\n",
       "  'link': 'https://www.thestreet.com/technology/samsung-metaverse-nfts-ar-vr-and-questions-on-privacy-and-security'},\n",
       " {'title': \"Cramer's Mad Money Recap 1/11: Amazon, Apple, Nvidia\",\n",
       "  'pubDate': 'Wed, 12 Jan 2022 01:30:04 GMT',\n",
       "  'source': 'TheStreet',\n",
       "  'link': 'https://www.thestreet.com/jim-cramer/cramers-mad-money-recap-jan-11-2022'},\n",
       " {'title': 'Mortgage rates spike: Buyers may want to act ahead of further increases | Jan. 11, 2022',\n",
       "  'pubDate': 'Tue, 11 Jan 2022 14:27:35 GMT',\n",
       "  'source': 'Fox Business',\n",
       "  'link': 'https://www.foxbusiness.com/personal-finance/todays-mortgage-rates-january-11-2022'},\n",
       " {'title': 'Vaccine mandate firings cascade as employers face toughest labor market in years',\n",
       "  'pubDate': 'Tue, 11 Jan 2022 14:56:54 GMT',\n",
       "  'source': 'Fox Business',\n",
       "  'link': 'https://www.foxbusiness.com/politics/vaccine-mandates-businesses-states-cities-layoffs-economy-job-openings-unemployment'},\n",
       " {'title': 'Rolls-Royce and Bentley sales skyrocketed in 2021',\n",
       "  'pubDate': 'Tue, 11 Jan 2022 15:12:45 GMT',\n",
       "  'source': 'Fox Business',\n",
       "  'link': 'https://www.foxbusiness.com/lifestyle/rolls-royce-bentley-sales-skyrocketed-2021'},\n",
       " {'title': 'Baby formula recalled over health risks',\n",
       "  'pubDate': 'Tue, 11 Jan 2022 15:08:23 GMT',\n",
       "  'source': 'Fox Business',\n",
       "  'link': 'https://www.foxbusiness.com/lifestyle/infant-formula-recalled-over-health-risks'},\n",
       " {'title': 'Girl Scout Cookie season: How much will a box of cookies cost you?',\n",
       "  'pubDate': 'Tue, 11 Jan 2022 23:22:39 GMT',\n",
       "  'source': 'Fox Business',\n",
       "  'link': 'https://www.foxbusiness.com/lifestyle/girl-scout-cookie-season-how-much-box-cost'}]"
      ]
     },
     "execution_count": 9,
     "metadata": {},
     "output_type": "execute_result"
    }
   ],
   "source": [
    "articles"
   ]
  },
  {
   "cell_type": "code",
   "execution_count": 15,
   "metadata": {},
   "outputs": [],
   "source": [
    "import firebase_admin\n",
    "from firebase_admin import credentials\n",
    "from firebase_admin import firestore\n",
    "\n",
    "cred = credentials.Certificate(\"./serviceAccountKey.json\")\n",
    "firebase_admin.initialize_app(cred)\n",
    "db = firestore.client()"
   ]
  },
  {
   "cell_type": "code",
   "execution_count": 10,
   "metadata": {},
   "outputs": [],
   "source": [
    "from selenium import webdriver\n",
    "from selenium.webdriver.chrome.options import Options\n",
    "from bs4 import BeautifulSoup\n",
    "import time\n",
    "import urllib.parse\n",
    "import os"
   ]
  },
  {
   "cell_type": "code",
   "execution_count": 11,
   "metadata": {},
   "outputs": [],
   "source": [
    "sleep_time = 1\n",
    "try_max_count = 30"
   ]
  },
  {
   "cell_type": "code",
   "execution_count": 12,
   "metadata": {},
   "outputs": [],
   "source": [
    "headers = {\n",
    "    'User-Agent': 'Mozilla/5.0 (Windows NT 6.1; Win64; x64) AppleWebKit/537.36 (KHTML, like Gecko) Chrome/84.0.4147.105 Safari/537.36'\n",
    "}"
   ]
  },
  {
   "cell_type": "code",
   "execution_count": 13,
   "metadata": {},
   "outputs": [],
   "source": [
    "def get_translated_text(from_lang, to_lang, from_text):\n",
    "     \n",
    "    # urlencode\n",
    "    from_text = urllib.parse.quote(from_text)\n",
    "     \n",
    "    #　url作成\n",
    "    url = 'https://www.deepl.com/translator#' + from_lang +'/' + to_lang + '/' + from_text\n",
    "     \n",
    "    #　ヘッドレスモードでブラウザを起動\n",
    "    options = Options()\n",
    "    # options.add_argument('--headless')\n",
    "     \n",
    "    # ブラウザーを起動\n",
    "    driver = webdriver.Chrome('./chromedriver', options=options)\n",
    "    driver.get(url)\n",
    "    driver.implicitly_wait(10)  # 見つからないときは、10秒まで待つ\n",
    " \n",
    " \n",
    "    for i in range(try_max_count):\n",
    "        time.sleep(100)\n",
    "        # 指定時間待つ\n",
    "        time.sleep(sleep_time)  \n",
    "        html = driver.page_source\n",
    "        to_text = get_text_from_page_source(html)\n",
    "         \n",
    "        try_count = i + 1\n",
    "     \n",
    "        if to_text:\n",
    "            wait_time =  sleep_time * try_count\n",
    "            print(str(wait_time) + \"秒\")\n",
    "             \n",
    "            # アクセス修了\n",
    "            break\n",
    "             \n",
    "    # ブラウザ停止\n",
    "    driver.quit()\n",
    "     \n",
    "    return to_text\n"
   ]
  },
  {
   "cell_type": "code",
   "execution_count": 14,
   "metadata": {},
   "outputs": [],
   "source": [
    "def get_text_from_page_source(html):\n",
    "    soup = BeautifulSoup(html, features='lxml')\n",
    "    target_elem = soup.find(class_=\"lmt__translations_as_text__text_btn\")\n",
    "    text = target_elem.text\n",
    "     \n",
    "    return text"
   ]
  },
  {
   "cell_type": "code",
   "execution_count": 15,
   "metadata": {},
   "outputs": [
    {
     "name": "stdout",
     "output_type": "stream",
     "text": [
      "Credit Suisse chairman to be rebuked by board over COVID-19 rule breach - paper\n",
      "Tim Cook earned over 1400 times the average Apple worker in 2021\n",
      "No jab, no job: Citigroup to fire unvaccinated staff this month - memo\n",
      "Brazil's Petrobras to sell Braskem stake by February\n",
      "Belarus leader Lukashenko spoke to Kazakhstan's Nazarbayev - report\n",
      "Clock Ticks for U.K. to Ease $24 Billion Jump in Energy Bills\n",
      "Omicron Study in South Africa Points to End of Acute Pandemic Phase\n",
      "The Weekly Fix: From 'Live' To 'Lock'; Real Yields Rattle Stocks\n",
      "India on Track to Post World-Beating Growth as Spending Revives\n",
      "Google Glitch Leaves Staffers Without Bank Deposit on Payday\n",
      "What Jim Cramer is watching Friday — Is selling over yet?\n",
      "Kazakhstan detains former national security chief on suspicion of treason\n",
      "You can now legally bet on sports from your phone in New York, just in time for the NFL regular-season finale\n",
      "Cloud stocks are off to a brutal start to 2022 as investors sour on pandemic's top performers\n",
      "Stock market's 'first five days' indicator points to more trouble ahead for 2022\n",
      "Disney Stock: DIS Is A Top Large-Cap Growth Pick In 2022\n",
      "Papa John's Plans Major China Push With PE Firm FountainVest\n",
      "Nasdaq's Drop Sparks Memories of 1999-2000 Dot.com Era\n",
      "Guilfoyle: A Strategy for Trading Cisco\n",
      "Tech Stocks Roundup: Apple Stock Hits Record $3 Trillion Valuation\n",
      "Veterans rights leader hauled in nearly $1M last quarter in GOP challenge to Sen. Patty Murray\n",
      "Californians fleeing for Texas so fast U-Haul runs out of trucks for them: report\n",
      "December jobs report expected to show hiring accelerated before omicron surge\n",
      "Ground beef recalled in several states due to possible E. coli contamination\n",
      "Purdue Pharma can appeal rejection of bankruptcy plan\n",
      "\n"
     ]
    }
   ],
   "source": [
    "titles = \"\"\n",
    "for article in articles:\n",
    "    article = article[\"title\"].replace(\"/\",\"\")\n",
    "    titles += (article+\"\\n\")\n",
    "print(titles)"
   ]
  },
  {
   "cell_type": "code",
   "execution_count": 16,
   "metadata": {},
   "outputs": [
    {
     "name": "stdout",
     "output_type": "stream",
     "text": [
      "1秒\n"
     ]
    }
   ],
   "source": [
    "if __name__ == '__main__':\n",
    "     \n",
    "    from_lang = 'en'\n",
    "    to_lang = 'ja'\n",
    "    #from_text = '提供された翻訳の正確性やサービスの利用可能性について、一切の責任を負いません。'\n",
    "    from_text = titles\n",
    " \n",
    "    # 翻訳\n",
    "    to_text = get_translated_text(from_lang, to_lang, from_text)"
   ]
  },
  {
   "cell_type": "code",
   "execution_count": 17,
   "metadata": {},
   "outputs": [
    {
     "name": "stdout",
     "output_type": "stream",
     "text": [
      "['クレディ・スイス会長、COVID-19ルール違反で取締役会から叱責される - ペーパー', 'ティム・クックは2021年にアップル社員平均の1400倍以上の収入を得た', 'ジャブなし、仕事なし。シティグループ、ワクチン未接種の社員を今月中に解雇へ - メモ', 'ブラジルのペトロブラス、2月までにブラスケム株を売却へ', 'ベラルーシのルカシェンコ指導者がカザフスタンのナザルバエフと会談-報告書', '英国、240億ドルのエネルギー料金の高騰を緩和するための時計', '南アフリカで行われたオミクロンの研究により、急性期のパンデミックフェーズの終了が示唆される', 'ウィークリーフィックス ライブ」から「ロック」へ、実質利回りが株価を揺るがす', 'インド、消費回復で世界一の成長軌道へ', 'Googleの不具合で給料日に銀行振り込みができない職員が発生', 'ジム・クレイマーが注目する金曜日 - 売りはまだ終わっていないのか？', 'カザフスタン、国家反逆罪の疑いで前国家安全保障局長を拘束', 'ニューヨークで携帯電話からスポーツ賭博が合法的に可能に、NFLのレギュラーシーズン最終戦に間に合った', '2022年のクラウド株は残酷なスタートとなった パンデミック上位陣への投資家の不評が原因', '株式市場の「最初の5日間」の指標は、2022年に向けてさらなるトラブルが起こることを指し示している', 'ディズニー株 DISは2022年の大型株成長のトップピックである', 'パパ・ジョンズ、PE企業ファウンテンベストと共同で中国での大攻勢を計画', 'ナスダックの下落は、1999-2000年のドットコム時代の記憶を呼び起こす', 'ギルフォイユ シスコの取引戦略', 'ハイテク株ラウンドアップ。アップル株、過去最高の評価額3兆円を記録', '退役軍人の権利に関するリーダーは、パティ・マレー上院議員に対する共和党の挑戦で、前四半期に約100万ドルを稼いだ。', 'カリフォルニア州民がテキサスへ脱出するスピードが速く、U-Haulは彼らのためにトラックを使い果たす：レポート', '12月の雇用統計は、オミクロン急増の前に雇用が加速する見込み', '大腸菌汚染の可能性があるため、複数の州で牛挽肉をリコール', 'パデュー・ファーマは破産計画の却下を訴えることができる']\n"
     ]
    }
   ],
   "source": [
    "japanese_title = list(to_text.split(\"\\n\"))\n",
    "print(japanese_title)"
   ]
  },
  {
   "cell_type": "code",
   "execution_count": 18,
   "metadata": {},
   "outputs": [
    {
     "data": {
      "text/plain": [
       "25"
      ]
     },
     "execution_count": 18,
     "metadata": {},
     "output_type": "execute_result"
    }
   ],
   "source": [
    "len(japanese_title)"
   ]
  },
  {
   "cell_type": "code",
   "execution_count": 19,
   "metadata": {},
   "outputs": [],
   "source": [
    "for i in range(len(articles)):\n",
    "    articles[i][\"japanese_title\"] = japanese_title[i]"
   ]
  },
  {
   "cell_type": "code",
   "execution_count": 20,
   "metadata": {},
   "outputs": [
    {
     "data": {
      "text/plain": [
       "{'title': 'Credit Suisse chairman to be rebuked by board over COVID-19 rule breach - paper',\n",
       " 'pubDate': 'Sat, 08 Jan 2022 09:30:00 GMT',\n",
       " 'source': 'Reuters',\n",
       " 'link': 'https://www.reuters.com/markets/europe/credit-suisse-chairman-be-rebuked-by-board-over-covid-19-rule-breach-paper-2022-01-08/',\n",
       " 'japanese_title': 'クレディ・スイス会長、COVID-19ルール違反で取締役会から叱責される - ペーパー'}"
      ]
     },
     "execution_count": 20,
     "metadata": {},
     "output_type": "execute_result"
    }
   ],
   "source": [
    "articles[0]"
   ]
  },
  {
   "cell_type": "code",
   "execution_count": 23,
   "metadata": {},
   "outputs": [
    {
     "name": "stdout",
     "output_type": "stream",
     "text": [
      "{'title': 'Clock Ticks for U.K. to Ease $24 Billion Jump in Energy Bills', 'pubDate': 'Sat, 08 Jan 2022 07:00:00 GMT', 'source': 'Bloomberg', 'link': 'https://www.bloomberg.com/news/articles/2022-01-08/clock-ticks-for-u-k-to-ease-24-billion-jump-in-energy-bills', 'japanese_title': '英国、240億ドルのエネルギー料金の高騰を緩和するための時計', 'image': ''}\n",
      "{'title': 'Omicron Study in South Africa Points to End of Acute Pandemic Phase', 'pubDate': 'Fri, 07 Jan 2022 15:28:20 GMT', 'source': 'Bloomberg', 'link': 'https://www.bloomberg.com/news/articles/2022-01-07/omicron-may-mark-end-of-pandemic-south-african-researchers-say', 'japanese_title': '南アフリカで行われたオミクロンの研究により、急性期のパンデミックフェーズの終了が示唆される', 'image': ''}\n",
      "{'title': \"The Weekly Fix: From 'Live' To 'Lock'; Real Yields Rattle Stocks\", 'pubDate': 'Fri, 07 Jan 2022 10:00:06 GMT', 'source': 'Bloomberg', 'link': 'https://www.bloomberg.com/news/newsletters/2022-01-07/the-weekly-fix-from-live-to-lock-real-yields-rattle-stocks', 'japanese_title': 'ウィークリーフィックス ライブ」から「ロック」へ、実質利回りが株価を揺るがす', 'image': ''}\n",
      "{'title': 'India on Track to Post World-Beating Growth as Spending Revives', 'pubDate': 'Fri, 07 Jan 2022 12:06:32 GMT', 'source': 'Bloomberg', 'link': 'https://www.bloomberg.com/news/articles/2022-01-07/india-on-track-to-post-world-beating-growth-amid-virus-risks', 'japanese_title': 'インド、消費回復で世界一の成長軌道へ', 'image': ''}\n",
      "{'title': 'Google Glitch Leaves Staffers Without Bank Deposit on Payday', 'pubDate': 'Fri, 07 Jan 2022 21:47:11 GMT', 'source': 'Bloomberg', 'link': 'https://www.bloomberg.com/news/articles/2022-01-07/google-glitch-leaves-some-staff-without-bank-deposit-on-payday', 'japanese_title': 'Googleの不具合で給料日に銀行振り込みができない職員が発生', 'image': ''}\n"
     ]
    }
   ],
   "source": [
    "for article in articles:\n",
    "    url = article[\"link\"]\n",
    "    a = Article(url)\n",
    "    a.download()\n",
    "    a.parse()\n",
    "    top_image = a.top_image\n",
    "    if top_image == \"\":\n",
    "        print(article)\n",
    "    else:\n",
    "        article[\"image\"] = top_image"
   ]
  },
  {
   "cell_type": "code",
   "execution_count": 27,
   "metadata": {},
   "outputs": [],
   "source": [
    "for article in articles:\n",
    "    title = article[\"title\"]\n",
    "    hash_val = hashlib.sha224(title.encode()).hexdigest()\n",
    "    with open(\"./articles/importants/articles.txt\", \"r\") as f:\n",
    "        x = f.read()\n",
    "    hash_li = list(x.split(\"\\n\"))[:-1]\n",
    "    if hash_val not in hash_li:\n",
    "        with open(\"./articles/importants/articles.txt\", \"a\", newline=\"\") as f:\n",
    "            f.write(hash_val+\"\\n\")\n",
    "        doc_ref = db.collection(\"articles\").document()\n",
    "        doc_ref.set({\n",
    "            u\"title\": article[\"title\"],\n",
    "            u\"pubDate\": article[\"pubDate\"],\n",
    "            u\"link\": article[\"link\"],\n",
    "            u\"source\": article[\"source\"],\n",
    "            u\"title_ja\": article[\"japanese_title\"],  \n",
    "        })"
   ]
  },
  {
   "cell_type": "code",
   "execution_count": null,
   "metadata": {},
   "outputs": [],
   "source": []
  },
  {
   "cell_type": "code",
   "execution_count": null,
   "metadata": {},
   "outputs": [],
   "source": []
  }
 ],
 "metadata": {
  "interpreter": {
   "hash": "b0fa6594d8f4cbf19f97940f81e996739fb7646882a419484c72d19e05852a7e"
  },
  "kernelspec": {
   "display_name": "Python 3.9.7 64-bit",
   "language": "python",
   "name": "python3"
  },
  "language_info": {
   "codemirror_mode": {
    "name": "ipython",
    "version": 3
   },
   "file_extension": ".py",
   "mimetype": "text/x-python",
   "name": "python",
   "nbconvert_exporter": "python",
   "pygments_lexer": "ipython3",
   "version": "3.8.10"
  },
  "orig_nbformat": 4
 },
 "nbformat": 4,
 "nbformat_minor": 2
}
