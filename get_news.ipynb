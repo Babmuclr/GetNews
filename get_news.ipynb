{
 "cells": [
  {
   "cell_type": "code",
   "execution_count": 17,
   "metadata": {},
   "outputs": [],
   "source": [
    "import time"
   ]
  },
  {
   "cell_type": "code",
   "execution_count": 1,
   "metadata": {},
   "outputs": [],
   "source": [
    "import urllib\n",
    "from urllib import request  # urllib.requestモジュールをインポート\n",
    "from bs4 import BeautifulSoup  # BeautifulSoupクラスをインポート\n",
    "import lxml\n",
    "from newspaper import Article"
   ]
  },
  {
   "cell_type": "code",
   "execution_count": 2,
   "metadata": {},
   "outputs": [
    {
     "name": "stdout",
     "output_type": "stream",
     "text": [
      "2022-2-25\n"
     ]
    }
   ],
   "source": [
    "import datetime as dt \n",
    "now = dt.datetime.utcnow()\n",
    "now -= dt.timedelta(days=1)\n",
    "year, month, day = now.year, now.month, now.day\n",
    "limit_date = str(year) + \"-\" + str(month) + \"-\" + str(day)\n",
    "date = str(year) + \"-\" + str(month)\n",
    "print(limit_date) "
   ]
  },
  {
   "cell_type": "code",
   "execution_count": 3,
   "metadata": {},
   "outputs": [],
   "source": [
    "website_names = [\" - Reuters\", \" - Bloomberg\", \" - CNBC\", \" - TheStreet\", \" - Fox Business\"]\n",
    "website_names_2 = [\"Reuters\", \"Bloomberg\", \"CNBC\", \"TheStreet\", \"Fox Business\"]"
   ]
  },
  {
   "cell_type": "code",
   "execution_count": 5,
   "metadata": {},
   "outputs": [],
   "source": [
    "url = \"https://news.google.com/rss?hl=en-US&gl=US&ceid=US:en\"\n",
    "response = request.urlopen(url)\n",
    "soup = BeautifulSoup(response,\"xml\")\n",
    "response.close()\n",
    "articles = soup.find_all(\"item\")"
   ]
  },
  {
   "cell_type": "code",
   "execution_count": 4,
   "metadata": {},
   "outputs": [],
   "source": [
    "def get_items(stock=\"Apple\", date=\"2021-11-24\", homepage=\"reuters.com\"):\n",
    "    stock = urllib.parse.quote(stock)\n",
    "    url = \"https://news.google.com/rss/search?q=\" + stock +  \"+after:\" + date + \"+inurl:\" + homepage + \"&hl=en-US&gl=US&ceid=US:en\"\n",
    "    response = request.urlopen(url)\n",
    "    soup = BeautifulSoup(response,\"xml\")\n",
    "    response.close()\n",
    "    elems = soup.find_all(\"item\")\n",
    "    return elems"
   ]
  },
  {
   "cell_type": "code",
   "execution_count": 5,
   "metadata": {},
   "outputs": [],
   "source": [
    "with open(\"./news_site.txt\") as f:\n",
    "    news_sites = f.readlines()\n",
    "news_sites = list(map(lambda x: x[:-1],news_sites))"
   ]
  },
  {
   "cell_type": "code",
   "execution_count": 6,
   "metadata": {},
   "outputs": [],
   "source": [
    "with open(\"./stocks.txt\") as f:\n",
    "    stocks = f.readlines()\n",
    "stocks = list(map(lambda x: x[:-1],stocks))"
   ]
  },
  {
   "cell_type": "code",
   "execution_count": 7,
   "metadata": {},
   "outputs": [],
   "source": [
    "import hashlib"
   ]
  },
  {
   "cell_type": "code",
   "execution_count": 11,
   "metadata": {},
   "outputs": [
    {
     "data": {
      "text/plain": [
       "[<item><title>Tiger Woods on his golfing future - CNN</title><link>https://us.cnn.com/videos/tv/2021/12/01/exp-tsr-todd-tiger-woods-on-his-golfing-future.cnn/video/playlists/situation-room-highlights/</link><guid isPermaLink=\"false\">CBMihQFodHRwczovL3VzLmNubi5jb20vdmlkZW9zL3R2LzIwMjEvMTIvMDEvZXhwLXRzci10b2RkLXRpZ2VyLXdvb2RzLW9uLWhpcy1nb2xmaW5nLWZ1dHVyZS5jbm4vdmlkZW8vcGxheWxpc3RzL3NpdHVhdGlvbi1yb29tLWhpZ2hsaWdodHMv0gFfaHR0cHM6Ly9hbXAuY25uLmNvbS9jbm4vdmlkZW9zL3R2LzIwMjEvMTIvMDEvZXhwLXRzci10b2RkLXRpZ2VyLXdvb2RzLW9uLWhpcy1nb2xmaW5nLWZ1dHVyZS5jbm4</guid><pubDate>Wed, 01 Dec 2021 08:00:00 GMT</pubDate><description>&lt;a href=\"https://us.cnn.com/videos/tv/2021/12/01/exp-tsr-todd-tiger-woods-on-his-golfing-future.cnn/video/playlists/situation-room-highlights/\" target=\"_blank\"&gt;Tiger Woods on his golfing future&lt;/a&gt;&amp;nbsp;&amp;nbsp;&lt;font color=\"#6f6f6f\"&gt;CNN&lt;/font&gt;</description><source url=\"https://us.cnn.com\">CNN</source></item>,\n",
       " <item><title>Some of the best kitchen products we’ve tested are on sale for Cyber Monday - CNN</title><link>https://www.cnn.com/2021/11/29/cnn-underscored/best-kitchen-deals-cyber-monday/index.html</link><guid isPermaLink=\"false\">CBMiWWh0dHBzOi8vd3d3LmNubi5jb20vMjAyMS8xMS8yOS9jbm4tdW5kZXJzY29yZWQvYmVzdC1raXRjaGVuLWRlYWxzLWN5YmVyLW1vbmRheS9pbmRleC5odG1s0gFdaHR0cHM6Ly9hbXAuY25uLmNvbS9jbm4vMjAyMS8xMS8yOS9jbm4tdW5kZXJzY29yZWQvYmVzdC1raXRjaGVuLWRlYWxzLWN5YmVyLW1vbmRheS9pbmRleC5odG1s</guid><pubDate>Mon, 29 Nov 2021 08:00:00 GMT</pubDate><description>&lt;a href=\"https://www.cnn.com/2021/11/29/cnn-underscored/best-kitchen-deals-cyber-monday/index.html\" target=\"_blank\"&gt;Some of the best kitchen products we’ve tested are on sale for Cyber Monday&lt;/a&gt;&amp;nbsp;&amp;nbsp;&lt;font color=\"#6f6f6f\"&gt;CNN&lt;/font&gt;</description><source url=\"https://www.cnn.com\">CNN</source></item>,\n",
       " <item><title>'I just cry': Nurse describes working in Covid-19 unit - CNN</title><link>https://us.cnn.com/videos/health/2021/12/10/michigan-covid-19-hospitalizations-vaccines-marquez-ac360-vpx.cnn/video/playlists/top-news-videos/</link><guid isPermaLink=\"false\">CBMijgFodHRwczovL3VzLmNubi5jb20vdmlkZW9zL2hlYWx0aC8yMDIxLzEyLzEwL21pY2hpZ2FuLWNvdmlkLTE5LWhvc3BpdGFsaXphdGlvbnMtdmFjY2luZXMtbWFycXVlei1hYzM2MC12cHguY25uL3ZpZGVvL3BsYXlsaXN0cy90b3AtbmV3cy12aWRlb3Mv0gFyaHR0cHM6Ly9hbXAuY25uLmNvbS9jbm4vdmlkZW9zL2hlYWx0aC8yMDIxLzEyLzEwL21pY2hpZ2FuLWNvdmlkLTE5LWhvc3BpdGFsaXphdGlvbnMtdmFjY2luZXMtbWFycXVlei1hYzM2MC12cHguY25u</guid><pubDate>Fri, 10 Dec 2021 08:00:00 GMT</pubDate><description>&lt;a href=\"https://us.cnn.com/videos/health/2021/12/10/michigan-covid-19-hospitalizations-vaccines-marquez-ac360-vpx.cnn/video/playlists/top-news-videos/\" target=\"_blank\"&gt;'I just cry': Nurse describes working in Covid-19 unit&lt;/a&gt;&amp;nbsp;&amp;nbsp;&lt;font color=\"#6f6f6f\"&gt;CNN&lt;/font&gt;</description><source url=\"https://us.cnn.com\">CNN</source></item>,\n",
       " <item><title>26 Cyber Monday deals our team of shopping experts couldn’t pass up - CNN</title><link>https://www.cnn.com/2021/11/29/cnn-underscored/cyber-monday-editors-buy-2021/index.html</link><guid isPermaLink=\"false\">CBMiV2h0dHBzOi8vd3d3LmNubi5jb20vMjAyMS8xMS8yOS9jbm4tdW5kZXJzY29yZWQvY3liZXItbW9uZGF5LWVkaXRvcnMtYnV5LTIwMjEvaW5kZXguaHRtbNIBW2h0dHBzOi8vYW1wLmNubi5jb20vY25uLzIwMjEvMTEvMjkvY25uLXVuZGVyc2NvcmVkL2N5YmVyLW1vbmRheS1lZGl0b3JzLWJ1eS0yMDIxL2luZGV4Lmh0bWw</guid><pubDate>Mon, 29 Nov 2021 08:00:00 GMT</pubDate><description>&lt;a href=\"https://www.cnn.com/2021/11/29/cnn-underscored/cyber-monday-editors-buy-2021/index.html\" target=\"_blank\"&gt;26 Cyber Monday deals our team of shopping experts couldn’t pass up&lt;/a&gt;&amp;nbsp;&amp;nbsp;&lt;font color=\"#6f6f6f\"&gt;CNN&lt;/font&gt;</description><source url=\"https://www.cnn.com\">CNN</source></item>,\n",
       " <item><title>The best gift ideas to shop this Black Friday - CNN</title><link>https://www.cnn.com/2021/11/26/cnn-underscored/black-friday-gift-ideas-2021/index.html</link><guid isPermaLink=\"false\">CBMiVmh0dHBzOi8vd3d3LmNubi5jb20vMjAyMS8xMS8yNi9jbm4tdW5kZXJzY29yZWQvYmxhY2stZnJpZGF5LWdpZnQtaWRlYXMtMjAyMS9pbmRleC5odG1s0gFaaHR0cHM6Ly9hbXAuY25uLmNvbS9jbm4vMjAyMS8xMS8yNi9jbm4tdW5kZXJzY29yZWQvYmxhY2stZnJpZGF5LWdpZnQtaWRlYXMtMjAyMS9pbmRleC5odG1s</guid><pubDate>Fri, 26 Nov 2021 08:00:00 GMT</pubDate><description>&lt;a href=\"https://www.cnn.com/2021/11/26/cnn-underscored/black-friday-gift-ideas-2021/index.html\" target=\"_blank\"&gt;The best gift ideas to shop this Black Friday&lt;/a&gt;&amp;nbsp;&amp;nbsp;&lt;font color=\"#6f6f6f\"&gt;CNN&lt;/font&gt;</description><source url=\"https://www.cnn.com\">CNN</source></item>]"
      ]
     },
     "execution_count": 11,
     "metadata": {},
     "output_type": "execute_result"
    }
   ],
   "source": [
    "get_items(stock=\"\",homepage=\"us.cnn.com\")"
   ]
  },
  {
   "cell_type": "code",
   "execution_count": 8,
   "metadata": {},
   "outputs": [],
   "source": [
    "articles = []\n",
    "for news_site, website_name, website_name_2 in zip(news_sites, website_names, website_names_2 ):\n",
    "    items = get_items(stock=\"\", date=limit_date, homepage=news_site)\n",
    "    for item in items[:5]:\n",
    "        title = item.find(\"title\").getText()\n",
    "        title = str(title.replace(website_name,\"\"))\n",
    "        link = item.find(\"link\").getText()\n",
    "        pubdate = item.find(\"pubDate\").getText()\n",
    "        source = website_name_2\n",
    "        # data = [title,link,pubdate,source]\n",
    "        articles.append(\n",
    "            {\n",
    "                \"title\": title,\n",
    "                \"pubDate\": pubdate,\n",
    "                \"source\": source,\n",
    "                \"link\": link,\n",
    "            }\n",
    "        )"
   ]
  },
  {
   "cell_type": "code",
   "execution_count": 9,
   "metadata": {},
   "outputs": [
    {
     "data": {
      "text/plain": [
       "[{'title': 'U.S. labor board sets dates for union vote at Amazon warehouse in Alabama',\n",
       "  'pubDate': 'Tue, 11 Jan 2022 22:18:00 GMT',\n",
       "  'source': 'Reuters',\n",
       "  'link': 'https://www.reuters.com/business/us-labor-regulator-sets-dates-union-vote-amazon-warehouse-alabama-2022-01-11/'},\n",
       " {'title': 'Taliban increase payment in wheat as economic crisis deepens',\n",
       "  'pubDate': 'Tue, 11 Jan 2022 18:22:00 GMT',\n",
       "  'source': 'Reuters',\n",
       "  'link': 'https://www.reuters.com/world/asia-pacific/taliban-increase-payment-wheat-economic-crisis-deepens-2022-01-11/'},\n",
       " {'title': 'Djokovic travelled across Europe before Australia trip, at odds with declaration',\n",
       "  'pubDate': 'Wed, 12 Jan 2022 03:25:00 GMT',\n",
       "  'source': 'Reuters',\n",
       "  'link': 'https://www.reuters.com/lifestyle/sports/djokovic-travelled-across-europe-before-australia-trip-odds-with-declaration-2022-01-11/'},\n",
       " {'title': \"Russia braces for 'very intense' rise in Omicron cases\",\n",
       "  'pubDate': 'Tue, 11 Jan 2022 15:50:00 GMT',\n",
       "  'source': 'Reuters',\n",
       "  'link': 'https://www.reuters.com/world/europe/russia-braces-very-intense-rise-omicron-cases-2022-01-11/'},\n",
       " {'title': 'United CEO: 4% of U.S. workforce test positive for COVID; no deaths among the vaccinated',\n",
       "  'pubDate': 'Tue, 11 Jan 2022 22:12:00 GMT',\n",
       "  'source': 'Reuters',\n",
       "  'link': 'https://www.reuters.com/business/aerospace-defense/united-airlines-ceo-says-about-3000-employees-test-positive-covid-19-2022-01-11/'},\n",
       " {'title': 'Kim Kardashian, Floyd Mayweather Sued by Investors in EthereumMax Tokens',\n",
       "  'pubDate': 'Tue, 11 Jan 2022 18:47:31 GMT',\n",
       "  'source': 'Bloomberg',\n",
       "  'link': 'https://www.bloomberg.com/news/articles/2022-01-11/kardashian-mayweather-sued-by-investors-in-ethereummax-tokens'},\n",
       " {'title': 'Hackers Can Cut the Lights With Rogue Code, Researchers Show',\n",
       "  'pubDate': 'Tue, 11 Jan 2022 17:44:38 GMT',\n",
       "  'source': 'Bloomberg',\n",
       "  'link': 'https://www.bloomberg.com/news/articles/2022-01-11/researchers-show-how-hackers-can-cut-the-lights-with-rogue-code'},\n",
       " {'title': \"Brazil's Extreme Weather Is Flooding Mines, Drying Up Crops\",\n",
       "  'pubDate': 'Tue, 11 Jan 2022 17:58:41 GMT',\n",
       "  'source': 'Bloomberg',\n",
       "  'link': 'https://www.bloomberg.com/news/articles/2022-01-11/brazil-s-extreme-weather-is-flooding-mines-drying-up-crops'},\n",
       " {'title': 'Stock Market Today: Dow, S&P Live Updates for Jan. 12, 2022',\n",
       "  'pubDate': 'Tue, 11 Jan 2022 22:00:04 GMT',\n",
       "  'source': 'Bloomberg',\n",
       "  'link': 'https://www.bloomberg.com/news/articles/2022-01-11/asia-stocks-to-rebound-after-powell-dollar-drops-markets-wrap'},\n",
       " {'title': 'Powell Says Private Coins Could Compete With Fed Digital Dollar',\n",
       "  'pubDate': 'Tue, 11 Jan 2022 18:45:03 GMT',\n",
       "  'source': 'Bloomberg',\n",
       "  'link': 'https://www.bloomberg.com/news/articles/2022-01-11/powell-says-private-coins-could-compete-with-fed-digital-dollar'},\n",
       " {'title': \"Jim Cramer says 'too much good news to ignore' drove Tuesday's stock market rally\",\n",
       "  'pubDate': 'Tue, 11 Jan 2022 23:25:49 GMT',\n",
       "  'source': 'CNBC',\n",
       "  'link': 'https://www.cnbc.com/2022/01/11/cramer-too-much-good-news-to-ignore-drove-tuesdays-market-rally.html'},\n",
       " {'title': 'Tesla sold a record 70,847 China-made vehicles in December, China group says',\n",
       "  'pubDate': 'Tue, 11 Jan 2022 14:03:53 GMT',\n",
       "  'source': 'CNBC',\n",
       "  'link': 'https://www.cnbc.com/2022/01/11/tesla-sold-record-70847-china-made-cars-in-december-china-group-says.html'},\n",
       " {'title': \"What to watch today: Wall Street looks higher after Monday's major tech-stock rebound\",\n",
       "  'pubDate': 'Tue, 11 Jan 2022 13:16:41 GMT',\n",
       "  'source': 'CNBC',\n",
       "  'link': 'https://www.cnbc.com/2022/01/11/what-to-watch-today-wall-street-looks-higher-after-mondays-major-tech-stock-rebound.html'},\n",
       " {'title': 'Chase Freedom Unlimited and Freedom Flex 5% Grocery Store Benefit Ends Tomorrow',\n",
       "  'pubDate': 'Wed, 12 Jan 2022 01:59:56 GMT',\n",
       "  'source': 'CNBC',\n",
       "  'link': 'https://www.cnbc.com/select/chase-freedom-unlimited-and-freedom-flex-5-percent-grocery-store/'},\n",
       " {'title': 'Goldman predicts the euro area will outgrow the U.S. economy over the next two years',\n",
       "  'pubDate': 'Tue, 11 Jan 2022 12:32:01 GMT',\n",
       "  'source': 'CNBC',\n",
       "  'link': 'https://www.cnbc.com/2022/01/11/goldman-sachs-euro-area-will-outgrow-the-us-economy-in-2022-2023.html'},\n",
       " {'title': 'Apple Stock: This Will Prove To Be A Buying Opportunity',\n",
       "  'pubDate': 'Tue, 11 Jan 2022 11:10:19 GMT',\n",
       "  'source': 'TheStreet',\n",
       "  'link': 'https://www.thestreet.com/apple/stock/apple-stock-this-will-prove-to-be-a-buying-opportunity'},\n",
       " {'title': 'March Rate Hike May be Needed, Atlanta Fed Chief Says',\n",
       "  'pubDate': 'Tue, 11 Jan 2022 15:33:29 GMT',\n",
       "  'source': 'TheStreet',\n",
       "  'link': 'https://www.thestreet.com/investing/atlanta-fed-head-march-rate-hike-needed'},\n",
       " {'title': 'Prepare for Fed Rate Hikes: Powell Sets Stage in Senate Remarks',\n",
       "  'pubDate': 'Tue, 11 Jan 2022 15:09:26 GMT',\n",
       "  'source': 'TheStreet',\n",
       "  'link': 'https://www.thestreet.com/investing/fed-rate-hikes-powell-remarks'},\n",
       " {'title': 'Samsung Metaverse: NFTs, AR/VR, Privacy and Security Red Flags',\n",
       "  'pubDate': 'Tue, 11 Jan 2022 21:03:00 GMT',\n",
       "  'source': 'TheStreet',\n",
       "  'link': 'https://www.thestreet.com/technology/samsung-metaverse-nfts-ar-vr-and-questions-on-privacy-and-security'},\n",
       " {'title': \"Cramer's Mad Money Recap 1/11: Amazon, Apple, Nvidia\",\n",
       "  'pubDate': 'Wed, 12 Jan 2022 01:30:04 GMT',\n",
       "  'source': 'TheStreet',\n",
       "  'link': 'https://www.thestreet.com/jim-cramer/cramers-mad-money-recap-jan-11-2022'},\n",
       " {'title': 'Mortgage rates spike: Buyers may want to act ahead of further increases | Jan. 11, 2022',\n",
       "  'pubDate': 'Tue, 11 Jan 2022 14:27:35 GMT',\n",
       "  'source': 'Fox Business',\n",
       "  'link': 'https://www.foxbusiness.com/personal-finance/todays-mortgage-rates-january-11-2022'},\n",
       " {'title': 'Vaccine mandate firings cascade as employers face toughest labor market in years',\n",
       "  'pubDate': 'Tue, 11 Jan 2022 14:56:54 GMT',\n",
       "  'source': 'Fox Business',\n",
       "  'link': 'https://www.foxbusiness.com/politics/vaccine-mandates-businesses-states-cities-layoffs-economy-job-openings-unemployment'},\n",
       " {'title': 'Rolls-Royce and Bentley sales skyrocketed in 2021',\n",
       "  'pubDate': 'Tue, 11 Jan 2022 15:12:45 GMT',\n",
       "  'source': 'Fox Business',\n",
       "  'link': 'https://www.foxbusiness.com/lifestyle/rolls-royce-bentley-sales-skyrocketed-2021'},\n",
       " {'title': 'Baby formula recalled over health risks',\n",
       "  'pubDate': 'Tue, 11 Jan 2022 15:08:23 GMT',\n",
       "  'source': 'Fox Business',\n",
       "  'link': 'https://www.foxbusiness.com/lifestyle/infant-formula-recalled-over-health-risks'},\n",
       " {'title': 'Girl Scout Cookie season: How much will a box of cookies cost you?',\n",
       "  'pubDate': 'Tue, 11 Jan 2022 23:22:39 GMT',\n",
       "  'source': 'Fox Business',\n",
       "  'link': 'https://www.foxbusiness.com/lifestyle/girl-scout-cookie-season-how-much-box-cost'}]"
      ]
     },
     "execution_count": 9,
     "metadata": {},
     "output_type": "execute_result"
    }
   ],
   "source": [
    "articles"
   ]
  },
  {
   "cell_type": "code",
   "execution_count": 15,
   "metadata": {},
   "outputs": [],
   "source": [
    "import firebase_admin\n",
    "from firebase_admin import credentials\n",
    "from firebase_admin import firestore\n",
    "\n",
    "cred = credentials.Certificate(\"./serviceAccountKey.json\")\n",
    "firebase_admin.initialize_app(cred)\n",
    "db = firestore.client()"
   ]
  },
  {
   "cell_type": "code",
   "execution_count": 10,
   "metadata": {},
   "outputs": [],
   "source": [
    "from selenium import webdriver\n",
    "from selenium.webdriver.chrome.options import Options\n",
    "from bs4 import BeautifulSoup\n",
    "import time\n",
    "import urllib.parse\n",
    "import os"
   ]
  },
  {
   "cell_type": "code",
   "execution_count": 11,
   "metadata": {},
   "outputs": [],
   "source": [
    "sleep_time = 1\n",
    "try_max_count = 30"
   ]
  },
  {
   "cell_type": "code",
   "execution_count": 12,
   "metadata": {},
   "outputs": [],
   "source": [
    "headers = {\n",
    "    'User-Agent': 'Mozilla/5.0 (Windows NT 6.1; Win64; x64) AppleWebKit/537.36 (KHTML, like Gecko) Chrome/84.0.4147.105 Safari/537.36'\n",
    "}"
   ]
  },
  {
   "cell_type": "code",
   "execution_count": 13,
   "metadata": {},
   "outputs": [],
   "source": [
    "def get_translated_text(from_lang, to_lang, from_text):\n",
    "     \n",
    "    # urlencode\n",
    "    from_text = urllib.parse.quote(from_text)\n",
    "     \n",
    "    #　url作成\n",
    "    url = 'https://www.deepl.com/translator#' + from_lang +'/' + to_lang + '/' + from_text\n",
    "     \n",
    "    #　ヘッドレスモードでブラウザを起動\n",
    "    options = Options()\n",
    "    # options.add_argument('--headless')\n",
    "     \n",
    "    # ブラウザーを起動\n",
    "    driver = webdriver.Chrome('./chromedriver', options=options)\n",
    "    driver.get(url)\n",
    "    driver.implicitly_wait(10)  # 見つからないときは、10秒まで待つ\n",
    " \n",
    " \n",
    "    for i in range(try_max_count):\n",
    "        time.sleep(100)\n",
    "        # 指定時間待つ\n",
    "        time.sleep(sleep_time)  \n",
    "        html = driver.page_source\n",
    "        to_text = get_text_from_page_source(html)\n",
    "         \n",
    "        try_count = i + 1\n",
    "     \n",
    "        if to_text:\n",
    "            wait_time =  sleep_time * try_count\n",
    "            print(str(wait_time) + \"秒\")\n",
    "             \n",
    "            # アクセス修了\n",
    "            break\n",
    "             \n",
    "    # ブラウザ停止\n",
    "    driver.quit()\n",
    "     \n",
    "    return to_text\n"
   ]
  },
  {
   "cell_type": "code",
   "execution_count": 14,
   "metadata": {},
   "outputs": [],
   "source": [
    "def get_text_from_page_source(html):\n",
    "    soup = BeautifulSoup(html, features='lxml')\n",
    "    target_elem = soup.find(class_=\"lmt__translations_as_text__text_btn\")\n",
    "    text = target_elem.text\n",
    "     \n",
    "    return text"
   ]
  },
  {
   "cell_type": "code",
   "execution_count": 15,
   "metadata": {},
   "outputs": [
    {
     "name": "stdout",
     "output_type": "stream",
     "text": [
      "Credit Suisse chairman to be rebuked by board over COVID-19 rule breach - paper\n",
      "Tim Cook earned over 1400 times the average Apple worker in 2021\n",
      "No jab, no job: Citigroup to fire unvaccinated staff this month - memo\n",
      "Brazil's Petrobras to sell Braskem stake by February\n",
      "Belarus leader Lukashenko spoke to Kazakhstan's Nazarbayev - report\n",
      "Clock Ticks for U.K. to Ease $24 Billion Jump in Energy Bills\n",
      "Omicron Study in South Africa Points to End of Acute Pandemic Phase\n",
      "The Weekly Fix: From 'Live' To 'Lock'; Real Yields Rattle Stocks\n",
      "India on Track to Post World-Beating Growth as Spending Revives\n",
      "Google Glitch Leaves Staffers Without Bank Deposit on Payday\n",
      "What Jim Cramer is watching Friday — Is selling over yet?\n",
      "Kazakhstan detains former national security chief on suspicion of treason\n",
      "You can now legally bet on sports from your phone in New York, just in time for the NFL regular-season finale\n",
      "Cloud stocks are off to a brutal start to 2022 as investors sour on pandemic's top performers\n",
      "Stock market's 'first five days' indicator points to more trouble ahead for 2022\n",
      "Disney Stock: DIS Is A Top Large-Cap Growth Pick In 2022\n",
      "Papa John's Plans Major China Push With PE Firm FountainVest\n",
      "Nasdaq's Drop Sparks Memories of 1999-2000 Dot.com Era\n",
      "Guilfoyle: A Strategy for Trading Cisco\n",
      "Tech Stocks Roundup: Apple Stock Hits Record $3 Trillion Valuation\n",
      "Veterans rights leader hauled in nearly $1M last quarter in GOP challenge to Sen. Patty Murray\n",
      "Californians fleeing for Texas so fast U-Haul runs out of trucks for them: report\n",
      "December jobs report expected to show hiring accelerated before omicron surge\n",
      "Ground beef recalled in several states due to possible E. coli contamination\n",
      "Purdue Pharma can appeal rejection of bankruptcy plan\n",
      "\n"
     ]
    }
   ],
   "source": [
    "titles = \"\"\n",
    "for article in articles:\n",
    "    article = article[\"title\"].replace(\"/\",\"\")\n",
    "    titles += (article+\"\\n\")\n",
    "print(titles)"
   ]
  },
  {
   "cell_type": "code",
   "execution_count": 16,
   "metadata": {},
   "outputs": [
    {
     "name": "stdout",
     "output_type": "stream",
     "text": [
      "1秒\n"
     ]
    }
   ],
   "source": [
    "if __name__ == '__main__':\n",
    "     \n",
    "    from_lang = 'en'\n",
    "    to_lang = 'ja'\n",
    "    #from_text = '提供された翻訳の正確性やサービスの利用可能性について、一切の責任を負いません。'\n",
    "    from_text = titles\n",
    " \n",
    "    # 翻訳\n",
    "    to_text = get_translated_text(from_lang, to_lang, from_text)"
   ]
  },
  {
   "cell_type": "code",
   "execution_count": 17,
   "metadata": {},
   "outputs": [
    {
     "name": "stdout",
     "output_type": "stream",
     "text": [
      "['クレディ・スイス会長、COVID-19ルール違反で取締役会から叱責される - ペーパー', 'ティム・クックは2021年にアップル社員平均の1400倍以上の収入を得た', 'ジャブなし、仕事なし。シティグループ、ワクチン未接種の社員を今月中に解雇へ - メモ', 'ブラジルのペトロブラス、2月までにブラスケム株を売却へ', 'ベラルーシのルカシェンコ指導者がカザフスタンのナザルバエフと会談-報告書', '英国、240億ドルのエネルギー料金の高騰を緩和するための時計', '南アフリカで行われたオミクロンの研究により、急性期のパンデミックフェーズの終了が示唆される', 'ウィークリーフィックス ライブ」から「ロック」へ、実質利回りが株価を揺るがす', 'インド、消費回復で世界一の成長軌道へ', 'Googleの不具合で給料日に銀行振り込みができない職員が発生', 'ジム・クレイマーが注目する金曜日 - 売りはまだ終わっていないのか？', 'カザフスタン、国家反逆罪の疑いで前国家安全保障局長を拘束', 'ニューヨークで携帯電話からスポーツ賭博が合法的に可能に、NFLのレギュラーシーズン最終戦に間に合った', '2022年のクラウド株は残酷なスタートとなった パンデミック上位陣への投資家の不評が原因', '株式市場の「最初の5日間」の指標は、2022年に向けてさらなるトラブルが起こることを指し示している', 'ディズニー株 DISは2022年の大型株成長のトップピックである', 'パパ・ジョンズ、PE企業ファウンテンベストと共同で中国での大攻勢を計画', 'ナスダックの下落は、1999-2000年のドットコム時代の記憶を呼び起こす', 'ギルフォイユ シスコの取引戦略', 'ハイテク株ラウンドアップ。アップル株、過去最高の評価額3兆円を記録', '退役軍人の権利に関するリーダーは、パティ・マレー上院議員に対する共和党の挑戦で、前四半期に約100万ドルを稼いだ。', 'カリフォルニア州民がテキサスへ脱出するスピードが速く、U-Haulは彼らのためにトラックを使い果たす：レポート', '12月の雇用統計は、オミクロン急増の前に雇用が加速する見込み', '大腸菌汚染の可能性があるため、複数の州で牛挽肉をリコール', 'パデュー・ファーマは破産計画の却下を訴えることができる']\n"
     ]
    }
   ],
   "source": [
    "japanese_title = list(to_text.split(\"\\n\"))\n",
    "print(japanese_title)"
   ]
  },
  {
   "cell_type": "code",
   "execution_count": 18,
   "metadata": {},
   "outputs": [
    {
     "data": {
      "text/plain": [
       "25"
      ]
     },
     "execution_count": 18,
     "metadata": {},
     "output_type": "execute_result"
    }
   ],
   "source": [
    "len(japanese_title)"
   ]
  },
  {
   "cell_type": "code",
   "execution_count": 19,
   "metadata": {},
   "outputs": [],
   "source": [
    "for i in range(len(articles)):\n",
    "    articles[i][\"japanese_title\"] = japanese_title[i]"
   ]
  },
  {
   "cell_type": "code",
   "execution_count": 20,
   "metadata": {},
   "outputs": [
    {
     "data": {
      "text/plain": [
       "{'title': 'Credit Suisse chairman to be rebuked by board over COVID-19 rule breach - paper',\n",
       " 'pubDate': 'Sat, 08 Jan 2022 09:30:00 GMT',\n",
       " 'source': 'Reuters',\n",
       " 'link': 'https://www.reuters.com/markets/europe/credit-suisse-chairman-be-rebuked-by-board-over-covid-19-rule-breach-paper-2022-01-08/',\n",
       " 'japanese_title': 'クレディ・スイス会長、COVID-19ルール違反で取締役会から叱責される - ペーパー'}"
      ]
     },
     "execution_count": 20,
     "metadata": {},
     "output_type": "execute_result"
    }
   ],
   "source": [
    "articles[0]"
   ]
  },
  {
   "cell_type": "code",
   "execution_count": 23,
   "metadata": {},
   "outputs": [
    {
     "name": "stdout",
     "output_type": "stream",
     "text": [
      "{'title': 'Clock Ticks for U.K. to Ease $24 Billion Jump in Energy Bills', 'pubDate': 'Sat, 08 Jan 2022 07:00:00 GMT', 'source': 'Bloomberg', 'link': 'https://www.bloomberg.com/news/articles/2022-01-08/clock-ticks-for-u-k-to-ease-24-billion-jump-in-energy-bills', 'japanese_title': '英国、240億ドルのエネルギー料金の高騰を緩和するための時計', 'image': ''}\n",
      "{'title': 'Omicron Study in South Africa Points to End of Acute Pandemic Phase', 'pubDate': 'Fri, 07 Jan 2022 15:28:20 GMT', 'source': 'Bloomberg', 'link': 'https://www.bloomberg.com/news/articles/2022-01-07/omicron-may-mark-end-of-pandemic-south-african-researchers-say', 'japanese_title': '南アフリカで行われたオミクロンの研究により、急性期のパンデミックフェーズの終了が示唆される', 'image': ''}\n",
      "{'title': \"The Weekly Fix: From 'Live' To 'Lock'; Real Yields Rattle Stocks\", 'pubDate': 'Fri, 07 Jan 2022 10:00:06 GMT', 'source': 'Bloomberg', 'link': 'https://www.bloomberg.com/news/newsletters/2022-01-07/the-weekly-fix-from-live-to-lock-real-yields-rattle-stocks', 'japanese_title': 'ウィークリーフィックス ライブ」から「ロック」へ、実質利回りが株価を揺るがす', 'image': ''}\n",
      "{'title': 'India on Track to Post World-Beating Growth as Spending Revives', 'pubDate': 'Fri, 07 Jan 2022 12:06:32 GMT', 'source': 'Bloomberg', 'link': 'https://www.bloomberg.com/news/articles/2022-01-07/india-on-track-to-post-world-beating-growth-amid-virus-risks', 'japanese_title': 'インド、消費回復で世界一の成長軌道へ', 'image': ''}\n",
      "{'title': 'Google Glitch Leaves Staffers Without Bank Deposit on Payday', 'pubDate': 'Fri, 07 Jan 2022 21:47:11 GMT', 'source': 'Bloomberg', 'link': 'https://www.bloomberg.com/news/articles/2022-01-07/google-glitch-leaves-some-staff-without-bank-deposit-on-payday', 'japanese_title': 'Googleの不具合で給料日に銀行振り込みができない職員が発生', 'image': ''}\n"
     ]
    }
   ],
   "source": [
    "for article in articles:\n",
    "    url = article[\"link\"]\n",
    "    a = Article(url)\n",
    "    a.download()\n",
    "    a.parse()\n",
    "    top_image = a.top_image\n",
    "    if top_image == \"\":\n",
    "        print(article)\n",
    "    else:\n",
    "        article[\"image\"] = top_image"
   ]
  },
  {
   "cell_type": "code",
   "execution_count": 27,
   "metadata": {},
   "outputs": [],
   "source": [
    "for article in articles:\n",
    "    title = article[\"title\"]\n",
    "    hash_val = hashlib.sha224(title.encode()).hexdigest()\n",
    "    with open(\"./articles/importants/articles.txt\", \"r\") as f:\n",
    "        x = f.read()\n",
    "    hash_li = list(x.split(\"\\n\"))[:-1]\n",
    "    if hash_val not in hash_li:\n",
    "        with open(\"./articles/importants/articles.txt\", \"a\", newline=\"\") as f:\n",
    "            f.write(hash_val+\"\\n\")\n",
    "        doc_ref = db.collection(\"articles\").document()\n",
    "        doc_ref.set({\n",
    "            u\"title\": article[\"title\"],\n",
    "            u\"pubDate\": article[\"pubDate\"],\n",
    "            u\"link\": article[\"link\"],\n",
    "            u\"source\": article[\"source\"],\n",
    "            u\"title_ja\": article[\"japanese_title\"],  \n",
    "        })"
   ]
  },
  {
   "cell_type": "code",
   "execution_count": null,
   "metadata": {},
   "outputs": [],
   "source": []
  },
  {
   "cell_type": "code",
   "execution_count": null,
   "metadata": {},
   "outputs": [],
   "source": []
  }
 ],
 "metadata": {
  "interpreter": {
   "hash": "b0fa6594d8f4cbf19f97940f81e996739fb7646882a419484c72d19e05852a7e"
  },
  "kernelspec": {
   "display_name": "Python 3.9.7 64-bit",
   "language": "python",
   "name": "python3"
  },
  "language_info": {
   "codemirror_mode": {
    "name": "ipython",
    "version": 3
   },
   "file_extension": ".py",
   "mimetype": "text/x-python",
   "name": "python",
   "nbconvert_exporter": "python",
   "pygments_lexer": "ipython3",
   "version": "3.8.10"
  },
  "orig_nbformat": 4
 },
 "nbformat": 4,
 "nbformat_minor": 2
}
